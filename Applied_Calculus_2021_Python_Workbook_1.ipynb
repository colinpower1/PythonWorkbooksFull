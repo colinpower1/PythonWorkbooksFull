{
  "nbformat": 4,
  "nbformat_minor": 0,
  "metadata": {
    "kernelspec": {
      "display_name": "Python 3",
      "language": "python",
      "name": "python3"
    },
    "language_info": {
      "codemirror_mode": {
        "name": "ipython",
        "version": 3
      },
      "file_extension": ".py",
      "mimetype": "text/x-python",
      "name": "python",
      "nbconvert_exporter": "python",
      "pygments_lexer": "ipython3",
      "version": "3.8.3"
    },
    "colab": {
      "name": "Applied Calculus 2021 - Python Workbook 1.ipynb",
      "provenance": []
    }
  },
  "cells": [
    {
      "cell_type": "markdown",
      "metadata": {
        "id": "W_maipvHaGhh"
      },
      "source": [
        "### Name: \n",
        "\n",
        "\n",
        "### Student Number: "
      ]
    },
    {
      "cell_type": "markdown",
      "metadata": {
        "id": "2IPGFaeWaGhk"
      },
      "source": [
        "# Python Workbook 1 - Introduction to Python\n",
        "\n",
        "In this __Jupyter__ workbook we will cover the following topics:\n",
        "\n",
        "* Layout of the Jupyter Notebook environment.\n",
        "\n",
        "\n",
        "* Importing libraries and functions.\n",
        "\n",
        "\n",
        "* Defining our own functions.\n",
        "\n",
        "\n",
        "* Plotting functions."
      ]
    },
    {
      "cell_type": "markdown",
      "metadata": {
        "id": "ZMt3DDTnaGhl"
      },
      "source": [
        "## 1. The Jupyter Notebook Environment\n",
        "\n",
        "* For these practicals we will use the Jupyter notebook environment to write and run all our Python scripts. \n",
        "\n",
        "\n",
        "* The _cells_ in these Jupyter notbeooks will always be either \n",
        "\n",
        "\n",
        "\n",
        "* __Markdown__ (how this cell is written)\n",
        "\n",
        "\n",
        "* __Code__ (see the cell below)"
      ]
    },
    {
      "cell_type": "code",
      "metadata": {
        "id": "cSV2tn8oaGhm"
      },
      "source": [
        "# A Python code cell"
      ],
      "execution_count": null,
      "outputs": []
    },
    {
      "cell_type": "markdown",
      "metadata": {
        "id": "oyGJRY57aGho"
      },
      "source": [
        "* Changing a cell from __Markdown__ to __Code__ or vice-versa can be done through the drop down menu appearing in the tool bar at the top of the Jupyter notebook.\n",
        "\n",
        "\n",
        "* To run a cell of either type, press the keys __Shift+Enter__ together.\n",
        "\n",
        "\n",
        "* To create a __comment__ in a code cell, place a \\# before the text you wish to comment.\n",
        "\n",
        "\n",
        "* To edit a markdown cell, __double-click__ the cell you wish to edit until the source for that cell appears. To return the cell to standard output press __Shift+Enter__.\n",
        "\n",
        "\n",
        "* To create an additional cell in the workbook, go to the __Insert__ tab at the top of the workbook or press the + button.\n",
        "\n",
        "\n",
        "* To remove a cell press the scissors icon in the menu bar."
      ]
    },
    {
      "cell_type": "markdown",
      "metadata": {
        "id": "7KVv8idVaGhq"
      },
      "source": [
        "## 2.1 Importing Libraries\n",
        "\n",
        "* In most of the Jupyter notebooks we will work on, the following three __function libraries__ will be used throughout:\n",
        "\n",
        "    * **matplotlib.pylot** - Used for plotting.\n",
        "\n",
        "    * __sympy__ - Symbolic Python for symbolic representations and calculations.\n",
        "\n",
        "    * __numpy__ - Numerical Python for numerical computations and plotting.\n",
        "\n",
        "\n",
        "* We import these libraries using the command __import__ as in the following code cell. \n",
        "\n",
        "\n",
        "* Hilglight the code cell below, then press __Shift+Enter__ to run these import commands:"
      ]
    },
    {
      "cell_type": "code",
      "metadata": {
        "id": "jL5mCC_FaGhq"
      },
      "source": [
        "import matplotlib.pyplot as plt \n",
        "import numpy as np\n",
        "import sympy as sym"
      ],
      "execution_count": null,
      "outputs": []
    },
    {
      "cell_type": "markdown",
      "metadata": {
        "id": "FzKqozrRaGhr"
      },
      "source": [
        "* When we import these libraries we include the additinal command __as__ to apply a shortened name of our choice to each library.\n",
        "\n",
        "\n",
        "* We do this to avoid having to re-write the full library name each time we want to call a Python function from that library.\n"
      ]
    },
    {
      "cell_type": "markdown",
      "metadata": {
        "id": "wAoSzUVyaGht"
      },
      "source": [
        "## 2.2 Importing Functions\n",
        "\n",
        "* When we need to define our own functions at a later point, it will be useful to have some standard functions already imported, from which we can build our own functions.\n",
        "\n",
        "\n",
        "* In the cell below we will import the following mathematical functions from the __numpy__ library\n",
        "\n",
        "  * __cos__\n",
        "    \n",
        "  * __sin__\n",
        "    \n",
        "  * __tan__\n",
        "  \n",
        "  * __exp__ the Python code for $ e^{x} $\n",
        "    \n",
        "  * __log__ (the Python code for $\\ln(x)$)"
      ]
    },
    {
      "cell_type": "code",
      "metadata": {
        "id": "LQmutUHTaGht"
      },
      "source": [
        "from numpy import cos, sin, tan, exp, log"
      ],
      "execution_count": null,
      "outputs": []
    },
    {
      "cell_type": "markdown",
      "metadata": {
        "id": "RCjv4UdKaGhu"
      },
      "source": [
        "## 3. Defining our own functions\n",
        "### 3.1 Algebraic Functions\n",
        "\n",
        "* Now that we have imported some standard functions from the __numpy__ library, we can use these to define more complicated functions\n",
        "\n",
        "\n",
        "* In the code cell below, we will write a Python function to define the mathematical function\n",
        "\n",
        "$$\n",
        " f(x) = x^2-4x-5\n",
        "$$\n",
        "\n",
        "* Before we do this we note the following sytax\n",
        "\n",
        "    * __Powers__ are _always_ written using __**__ e.g. $4^{5}$ is written as __4**5__ in Python\n",
        "    \n",
        "    * __Multiplication__ is _always_ written using __*__ e.g. $4t$ is written as __4*t__ \n",
        "\n",
        "\n",
        "* The function $f(x)$ above is given by the following Python function"
      ]
    },
    {
      "cell_type": "code",
      "metadata": {
        "id": "GU90AKrXaGhw"
      },
      "source": [
        "def f(x):\n",
        "    f=x**2-4*x-5\n",
        "    return f"
      ],
      "execution_count": null,
      "outputs": []
    },
    {
      "cell_type": "markdown",
      "metadata": {
        "id": "W9zjaV-DaGhx"
      },
      "source": [
        "### Important!\n",
        "\n",
        "#### The colon : and the indentation are essential in this function definition.\n",
        "\n",
        "#### Python is particularly strict about indentation when defining functions. \n",
        "\n",
        "#### Luckily, Jupyter notebook usually does it automatically."
      ]
    },
    {
      "cell_type": "markdown",
      "metadata": {
        "id": "cbnT8lHjaGhx"
      },
      "source": [
        "* We can now use this function to evaluate its numerical value at various values of $x$. For example, the numerical values\n",
        "$$\n",
        " f(0), f(2), f(-9), f(-4), f(200), f(1000000)  \n",
        "$$\n",
        "are given by"
      ]
    },
    {
      "cell_type": "code",
      "metadata": {
        "id": "aW2DAutkaGhy",
        "outputId": "f77191cb-b37b-45c6-feb5-c8cf83d8c94e"
      },
      "source": [
        "f(0), f(2), f(-9), f(-4), f(200), f(1000000)"
      ],
      "execution_count": null,
      "outputs": [
        {
          "output_type": "execute_result",
          "data": {
            "text/plain": [
              "(-5, -9, 112, 27, 39195, 999995999995)"
            ]
          },
          "metadata": {
            "tags": []
          },
          "execution_count": 21
        }
      ]
    },
    {
      "cell_type": "markdown",
      "metadata": {
        "id": "1XAR-ON_aGh0"
      },
      "source": [
        "## Exercise 1:\n",
        "\n",
        "* Create a Python function for the mathematical expression \n",
        "$$\n",
        " g(x) = x^3-4x^2+5x-25\n",
        "$$\n",
        "\n",
        "\n",
        "* Use this Python function to evaluate\n",
        "$$\n",
        "    g(-20), g(-15), g(-5), g(0), g(2), g(8), g(64), g(256), g(512), g(21122112)\n",
        "$$"
      ]
    },
    {
      "cell_type": "code",
      "metadata": {
        "id": "LEiT05QPaGh1"
      },
      "source": [
        ""
      ],
      "execution_count": null,
      "outputs": []
    },
    {
      "cell_type": "markdown",
      "metadata": {
        "id": "DxheOWMMaGh1"
      },
      "source": [
        "## 3.2 Transcendental Functions\n",
        "* We can use some of the mathematical functions we previously imported from __numpy__ to define some more complicated examples of __transecndental functions__\n",
        "\n",
        "\n",
        "* In the cell below, we will create a Python function to represent the mathematical expression\n",
        "$$\n",
        " h(t)=4e^{-t}+\\sin(\\pi t)\n",
        "$$"
      ]
    },
    {
      "cell_type": "code",
      "metadata": {
        "id": "IWdltKpLaGh2"
      },
      "source": [
        "def h(t):\n",
        "    h=4*exp(-t)+sin(np.pi*t)\n",
        "    return h"
      ],
      "execution_count": null,
      "outputs": []
    },
    {
      "cell_type": "markdown",
      "metadata": {
        "id": "2Jc691huaGh3"
      },
      "source": [
        "#### The constant $\\pi=3.141592654$ is called using __np.pi__\n",
        "\n",
        "* When we created this function we had to instruct Python to use the numerical value of $\\pi$ avaialible in the numpy library, and so we called the value as __np.pi__, i.e. from the numpy library call the value pi. \n",
        "\n",
        "\n",
        "* The numerical value of pi in this library is shown by calling it in the code cell below.\n",
        "\n",
        "\n",
        "* If we hadn't previously imported the functions __sin__ and __exp__ we would have had to call each of these as np.sin and np.exp in the Python function above."
      ]
    },
    {
      "cell_type": "code",
      "metadata": {
        "id": "LwwrPH6laGh3",
        "colab": {
          "base_uri": "https://localhost:8080/"
        },
        "outputId": "2bc146da-cb25-497c-96bf-5e9ed6096c65"
      },
      "source": [
        "np.pi"
      ],
      "execution_count": null,
      "outputs": [
        {
          "output_type": "execute_result",
          "data": {
            "text/plain": [
              "3.141592653589793"
            ]
          },
          "metadata": {
            "tags": []
          },
          "execution_count": 4
        }
      ]
    },
    {
      "cell_type": "markdown",
      "metadata": {
        "id": "gcV0_XDLaGh4"
      },
      "source": [
        "* We can now evaluate the values of $h(t)$ at arbitrary values of $t$ in the usual way. For example, the numerical values \n",
        "$$\n",
        "h(-4), h(-2), h(0), h(0.45), h(1.25), h(1.5), h(1.68)\n",
        "$$\n",
        "are given by"
      ]
    },
    {
      "cell_type": "code",
      "metadata": {
        "id": "pUw9-vHUaGh4",
        "outputId": "43f7f066-8266-4f77-f433-f6960f47e544"
      },
      "source": [
        "h(-4), h(-2), h(0), h(0.45), h(1.25), h(1.5), h(1.68)"
      ],
      "execution_count": null,
      "outputs": [
        {
          "output_type": "execute_result",
          "data": {
            "text/plain": [
              "(218.39260013257694,\n",
              " 29.556224395722602,\n",
              " 4.0,\n",
              " 3.5382009470822311,\n",
              " 0.43891240625421291,\n",
              " -0.10747935940628073,\n",
              " -0.098832021344375631)"
            ]
          },
          "metadata": {
            "tags": []
          },
          "execution_count": 24
        }
      ]
    },
    {
      "cell_type": "markdown",
      "metadata": {
        "id": "5YfbT987aGh4"
      },
      "source": [
        "## Exercise 2: \n",
        "\n",
        "* Create a Python function to represent the following\n",
        "$$\n",
        "r(t)=4\\cos(2t)-3\\sin(4t)+3\\cos(6t)+8\\sin(9t)\n",
        "$$\n",
        "\n",
        "* Hence evaluate the following\n",
        "$$\n",
        "    r(-2\\pi), r(0.35\\pi), r(1.98), r(2.56), r(3.15) \n",
        "$$"
      ]
    },
    {
      "cell_type": "code",
      "metadata": {
        "id": "YEmQM-PgcIEn"
      },
      "source": [
        "def r(t):\n",
        "  return 4*cos(2*t)-3*sin(4*t)+3*cos(6*t)+8*sin(9*t)"
      ],
      "execution_count": null,
      "outputs": []
    },
    {
      "cell_type": "code",
      "metadata": {
        "id": "RXKx2qpScRTG",
        "colab": {
          "base_uri": "https://localhost:8080/"
        },
        "outputId": "f495a5a3-fab6-4a6f-eca0-75d247848910"
      },
      "source": [
        "r(-2*np.pi)"
      ],
      "execution_count": null,
      "outputs": [
        {
          "output_type": "execute_result",
          "data": {
            "text/plain": [
              "7.000000000000014"
            ]
          },
          "metadata": {
            "tags": []
          },
          "execution_count": 10
        }
      ]
    },
    {
      "cell_type": "markdown",
      "metadata": {
        "id": "HZDFO9vCaGh4"
      },
      "source": [
        "## 4 Plotting Functions\n",
        "\n",
        "### 4.1 Creating Domains for Plotting\n",
        "\n",
        "\n",
        "* When we have a function $f(x)$, the values of $x$ which we can plug into the function is called the __domain of $f(x)$.__\n",
        "\n",
        "\n",
        "* When we wish to plot a function $f(x)$ we must specify the  __plotting domain__, i.e. the range of values for $x$.\n",
        "\n",
        "\n",
        "* To define such a domain in Python we use the __numpy__ function  __np.linspace(a,b,n)__\n",
        "\n",
        "    * __a__ is the start point of the domain.\n",
        "    \n",
        "    * __b__ is the end point of the domain.\n",
        "    \n",
        "    * __n__ is the number of points the domain should contain overall.\n",
        "\n",
        "\n",
        "\n",
        "* As an example, we  create the domain $-4\\leq x< 5$ using the following "
      ]
    },
    {
      "cell_type": "code",
      "metadata": {
        "id": "IBHhUq8baGh5"
      },
      "source": [
        "x=np.linspace(-4,5,101)"
      ],
      "execution_count": null,
      "outputs": []
    },
    {
      "cell_type": "markdown",
      "metadata": {
        "id": "aF61Ap_1aGh6"
      },
      "source": [
        "* The __101__ appearing as the last argument of the definition above is the __number of points__ in the domain.\n",
        "\n",
        "* It instructs Python to create 101 __evenly spaced__ points between -4 and +5.\n",
        "\n",
        "* We can see this if we call the _vector_ __x__, as in the cell below"
      ]
    },
    {
      "cell_type": "code",
      "metadata": {
        "id": "pXt5WSM8aGh7",
        "outputId": "16b2ff67-a385-4a67-9f97-7248cd067ac8"
      },
      "source": [
        "x"
      ],
      "execution_count": null,
      "outputs": [
        {
          "output_type": "execute_result",
          "data": {
            "text/plain": [
              "array([-4.  , -3.91, -3.82, -3.73, -3.64, -3.55, -3.46, -3.37, -3.28,\n",
              "       -3.19, -3.1 , -3.01, -2.92, -2.83, -2.74, -2.65, -2.56, -2.47,\n",
              "       -2.38, -2.29, -2.2 , -2.11, -2.02, -1.93, -1.84, -1.75, -1.66,\n",
              "       -1.57, -1.48, -1.39, -1.3 , -1.21, -1.12, -1.03, -0.94, -0.85,\n",
              "       -0.76, -0.67, -0.58, -0.49, -0.4 , -0.31, -0.22, -0.13, -0.04,\n",
              "        0.05,  0.14,  0.23,  0.32,  0.41,  0.5 ,  0.59,  0.68,  0.77,\n",
              "        0.86,  0.95,  1.04,  1.13,  1.22,  1.31,  1.4 ,  1.49,  1.58,\n",
              "        1.67,  1.76,  1.85,  1.94,  2.03,  2.12,  2.21,  2.3 ,  2.39,\n",
              "        2.48,  2.57,  2.66,  2.75,  2.84,  2.93,  3.02,  3.11,  3.2 ,\n",
              "        3.29,  3.38,  3.47,  3.56,  3.65,  3.74,  3.83,  3.92,  4.01,\n",
              "        4.1 ,  4.19,  4.28,  4.37,  4.46,  4.55,  4.64,  4.73,  4.82,\n",
              "        4.91,  5.  ])"
            ]
          },
          "metadata": {
            "tags": []
          },
          "execution_count": 30
        }
      ]
    },
    {
      "cell_type": "markdown",
      "metadata": {
        "id": "hlAZCZ-gaGh8"
      },
      "source": [
        "* An array of numbers like this is also called a __vector__."
      ]
    },
    {
      "cell_type": "markdown",
      "metadata": {
        "id": "OmMbaKRYaGh8"
      },
      "source": [
        "### 4.2 Plotting a Function using __Pyplot__"
      ]
    },
    {
      "cell_type": "markdown",
      "metadata": {
        "id": "ZnogIpBWaGh9"
      },
      "source": [
        "* We will now use the function __plot__ from the __matplotlib.pyyplot__ library to plot the functions __f__ and __h__ over the domain __x__.\n",
        "\n",
        "\n",
        "* Since we already imported this library as __plt__ above, we will call this function as __plt.plot__\n",
        "\n",
        "\n",
        "* The plot of __f__ is shown in the cell below"
      ]
    },
    {
      "cell_type": "code",
      "metadata": {
        "id": "WNV8pee1aGh9",
        "outputId": "89e4538e-b60e-4ebf-d984-8aa8c63eea78"
      },
      "source": [
        "plt.plot(x,f(x),color=\"steelblue\", linewidth=2)\n",
        "plt.show();"
      ],
      "execution_count": null,
      "outputs": [
        {
          "output_type": "display_data",
          "data": {
            "image/png": "[encoded data removed]",
            "text/plain": [
              "<matplotlib.figure.Figure at 0x7fc3821ebf28>"
            ]
          },
          "metadata": {
            "tags": []
          }
        }
      ]
    },
    {
      "cell_type": "markdown",
      "metadata": {
        "id": "gUzZ35KCaGh9"
      },
      "source": [
        "* This command performs the following tasks:\n",
        "\n",
        "   * Plot the linspace __x__ on the horizontal axis.\n",
        "\n",
        "   * Evalute __f at each point in the linspace x__ and plot the values on the vertical axis.\n",
        "   \n",
        "   * Use the color __steelblue__  and __linewidth__ 2, when plotting the function.\n",
        "\n",
        "\n",
        "* The plot of the funciton __h__ is given by"
      ]
    },
    {
      "cell_type": "code",
      "metadata": {
        "id": "ahZshca6aGh-",
        "outputId": "36c9b1e1-d6d0-4ae5-8da5-6f188c95d655"
      },
      "source": [
        "plt.plot(x,h(x),color=\"red\", linewidth=4)\n",
        "plt.show()"
      ],
      "execution_count": null,
      "outputs": [
        {
          "output_type": "display_data",
          "data": {
            "image/png": "[encoded data removed]",
            "text/plain": [
              "<matplotlib.figure.Figure at 0x7fc3820e8128>"
            ]
          },
          "metadata": {
            "tags": []
          }
        }
      ]
    },
    {
      "cell_type": "markdown",
      "metadata": {
        "id": "aj6FmG3UaGh_"
      },
      "source": [
        "## Exercise 3:\n",
        "\n",
        "* Plot the function __r(x)__ defined in __Exercise 2__ over the domain $4\\pi\\leq x < 10\\pi$. \n",
        "\n",
        "\n",
        "* Change the color and linewidth of the plot to a colour and width of your choice. \n",
        "\n",
        "\n",
        "* A list of Python colors can be found at \n",
        "\n",
        "__https://matplotlib.org/examples/color/named_colors.html__"
      ]
    },
    {
      "cell_type": "markdown",
      "metadata": {
        "id": "WQtQwVVraGh_"
      },
      "source": [
        "### 4.4 Piecewise Functions"
      ]
    },
    {
      "cell_type": "markdown",
      "metadata": {
        "id": "iI88wrQTaGiA"
      },
      "source": [
        "* During lectrues you will encounter examples of functions like\n",
        "\n",
        "\n",
        "$$\n",
        "p(x)=\\begin{cases}\n",
        "       -x^2+4 \\text{ for } x<4 \\\\\n",
        "       3x+2\\text{ for } x\\geq 4\n",
        "     \\end{cases}\n",
        "$$\n",
        "\n",
        "\n",
        "* Such a function is called a piecewise function, since it is defined over two pieces, one piece for $x<4$ the other piece for $x\\geq 4$\n",
        "\n",
        "\n",
        "* Such a function can be defined in Python using the __if__ command and the __vectorize__ function\n",
        "\n",
        "\n",
        "* The Python code to create the function $p(x)$ above is given by "
      ]
    },
    {
      "cell_type": "code",
      "metadata": {
        "id": "6pAncbiOaGiA"
      },
      "source": [
        "def p(x):\n",
        "    if x<4:\n",
        "        return -x**2+4\n",
        "    if x>=4:\n",
        "        return 3*x+4"
      ],
      "execution_count": null,
      "outputs": []
    },
    {
      "cell_type": "markdown",
      "metadata": {
        "id": "xxHvOVHRaGiA"
      },
      "source": [
        "* We can now evaluate this function in the usual way. \n",
        "\n",
        "\n",
        "* For example, the values\n",
        "$$\n",
        "p(-4), p(-2), p(0), p(4), p(30)\n",
        "$$\n",
        "are given by"
      ]
    },
    {
      "cell_type": "code",
      "metadata": {
        "id": "u0XxTXS_aGiA",
        "outputId": "9c73271e-7d25-4308-8085-92e0b3f176eb"
      },
      "source": [
        "p(-4), p(-2), p(0), p(4), p(30)"
      ],
      "execution_count": null,
      "outputs": [
        {
          "output_type": "execute_result",
          "data": {
            "text/plain": [
              "(-12, 0, 4, 16, 94)"
            ]
          },
          "metadata": {
            "tags": []
          },
          "execution_count": 19
        }
      ]
    },
    {
      "cell_type": "markdown",
      "metadata": {
        "id": "cczFk_24aGiB"
      },
      "source": [
        "### 4.5 Plotting Piecewise Functions\n",
        "\n",
        "* If we want to plot the piecewise function __p__ we just defined, then we must apply the __numpy__ function __vectorize__ to __p__ first.\n",
        "\n",
        "\n",
        "\n",
        "* This is because  __if-statments__ do not work directly on a vector domain like __x__ or on _any_ __np.linspace()__.\n",
        "\n",
        "\n",
        "\n",
        "* We will plot __p__ over the domain $-10\\leq x < 10$, with 1001 evenly spaced points."
      ]
    },
    {
      "cell_type": "code",
      "metadata": {
        "id": "gMSF55Z3aGiC"
      },
      "source": [
        "p=np.vectorize(p)\n",
        "k=np.linspace(-10,10,1001)"
      ],
      "execution_count": null,
      "outputs": []
    },
    {
      "cell_type": "code",
      "metadata": {
        "id": "zQnIAID1aGiC",
        "outputId": "636a703f-6e1b-44d4-b834-e44c67c0ab66"
      },
      "source": [
        "plt.plot(k,p(k),color=\"red\")\n",
        "plt.show()"
      ],
      "execution_count": null,
      "outputs": [
        {
          "output_type": "display_data",
          "data": {
            "image/png": "[encoded data removed]",
            "text/plain": [
              "<matplotlib.figure.Figure at 0x7fc382071e80>"
            ]
          },
          "metadata": {
            "tags": []
          }
        }
      ]
    },
    {
      "cell_type": "markdown",
      "metadata": {
        "id": "Shd8Vzo-aGiD"
      },
      "source": [
        "## Exercise 4\n",
        "* Create a __linspace__ to represent the domain\n",
        "\\\\[-10\\leq x\\leq 10\\\\]\n",
        "with 501 evenly spaced point.\n",
        "\n",
        "\n",
        "\n",
        "\n",
        "* Plot the following piecewise functions over this domain\n",
        "$$\n",
        "R(x)=\\begin{cases}\n",
        "        -x^2+\\sin(4x)\\text{ for }x<-2\\\\\n",
        "                x+4\\cos(2x)\\text{ for }x\\geq -2\n",
        "     \\end{cases}   \n",
        "$$\n",
        "\n",
        "\n",
        "$$\n",
        "G(x)=\\begin{cases}\n",
        "        x^3+4x-5\\text{ for }x\\leq 3\\\\\n",
        "                4x^3\\text{ for }x> 3\n",
        "     \\end{cases}      \n",
        "$$\n",
        "\n",
        "\n",
        "$$\n",
        "H(x)=\\begin{cases}\n",
        "        x^2+4x+4\\text{ for }x\\leq0\\\\\n",
        "        4x\\text{ for }0<x\\leq4\\\\\n",
        "        4x\\sin(2x) \\text{ for } x> 4\n",
        "     \\end{cases}      \n",
        "$$\n"
      ]
    },
    {
      "cell_type": "code",
      "metadata": {
        "collapsed": true,
        "id": "fganjidNaGiE"
      },
      "source": [
        ""
      ],
      "execution_count": null,
      "outputs": []
    }
  ]
}