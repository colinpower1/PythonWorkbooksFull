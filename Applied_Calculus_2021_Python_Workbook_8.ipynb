{
  "nbformat": 4,
  "nbformat_minor": 0,
  "metadata": {
    "anaconda-cloud": {},
    "kernelspec": {
      "display_name": "Python 3",
      "language": "python",
      "name": "python3"
    },
    "language_info": {
      "codemirror_mode": {
        "name": "ipython",
        "version": 3
      },
      "file_extension": ".py",
      "mimetype": "text/x-python",
      "name": "python",
      "nbconvert_exporter": "python",
      "pygments_lexer": "ipython3",
      "version": "3.8.5"
    },
    "colab": {
      "name": "Applied Calculus 2021 - Python Workbook 8.ipynb",
      "provenance": []
    }
  },
  "cells": [
    {
      "cell_type": "markdown",
      "metadata": {
        "id": "bfHiH3IiMb4p"
      },
      "source": [
        "### Name: Colin Power\n",
        "### Student Number: 20088839"
      ]
    },
    {
      "cell_type": "markdown",
      "metadata": {
        "id": "6ZCoHXywMb4y"
      },
      "source": [
        "# Python Workbook 8 - Further Applications Integration\n",
        "\n",
        "# Section 1:  Average Values of Functions\n",
        "\n",
        "* In this work book we will use the integral to evaluate the average value of some function $f(x)$, over some interval $a\\leq x\\leq b$.\n",
        "\n",
        "\n",
        "* Mathematically, we write this avarage as \n",
        "$$\n",
        "\\bar{f}=\\frac{1}{b-a}\\int_{a}^{b}f(x)dx.\n",
        "$$\n",
        "\n",
        "\n",
        "* In Python there are two ways of doing this, either __numerically__ or __symbolically__.\n",
        "\n",
        "\n",
        "* For the time being we will concentrate on the symbolic evaluation of these averages.\n",
        "\n",
        "\n",
        "* To begin, we import the __sympy__ library in the ususal way. We also use the __init_printing__ environment to produce mathematical output when we run Python cells."
      ]
    },
    {
      "cell_type": "code",
      "metadata": {
        "id": "zKAf5rCRMb40"
      },
      "source": [
        "from sympy import *\n",
        "from sympy import init_printing \n",
        "init_printing()"
      ],
      "execution_count": 1,
      "outputs": []
    },
    {
      "cell_type": "markdown",
      "metadata": {
        "id": "nhZNwLcaMb41"
      },
      "source": [
        "## Example 1: \n",
        "\n",
        "Given the function\n",
        "$$\n",
        "f(t)=t^{3}-8t^{2}+t+75\n",
        "$$\n",
        "answer the following:\n",
        "\n",
        "\n",
        "1. Plot the function f(t) over the interval $-5\\leq t\\leq 5$.\n",
        "\n",
        "\n",
        "2. From the plot, determine if the function is __mostly positive__ or __mostly negative__.\n",
        "\n",
        "\n",
        "3. Determine the average value of the function.\n",
        "\n",
        "\n",
        "4. Does this agree with your observation in Part 2."
      ]
    },
    {
      "cell_type": "markdown",
      "metadata": {
        "id": "1Krfl4OfMb42"
      },
      "source": [
        "### Part 1:\n",
        "First we must create a symbolic variable for $t$, and then define the function $f(t)$."
      ]
    },
    {
      "cell_type": "code",
      "metadata": {
        "id": "F8DeAWqLMb43"
      },
      "source": [
        "t=symbols('t')"
      ],
      "execution_count": 7,
      "outputs": []
    },
    {
      "cell_type": "code",
      "metadata": {
        "colab": {
          "base_uri": "https://localhost:8080/",
          "height": 38
        },
        "id": "NmYGeFuWMb43",
        "outputId": "3c925513-b53a-4a0d-9610-667e4df5ebed"
      },
      "source": [
        "f=t**3-8*t**2+t+75\n",
        "f"
      ],
      "execution_count": 8,
      "outputs": [
        {
          "output_type": "execute_result",
          "data": {
            "image/png": "[encoded data removed]",
            "text/latex": "$\\displaystyle t^{3} - 8 t^{2} + t + 75$",
            "text/plain": [
              " 3      2         \n",
              "t  - 8⋅t  + t + 75"
            ]
          },
          "metadata": {
            "tags": []
          },
          "execution_count": 8
        }
      ]
    },
    {
      "cell_type": "markdown",
      "metadata": {
        "id": "1Re5Y4NZMb46"
      },
      "source": [
        "Now we can plot the function $f(t)$ over the interval $-5\\leq t\\leq 5$."
      ]
    },
    {
      "cell_type": "code",
      "metadata": {
        "colab": {
          "base_uri": "https://localhost:8080/",
          "height": 297
        },
        "id": "6xJ12oonMb47",
        "outputId": "ff6cab79-9e99-4828-9928-ad7b6e1f96c9"
      },
      "source": [
        "plot(f,(t,-5,5));"
      ],
      "execution_count": 4,
      "outputs": [
        {
          "output_type": "display_data",
          "data": {
            "image/png": "[encoded data removed]",
            "text/plain": [
              "<Figure size 432x288 with 1 Axes>"
            ]
          },
          "metadata": {
            "tags": [],
            "needs_background": "light"
          }
        }
      ]
    },
    {
      "cell_type": "markdown",
      "metadata": {
        "id": "Nud3fT57Mb48"
      },
      "source": [
        "### Part 2:\n",
        "From the graph it appears the function is __mostly potitive__, the function is positive over a much larger interval than negative."
      ]
    },
    {
      "cell_type": "markdown",
      "metadata": {
        "id": "8eVt_zvgMb48"
      },
      "source": [
        "### Part 3:\n",
        "* We evaluate the average of the function as $\\frac{1}{b-a}\\int_{a}^{b}f(t)dt$, and with $a=-5$ and $b=5$, it follows that \n",
        "\n",
        "\n",
        "$$\n",
        "\\bar{f}=\\frac{1}{5-(-5)}\\int_{-5}^{5}f(t)dt=\\frac{1}{10}\\int_{-5}^{5}f(t)dt.\n",
        "$$\n",
        "\n"
      ]
    },
    {
      "cell_type": "code",
      "metadata": {
        "colab": {
          "base_uri": "https://localhost:8080/",
          "height": 37
        },
        "id": "Aw2SEar6Mb4_",
        "outputId": "d36d6c34-a780-4dd4-ecf9-b399659a2847"
      },
      "source": [
        "a=-5\n",
        "b=5\n",
        "f_bar=(1/(b-a))*integrate(f,(t,a,b))\n",
        "f_bar"
      ],
      "execution_count": 5,
      "outputs": [
        {
          "output_type": "execute_result",
          "data": {
            "image/png": "[encoded data removed]",
            "text/latex": "$\\displaystyle 8.33333333333333$",
            "text/plain": [
              "8.33333333333333"
            ]
          },
          "metadata": {
            "tags": []
          },
          "execution_count": 5
        }
      ]
    },
    {
      "cell_type": "markdown",
      "metadata": {
        "id": "O0fqmLE-Mb5A"
      },
      "source": [
        "### Part 4:\n",
        "\n",
        "Since the function is mostly positive over the interval $-5\\leq t\\leq 5$, the average value of the function should be positive over this interval."
      ]
    },
    {
      "cell_type": "markdown",
      "metadata": {
        "id": "GfErax4BMb5B"
      },
      "source": [
        "## Exercise 1 (from handout 3): \n",
        "\n",
        "The temperature $T$ (measureed in $^{\\circ}$C) at time $t$ is given by\n",
        "$$\n",
        "T(t)=0.001t^{4}-0.28t^{2}+25\n",
        "$$\n",
        "where $t$ is the number of hours from __noon__.\n",
        "\n",
        "Using this, answer the following:\n",
        "\n",
        "1. Plot the function T(t) over the interval $0<t<12$, i.e. between noon and midnight.\n",
        "\n",
        "\n",
        "\n",
        "2. From this plot, estimate if the temperature is mostly positive or mostly negative in this interval.\n",
        "\n",
        "\n",
        "\n",
        "3. Find the average value of the temperature beteween noon and midnight.\n",
        "\n",
        "\n",
        "\n",
        "4. Does this agree with your observation from Part 2."
      ]
    },
    {
      "cell_type": "code",
      "metadata": {
        "id": "B1sdQoX7Mb5B",
        "outputId": "65945d12-ff93-4b16-ac33-3492561e0208",
        "colab": {
          "base_uri": "https://localhost:8080/",
          "height": 38
        }
      },
      "source": [
        "T=0.001*t**4-0.28*t**2+25\n",
        "T"
      ],
      "execution_count": 13,
      "outputs": [
        {
          "output_type": "execute_result",
          "data": {
            "image/png": "[encoded data removed]",
            "text/latex": "$\\displaystyle 0.001 t^{4} - 0.28 t^{2} + 25$",
            "text/plain": [
              "       4         2     \n",
              "0.001⋅t  - 0.28⋅t  + 25"
            ]
          },
          "metadata": {
            "tags": []
          },
          "execution_count": 13
        }
      ]
    },
    {
      "cell_type": "code",
      "metadata": {
        "id": "VE6mvoHMMb5B",
        "outputId": "9a895809-fb50-43ef-e542-a5e782b3d6c3",
        "colab": {
          "base_uri": "https://localhost:8080/",
          "height": 297
        }
      },
      "source": [
        "plot(T,(t,0,12));"
      ],
      "execution_count": 19,
      "outputs": [
        {
          "output_type": "display_data",
          "data": {
            "image/png": "[encoded data removed]",
            "text/plain": [
              "<Figure size 432x288 with 1 Axes>"
            ]
          },
          "metadata": {
            "tags": [],
            "needs_background": "light"
          }
        }
      ]
    },
    {
      "cell_type": "code",
      "metadata": {
        "id": "fqAx4wmjMb5B"
      },
      "source": [
        "#The temperature is mostly positive as seen in the graph above."
      ],
      "execution_count": 15,
      "outputs": []
    },
    {
      "cell_type": "code",
      "metadata": {
        "id": "9ae6FFkSMb5C",
        "outputId": "f7bddef1-3c08-4b70-e373-00303fc7d3e4",
        "colab": {
          "base_uri": "https://localhost:8080/",
          "height": 37
        }
      },
      "source": [
        "a=0\n",
        "b=12\n",
        "f_bar=(1/(b-a))*integrate(T,(t,a,b))\n",
        "f_bar"
      ],
      "execution_count": 20,
      "outputs": [
        {
          "output_type": "execute_result",
          "data": {
            "image/png": "[encoded data removed]",
            "text/latex": "$\\displaystyle 15.7072$",
            "text/plain": [
              "15.7072000000000"
            ]
          },
          "metadata": {
            "tags": []
          },
          "execution_count": 20
        }
      ]
    },
    {
      "cell_type": "code",
      "metadata": {
        "id": "T3dsO3DpZ45Z"
      },
      "source": [
        "#The above temperature does agree with my estimations."
      ],
      "execution_count": null,
      "outputs": []
    },
    {
      "cell_type": "markdown",
      "metadata": {
        "id": "eYBlILF5Mb5C"
      },
      "source": [
        "## The Root Mean Square (RMS) of a function\n",
        "\n",
        "* Given a function $f(t)$, the __RMS__ of this function, over the time interval $a<t<b$ is given by:\n",
        "$$\n",
        "RMS(f(t))=\\sqrt{\\frac{1}{b-a}\\int f(t)^2dt}\n",
        "$$\n",
        "\n",
        "* This is an important type of average, especially in relation to electronics and elictrical supply."
      ]
    },
    {
      "cell_type": "markdown",
      "metadata": {
        "id": "yyMTTIbqMb5C"
      },
      "source": [
        "## Example 2 - RMS of a sinusoid\n",
        "\n",
        "Given by the function\n",
        "$$\n",
        "  g(t) = 400\\sin(250\\pi t),\n",
        "$$\n",
        " \n",
        "answer the following:\n",
        "1. Plot this function of the time interval $0\\leq t\\leq 0.016$\n",
        "\n",
        "\n",
        "2. Find the average value of this function over this time interval, as we did in __Exercise 1__.\n",
        "\n",
        "\n",
        "3. Find the RMS of this over the time interval.\n",
        "\n",
        "\n",
        "4. Confirm that this RMS is equivalent to $\\frac{400}{\\sqrt{2}}$"
      ]
    },
    {
      "cell_type": "markdown",
      "metadata": {
        "id": "unM1aoUoMb5D"
      },
      "source": [
        "### Part 1:\n",
        "Defining the function we have "
      ]
    },
    {
      "cell_type": "code",
      "metadata": {
        "id": "6DHWCOVzMb5D"
      },
      "source": [
        "g=400*sin(250*pi*t)"
      ],
      "execution_count": 21,
      "outputs": []
    },
    {
      "cell_type": "markdown",
      "metadata": {
        "id": "UVBp4YJIMb5E"
      },
      "source": [
        "* We can now plot the temperaature as a function of $t$, over the time interval $0<t<0.016$:"
      ]
    },
    {
      "cell_type": "code",
      "metadata": {
        "colab": {
          "base_uri": "https://localhost:8080/",
          "height": 297
        },
        "id": "7QoR2sLYMb5E",
        "outputId": "67e908b8-c83f-42ce-c7c9-afa6f8839c10"
      },
      "source": [
        "plot(g,(t,0,0.016));"
      ],
      "execution_count": 22,
      "outputs": [
        {
          "output_type": "display_data",
          "data": {
            "image/png": "[encoded data removed]",
            "text/plain": [
              "<Figure size 432x288 with 1 Axes>"
            ]
          },
          "metadata": {
            "tags": [],
            "needs_background": "light"
          }
        }
      ]
    },
    {
      "cell_type": "markdown",
      "metadata": {
        "id": "HSXPzc1vMb5F"
      },
      "source": [
        "* From the graph we see that function is negative just as often as it is positive, so we should expect its average to be zero.\n",
        "\n",
        "\n",
        "\n",
        "* In other word, half of the area is above the $x$-axis and hald the area is below the $x$-axis."
      ]
    },
    {
      "cell_type": "markdown",
      "metadata": {
        "id": "wqbI0wN2Mb5F"
      },
      "source": [
        "### Part 2:\n",
        "\n",
        "* Finding the average of the function over the time interval we have "
      ]
    },
    {
      "cell_type": "code",
      "metadata": {
        "colab": {
          "base_uri": "https://localhost:8080/",
          "height": 37
        },
        "id": "dxdnfYwQMb5G",
        "outputId": "725d12f9-ea31-46d7-b0a7-4dac2be546ae"
      },
      "source": [
        "a=0\n",
        "b=0.016\n",
        "g_bar=1/(b-a)*integrate(g,(t,a,b))\n",
        "g_bar"
      ],
      "execution_count": 23,
      "outputs": [
        {
          "output_type": "execute_result",
          "data": {
            "image/png": "[encoded data removed]",
            "text/latex": "$\\displaystyle 0$",
            "text/plain": [
              "0"
            ]
          },
          "metadata": {
            "tags": []
          },
          "execution_count": 23
        }
      ]
    },
    {
      "cell_type": "markdown",
      "metadata": {
        "id": "UQ4o-m2oMb5G"
      },
      "source": [
        "### Part 3\n",
        "\n",
        "* We find the __RMS__ of the function as follows:"
      ]
    },
    {
      "cell_type": "code",
      "metadata": {
        "colab": {
          "base_uri": "https://localhost:8080/",
          "height": 37
        },
        "id": "QmvHT3ZDMb5H",
        "outputId": "a69e3a5e-5c6b-4151-deff-ac2f329404e4"
      },
      "source": [
        "a=0\n",
        "b=0.016\n",
        "RMS_g=sqrt((1.0/(b-a))*integrate(g**2,(t,a,b)))\n",
        "RMS_g"
      ],
      "execution_count": 24,
      "outputs": [
        {
          "output_type": "execute_result",
          "data": {
            "image/png": "[encoded data removed]",
            "text/latex": "$\\displaystyle 282.842712474619$",
            "text/plain": [
              "282.842712474619"
            ]
          },
          "metadata": {
            "tags": []
          },
          "execution_count": 24
        }
      ]
    },
    {
      "cell_type": "markdown",
      "metadata": {
        "id": "NFoo0KAdMb5H"
      },
      "source": [
        "### Part 4\n",
        "\n",
        "* Comparing with $\\frac{400}{\\sqrt{2}}$ we have"
      ]
    },
    {
      "cell_type": "code",
      "metadata": {
        "colab": {
          "base_uri": "https://localhost:8080/",
          "height": 37
        },
        "id": "nl2WTlE-Mb5H",
        "outputId": "ed94af69-2d7e-4f6d-e1bd-417dbf2bb1c9"
      },
      "source": [
        "400/sqrt(2).evalf()"
      ],
      "execution_count": 25,
      "outputs": [
        {
          "output_type": "execute_result",
          "data": {
            "image/png": "[encoded data removed]",
            "text/latex": "$\\displaystyle 282.842712474619$",
            "text/plain": [
              "282.842712474619"
            ]
          },
          "metadata": {
            "tags": []
          },
          "execution_count": 25
        }
      ]
    },
    {
      "cell_type": "markdown",
      "metadata": {
        "id": "ZJbGYQd1Mb5I"
      },
      "source": [
        "#### Reamark on $\\text{RMS}(A\\sin(kt))$\n",
        "\n",
        "\n",
        "* When we take the __RMS__ of a function like $A\\sin(kt)$ or $A\\cos(kt)$, where $A$ and $k$ are conatants, we always end up with the answer $\\frac{A}{\\sqrt{2}}$.\n",
        "\n",
        "\n",
        "\n",
        "* This is a general property of the trigonometric functions $\\cos$ and $\\sin$, and has nothing to do with the values of $A$ or $k$."
      ]
    },
    {
      "cell_type": "markdown",
      "metadata": {
        "id": "tgYbq4ReMb5I"
      },
      "source": [
        "## Exercise 2\n",
        "\n",
        "The electricity voltage delivered to a house in Ireland is given by the function\n",
        "$$\n",
        "    V(t) = 220\\sin(50t)\n",
        "$$\n",
        "\n",
        "1. Plot the function $V(t)$ and from the graph estimate the __mean__ of this voltage over $0<t<\\frac{\\pi}{25}$.\n",
        "\n",
        "\n",
        "2. Find the mean value of this voltage over the time interval given.\n",
        "\n",
        "\n",
        "3. Find the RMS of this voltage of this voltage over the time given.\n",
        "\n",
        "\n",
        "4. Confirm that this RMS is equal to $\\frac{220}{\\sqrt{2}}$."
      ]
    },
    {
      "cell_type": "code",
      "metadata": {
        "id": "PpqE9is2Mb5I",
        "outputId": "9215b3b5-73a0-4df0-a8c1-dde730e80723",
        "colab": {
          "base_uri": "https://localhost:8080/",
          "height": 38
        }
      },
      "source": [
        "V=220*sin(50*t)\n",
        "V"
      ],
      "execution_count": 26,
      "outputs": [
        {
          "output_type": "execute_result",
          "data": {
            "image/png": "[encoded data removed]",
            "text/latex": "$\\displaystyle 220 \\sin{\\left(50 t \\right)}$",
            "text/plain": [
              "220⋅sin(50⋅t)"
            ]
          },
          "metadata": {
            "tags": []
          },
          "execution_count": 26
        }
      ]
    },
    {
      "cell_type": "code",
      "metadata": {
        "id": "ivzHuLGAMb5J",
        "outputId": "006ca145-242f-45ab-86d6-0f57f9158d45",
        "colab": {
          "base_uri": "https://localhost:8080/",
          "height": 297
        }
      },
      "source": [
        "plot(V,(t,1, -0.8743362939));"
      ],
      "execution_count": 29,
      "outputs": [
        {
          "output_type": "display_data",
          "data": {
            "image/png": "[encoded data removed]",
            "text/plain": [
              "<Figure size 432x288 with 1 Axes>"
            ]
          },
          "metadata": {
            "tags": [],
            "needs_background": "light"
          }
        }
      ]
    },
    {
      "cell_type": "code",
      "metadata": {
        "id": "gGsSQPM8Mb5J",
        "outputId": "cbf89881-cb09-41c4-d152-a1fab811e133",
        "colab": {
          "base_uri": "https://localhost:8080/",
          "height": 37
        }
      },
      "source": [
        "a=-0.8743362939\n",
        "b=1\n",
        "V_bar=1/(b-a)*integrate(V,(t,a,b))\n",
        "V_bar"
      ],
      "execution_count": 31,
      "outputs": [
        {
          "output_type": "execute_result",
          "data": {
            "image/png": "[encoded data removed]",
            "text/latex": "$\\displaystyle 2.26525546226661 - 2.34749762586348 \\cos{\\left(50 \\right)}$",
            "text/plain": [
              "2.26525546226661 - 2.34749762586348⋅cos(50)"
            ]
          },
          "metadata": {
            "tags": []
          },
          "execution_count": 31
        }
      ]
    },
    {
      "cell_type": "code",
      "metadata": {
        "id": "V21VkzHCMb5J",
        "outputId": "01dbaa66-f102-4f97-ef78-d08f189fa03f",
        "colab": {
          "base_uri": "https://localhost:8080/",
          "height": 39
        }
      },
      "source": [
        "a=-0.8743362939\n",
        "b=1\n",
        "RMS_V=sqrt((1.0/(b-a))*integrate(V**2,(t,a,b)))\n",
        "RMS_V"
      ],
      "execution_count": 32,
      "outputs": [
        {
          "output_type": "execute_result",
          "data": {
            "image/png": "[encoded data removed]",
            "text/latex": "$\\displaystyle \\sqrt{- 258.224738844983 \\sin{\\left(50 \\right)} \\cos{\\left(50 \\right)} + 24265.3780672325}$",
            "text/plain": [
              "  ______________________________________________________\n",
              "╲╱ -258.224738844983⋅sin(50)⋅cos(50) + 24265.3780672325 "
            ]
          },
          "metadata": {
            "tags": []
          },
          "execution_count": 32
        }
      ]
    },
    {
      "cell_type": "code",
      "metadata": {
        "id": "tpUQNU5fcq7K",
        "outputId": "9e6765f2-8fcc-4e90-d77c-dc894e80dc55",
        "colab": {
          "base_uri": "https://localhost:8080/",
          "height": 37
        }
      },
      "source": [
        "220/sqrt(2).evalf()"
      ],
      "execution_count": 33,
      "outputs": [
        {
          "output_type": "execute_result",
          "data": {
            "image/png": "[encoded data removed]",
            "text/latex": "$\\displaystyle 155.56349186104$",
            "text/plain": [
              "155.563491861040"
            ]
          },
          "metadata": {
            "tags": []
          },
          "execution_count": 33
        }
      ]
    },
    {
      "cell_type": "code",
      "metadata": {
        "id": "msfAXXedcq3J"
      },
      "source": [
        ""
      ],
      "execution_count": null,
      "outputs": []
    },
    {
      "cell_type": "markdown",
      "metadata": {
        "id": "UyBkC5fmMb5K"
      },
      "source": [
        "# Section 2: Numerical Integration - The Trapezoidal Rule\n",
        "\n",
        "* The integral of a function $f(x)$, over the interval $a\\leq x\\leq b$, according to the __trapezoidal rule__ is given by\n",
        "\n",
        "\n",
        "$$\n",
        "\\int_{a}^{b}f(x)dx= \\frac{h}{2}[y_0+y_n+2(y_1+y_2+y_3+\\ldots+y_{n-1})]\n",
        "$$\n",
        "\n",
        "\n",
        "* Here the parameters are given by\n",
        "\n",
        "__$n$__ The number of steps in the integration.\n",
        "\n",
        "\n",
        "\n",
        "__$h$__ The stepsize of the integration, given by $h=\\frac{b-a}{n}$\n",
        "\n",
        "\n",
        "__$y_n$__ The value of the function at $x_n=x_0+nh$, i.e. $y_{n}=f(x_n)$ "
      ]
    },
    {
      "cell_type": "markdown",
      "metadata": {
        "id": "_eNIXq-yMb5K"
      },
      "source": [
        "## Example 3\n",
        "\n",
        "Integrate the following function, over the interval $0\\leq x\\leq 5$, using the trapezoidal rule with $n=11$ evaluation points:\n",
        "\n",
        "$$\n",
        "    P(x) = 1+x^2.\n",
        "$$\n"
      ]
    },
    {
      "cell_type": "markdown",
      "metadata": {
        "id": "H9kVZfs-Mb5K"
      },
      "source": [
        "### Part 1:\n",
        "\n",
        "* Define the function"
      ]
    },
    {
      "cell_type": "code",
      "metadata": {
        "id": "5y3aOpO9Mb5L"
      },
      "source": [
        "def P(x):\n",
        "    return 1+x**2"
      ],
      "execution_count": 34,
      "outputs": []
    },
    {
      "cell_type": "markdown",
      "metadata": {
        "id": "ZQ5ae74uMb5L"
      },
      "source": [
        "### Part 2:\n",
        "* To integrate this function numerically, we need to import the __numpy__ library in the usual way:"
      ]
    },
    {
      "cell_type": "code",
      "metadata": {
        "id": "VGJroAchMb5L"
      },
      "source": [
        "import numpy as np\n",
        "from numpy import cos, sin, exp, log, tan, pi\n",
        "import matplotlib.pyplot as plt"
      ],
      "execution_count": 35,
      "outputs": []
    },
    {
      "cell_type": "markdown",
      "metadata": {
        "id": "8Y8TEOqRMb5L"
      },
      "source": [
        "* We have also imported several useful functions from the __numpy__ library.\n",
        "\n",
        "\n",
        "* We import __matplotlib.pyplot__ to create plots of what we are doing along the way."
      ]
    },
    {
      "cell_type": "markdown",
      "metadata": {
        "id": "ipASLJM0Mb5L"
      },
      "source": [
        "### Import __trapz__ from numpy"
      ]
    },
    {
      "cell_type": "markdown",
      "metadata": {
        "id": "jve3EVY7Mb5M"
      },
      "source": [
        "* We can use the __trapz__ function from the __numpy__ library to calculate integrals using the trapezoidal rule automaically!!"
      ]
    },
    {
      "cell_type": "code",
      "metadata": {
        "id": "k2BCa9nIMb5M"
      },
      "source": [
        "from numpy import trapz # No need to import again once this cell has been run once!!"
      ],
      "execution_count": 36,
      "outputs": []
    },
    {
      "cell_type": "markdown",
      "metadata": {
        "id": "aU_0u72lMb5M"
      },
      "source": [
        "### Create the $x$-space for the integral\n",
        "\n",
        "* Since we are integrating along $0\\leq x\\leq 4$ using $n=5$ points, we create the following __linspace__ for the integral:"
      ]
    },
    {
      "cell_type": "code",
      "metadata": {
        "colab": {
          "base_uri": "https://localhost:8080/"
        },
        "id": "tlAmwV86Mb5N",
        "outputId": "7db3de6e-2669-4ef7-b490-824424d91b30"
      },
      "source": [
        "X=np.linspace(0,4,5)\n",
        "X"
      ],
      "execution_count": 37,
      "outputs": [
        {
          "output_type": "execute_result",
          "data": {
            "text/plain": [
              "array([0., 1., 2., 3., 4.])"
            ]
          },
          "metadata": {
            "tags": []
          },
          "execution_count": 37
        }
      ]
    },
    {
      "cell_type": "markdown",
      "metadata": {
        "id": "s-S4SWWuMb5N"
      },
      "source": [
        "### Evaluating the functions on the __linspace__"
      ]
    },
    {
      "cell_type": "markdown",
      "metadata": {
        "id": "Iz9VYx-xMb5N"
      },
      "source": [
        "* The function evaluated on this __linspace__ is given by"
      ]
    },
    {
      "cell_type": "code",
      "metadata": {
        "colab": {
          "base_uri": "https://localhost:8080/"
        },
        "id": "n2RmqSNCMb5O",
        "outputId": "a0afbcd4-5e25-4479-eab0-3f86d3a1438b"
      },
      "source": [
        "P(X)"
      ],
      "execution_count": 38,
      "outputs": [
        {
          "output_type": "execute_result",
          "data": {
            "text/plain": [
              "array([ 1.,  2.,  5., 10., 17.])"
            ]
          },
          "metadata": {
            "tags": []
          },
          "execution_count": 38
        }
      ]
    },
    {
      "cell_type": "markdown",
      "metadata": {
        "id": "0j-Www3uMb5P"
      },
      "source": [
        "* This returns the square of each value in the __linspace  X__\n",
        "\n",
        "\n",
        "* We plot these values as follows"
      ]
    },
    {
      "cell_type": "code",
      "metadata": {
        "colab": {
          "base_uri": "https://localhost:8080/",
          "height": 283
        },
        "id": "jHcnWvFhMb5P",
        "outputId": "8ea6cfa3-6f9b-489a-f063-6aab6d8627d2"
      },
      "source": [
        "plt.plot(X,P(X),'o',color='red')"
      ],
      "execution_count": 39,
      "outputs": [
        {
          "output_type": "execute_result",
          "data": {
            "text/plain": [
              "[<matplotlib.lines.Line2D at 0x7efedafa9d90>]"
            ]
          },
          "metadata": {
            "tags": []
          },
          "execution_count": 39
        },
        {
          "output_type": "display_data",
          "data": {
            "image/png": "[encoded data removed]",
            "text/plain": [
              "<Figure size 432x288 with 1 Axes>"
            ]
          },
          "metadata": {
            "tags": [],
            "needs_background": "light"
          }
        }
      ]
    },
    {
      "cell_type": "markdown",
      "metadata": {
        "id": "bHA9f8_-Mb5P"
      },
      "source": [
        "* We use __'o'__ in the plot function to indicate we want to use closed dots to represent the data values.\n",
        "\n",
        "\n",
        "\n",
        "* Other markers include __'+'__, __'v'__, __'s'__, __'d'__ among many others. "
      ]
    },
    {
      "cell_type": "markdown",
      "metadata": {
        "id": "vow214ZCMb5Q"
      },
      "source": [
        "## Integrating on the linspace"
      ]
    },
    {
      "cell_type": "markdown",
      "metadata": {
        "id": "uzKB2qFXMb5Q"
      },
      "source": [
        "* We can integrate this using the trapezoidal rule as follows:"
      ]
    },
    {
      "cell_type": "code",
      "metadata": {
        "colab": {
          "base_uri": "https://localhost:8080/",
          "height": 37
        },
        "id": "FJHi4PGyMb5Q",
        "outputId": "19f7ba3f-3457-4ab7-e8b3-feaca7021499"
      },
      "source": [
        "trapz(P(X),X)"
      ],
      "execution_count": 40,
      "outputs": [
        {
          "output_type": "execute_result",
          "data": {
            "image/png": "[encoded data removed]",
            "text/latex": "$\\displaystyle 26.0$",
            "text/plain": [
              "26.0"
            ]
          },
          "metadata": {
            "tags": []
          },
          "execution_count": 40
        }
      ]
    },
    {
      "cell_type": "markdown",
      "metadata": {
        "id": "OhSr0nfKMb5R"
      },
      "source": [
        "* This gives 2 times each value $X_1$, $X_2$ and $X_3$, while it gives only 1 times the values $X_{0}$ and $X_{4}$. This sum is then mutiplied by  half the stepsize.\n",
        "\n",
        "\n",
        "* In the figure below we illustrate what we have done graphically:"
      ]
    },
    {
      "cell_type": "code",
      "metadata": {
        "colab": {
          "base_uri": "https://localhost:8080/",
          "height": 283
        },
        "id": "hqWOZbp7Mb5S",
        "outputId": "b2c780e9-7352-4cc8-d93c-ab5caaa8f569"
      },
      "source": [
        "plt.plot(X,P(X),'o',color='red')\n",
        "plt.vlines(X,ymin=0,ymax=P(X))\n",
        "plt.plot(X,P(X))"
      ],
      "execution_count": 41,
      "outputs": [
        {
          "output_type": "execute_result",
          "data": {
            "text/plain": [
              "[<matplotlib.lines.Line2D at 0x7efedaed0f90>]"
            ]
          },
          "metadata": {
            "tags": []
          },
          "execution_count": 41
        },
        {
          "output_type": "display_data",
          "data": {
            "image/png": "[encoded data removed]",
            "text/plain": [
              "<Figure size 432x288 with 1 Axes>"
            ]
          },
          "metadata": {
            "tags": [],
            "needs_background": "light"
          }
        }
      ]
    },
    {
      "cell_type": "markdown",
      "metadata": {
        "id": "2m9yrAlrMb5S"
      },
      "source": [
        "* What we are doing numerically is calculating the areas of each of the trapezoids shown above.\n",
        "\n",
        "\n",
        "\n",
        "* The __First Trapezoid__ has heights __P(0)__, __P(1)__ and width __h__ so \n",
        "\n",
        "$$\n",
        "\\mathrm{Area}_1=h\\cdot\\frac{P(0)+P(1)}{2}.\n",
        "$$\n",
        "\n",
        "\n",
        "* The __Second Trapezoid__ has heights __P(1)__, __P(X[2])__ and width __h__ so \n",
        "$$\n",
        "\\mathrm{Area}_2=h\\cdot\\frac{P(X[1])+P(X[2])}{2}.\n",
        "$$\n",
        "\n",
        "\n",
        "* The __Third Trapezoid__ has heights __P(X[2])__, __P(X[3])__ and width __h__ so \n",
        "$$\n",
        "\\mathrm{Area}_3=h\\cdot\\frac{P(X[2])+P(X[3])}{2}.\n",
        "$$\n",
        "\n",
        "\n",
        "* The __Fourth Trapezoid__ has heights __P(X[3])__, __P(X[4])__ and width __h__ so \n",
        "$$\n",
        "\\mathrm{Area}_4=h\\cdot\\frac{P(X[3])+P(X[4])}{2}.\n",
        "$$\n",
        "\n",
        "\n",
        "* Hence the __total area__ is just the sum of these areas, given by\n",
        "$$\n",
        "\\begin{aligned}\n",
        "\\mathrm{Area}&=\\frac{h}{2}\\left[P(X[0])+2P(X[1])+2P(X[2])+2P(X[3])+P(X[4])\\right]\\\\\n",
        "             &=\\frac{h}{2}\\left[2\\{P(X[0])+P(X[1])+P(X[2])+P(X[3])+P(X[3])+P(X[4])\\}-P(X[0])-P(X[4])\\right]\\\\\n",
        "             &=\\frac{h}{2}\\left[2\\Sigma(P(X))-P(X[0])-P(X[4])\\right].\n",
        "\\end{aligned}\n",
        "$$\n"
      ]
    },
    {
      "cell_type": "markdown",
      "metadata": {
        "id": "LvXXyAnrMb5S"
      },
      "source": [
        "## Improving the answer\n",
        "\n",
        "* The smaller we make the step size __h__, or equivalently, the larger we make **n**, then the better our answer will be.\n",
        "\n",
        "\n",
        "* To see this, we evaluate the same integral using __n=51__ evaluation points:"
      ]
    },
    {
      "cell_type": "code",
      "metadata": {
        "id": "LL7Eaf-HMb5T"
      },
      "source": [
        "X=np.linspace(0,4,51)"
      ],
      "execution_count": 42,
      "outputs": []
    },
    {
      "cell_type": "code",
      "metadata": {
        "colab": {
          "base_uri": "https://localhost:8080/"
        },
        "id": "rvHOufNrMb5T",
        "outputId": "4594823e-59cd-40bd-efd1-7050ceda1f42"
      },
      "source": [
        "P(X)"
      ],
      "execution_count": 43,
      "outputs": [
        {
          "output_type": "execute_result",
          "data": {
            "text/plain": [
              "array([ 1.    ,  1.0064,  1.0256,  1.0576,  1.1024,  1.16  ,  1.2304,\n",
              "        1.3136,  1.4096,  1.5184,  1.64  ,  1.7744,  1.9216,  2.0816,\n",
              "        2.2544,  2.44  ,  2.6384,  2.8496,  3.0736,  3.3104,  3.56  ,\n",
              "        3.8224,  4.0976,  4.3856,  4.6864,  5.    ,  5.3264,  5.6656,\n",
              "        6.0176,  6.3824,  6.76  ,  7.1504,  7.5536,  7.9696,  8.3984,\n",
              "        8.84  ,  9.2944,  9.7616, 10.2416, 10.7344, 11.24  , 11.7584,\n",
              "       12.2896, 12.8336, 13.3904, 13.96  , 14.5424, 15.1376, 15.7456,\n",
              "       16.3664, 17.    ])"
            ]
          },
          "metadata": {
            "tags": []
          },
          "execution_count": 43
        }
      ]
    },
    {
      "cell_type": "code",
      "metadata": {
        "colab": {
          "base_uri": "https://localhost:8080/",
          "height": 283
        },
        "id": "Ezp4JRgSMb5T",
        "outputId": "01bba2e3-c998-479d-bbc2-62e4c9de310c"
      },
      "source": [
        "plt.plot(X,P(X),'.',color='red')\n",
        "plt.vlines(X,ymin=0,ymax=P(X))\n",
        "plt.plot(X,P(X))"
      ],
      "execution_count": 44,
      "outputs": [
        {
          "output_type": "execute_result",
          "data": {
            "text/plain": [
              "[<matplotlib.lines.Line2D at 0x7efedae4ff90>]"
            ]
          },
          "metadata": {
            "tags": []
          },
          "execution_count": 44
        },
        {
          "output_type": "display_data",
          "data": {
            "image/png": "[encoded data removed]",
            "text/plain": [
              "<Figure size 432x288 with 1 Axes>"
            ]
          },
          "metadata": {
            "tags": [],
            "needs_background": "light"
          }
        }
      ]
    },
    {
      "cell_type": "markdown",
      "metadata": {
        "id": "r5YdGui1Mb5U"
      },
      "source": [
        "* The trapesoidal rule gives the area above as follows:"
      ]
    },
    {
      "cell_type": "code",
      "metadata": {
        "colab": {
          "base_uri": "https://localhost:8080/",
          "height": 37
        },
        "id": "O2my6cnLMb5U",
        "outputId": "80970957-4654-498e-8dcd-cd3aa461c8c6"
      },
      "source": [
        "trapz(P(X),X)"
      ],
      "execution_count": 45,
      "outputs": [
        {
          "output_type": "execute_result",
          "data": {
            "image/png": "[encoded data removed]",
            "text/latex": "$\\displaystyle 25.3376$",
            "text/plain": [
              "25.337600000000002"
            ]
          },
          "metadata": {
            "tags": []
          },
          "execution_count": 45
        }
      ]
    },
    {
      "cell_type": "markdown",
      "metadata": {
        "id": "ll4-1rUvMb5U"
      },
      "source": [
        "## The exact answer \n",
        "\n",
        "* Since the function is simple to integrate in this case, we can also get an exact answer symbolically.\n",
        "\n",
        "\n",
        "* The exact answer we seek is:"
      ]
    },
    {
      "cell_type": "code",
      "metadata": {
        "colab": {
          "base_uri": "https://localhost:8080/",
          "height": 37
        },
        "id": "M1HP2gU1Mb5V",
        "outputId": "c99ef607-ac4e-4e63-e99c-40c9d08b9424"
      },
      "source": [
        "x=symbols('x')\n",
        "integrate(1+x**2,(x,0,4)).evalf()"
      ],
      "execution_count": 46,
      "outputs": [
        {
          "output_type": "execute_result",
          "data": {
            "image/png": "[encoded data removed]",
            "text/latex": "$\\displaystyle 25.3333333333333$",
            "text/plain": [
              "25.3333333333333"
            ]
          },
          "metadata": {
            "tags": []
          },
          "execution_count": 46
        }
      ]
    },
    {
      "cell_type": "markdown",
      "metadata": {
        "id": "52J0wddiMb5V"
      },
      "source": [
        "* It is clear that with __n=51__ then the answer we get is fairly accurate.\n",
        "\n",
        "* If we make __n__ even bigger then we will get an even more accuarte answer."
      ]
    },
    {
      "cell_type": "markdown",
      "metadata": {
        "id": "8d6wuWQ5Mb5V"
      },
      "source": [
        "## Exercise 3\n",
        "\n",
        "Integrate the following function, over the interval $0\\leq x\\leq 2\\pi$, using the methods given below: \n",
        "\n",
        "$$\n",
        "    Q(r) = \\sin(r^2)\n",
        "$$\n",
        "\n",
        "1. Integrate using the trapezoidal rule with $n=15$.\n",
        "\n",
        "\n",
        "2. Integrate using the trapezoidal rule with $n=75$.\n",
        "\n",
        "\n",
        "3. Create __two__ plots to represent __both__ of these numerical integrals."
      ]
    },
    {
      "cell_type": "code",
      "metadata": {
        "id": "_ZlZUmvEN2qq"
      },
      "source": [
        "def Q(r):\n",
        "  return sin(r**2)"
      ],
      "execution_count": 47,
      "outputs": []
    },
    {
      "cell_type": "code",
      "metadata": {
        "id": "M51VlMHTPHa6",
        "outputId": "4cc69f36-2b6d-4599-f962-90f3dca25040",
        "colab": {
          "base_uri": "https://localhost:8080/"
        }
      },
      "source": [
        "X=np.linspace(0,2*np.pi,15)\n",
        "X"
      ],
      "execution_count": 50,
      "outputs": [
        {
          "output_type": "execute_result",
          "data": {
            "text/plain": [
              "array([0.        , 0.44879895, 0.8975979 , 1.34639685, 1.7951958 ,\n",
              "       2.24399475, 2.6927937 , 3.14159265, 3.5903916 , 4.03919055,\n",
              "       4.48798951, 4.93678846, 5.38558741, 5.83438636, 6.28318531])"
            ]
          },
          "metadata": {
            "tags": []
          },
          "execution_count": 50
        }
      ]
    },
    {
      "cell_type": "code",
      "metadata": {
        "id": "qjSFBy0RPHdk",
        "outputId": "5e591350-b63d-4a84-94cf-165a963acb4b",
        "colab": {
          "base_uri": "https://localhost:8080/"
        }
      },
      "source": [
        "Q(X)"
      ],
      "execution_count": 51,
      "outputs": [
        {
          "output_type": "execute_result",
          "data": {
            "text/plain": [
              "array([ 0.        ,  0.20006131,  0.72130317,  0.97086347, -0.08104633,\n",
              "       -0.94824825,  0.8237266 , -0.43030122,  0.31887402, -0.57048567,\n",
              "        0.96152318, -0.68954525, -0.66703194,  0.49466996,  0.97834055])"
            ]
          },
          "metadata": {
            "tags": []
          },
          "execution_count": 51
        }
      ]
    },
    {
      "cell_type": "code",
      "metadata": {
        "id": "Jeo71X_rPHgQ",
        "outputId": "a8eabcce-e773-4978-aeaf-cd2348f4eb1f",
        "colab": {
          "base_uri": "https://localhost:8080/",
          "height": 37
        }
      },
      "source": [
        "trapz(Q(X),X)"
      ],
      "execution_count": 52,
      "outputs": [
        {
          "output_type": "execute_result",
          "data": {
            "image/png": "[encoded data removed]",
            "text/latex": "$\\displaystyle 0.715176089593668$",
            "text/plain": [
              "0.7151760895936676"
            ]
          },
          "metadata": {
            "tags": []
          },
          "execution_count": 52
        }
      ]
    },
    {
      "cell_type": "code",
      "metadata": {
        "id": "-6qDw3aegYD_",
        "outputId": "9deb87a3-1103-40bb-f095-d32b6962937b",
        "colab": {
          "base_uri": "https://localhost:8080/",
          "height": 283
        }
      },
      "source": [
        "plt.plot(X,Q(X),'.',color='aqua')\n",
        "plt.vlines(X,ymin=0,ymax=Q(X))\n",
        "plt.plot(X,Q(X))"
      ],
      "execution_count": 57,
      "outputs": [
        {
          "output_type": "execute_result",
          "data": {
            "text/plain": [
              "[<matplotlib.lines.Line2D at 0x7efeda9d36d0>]"
            ]
          },
          "metadata": {
            "tags": []
          },
          "execution_count": 57
        },
        {
          "output_type": "display_data",
          "data": {
            "image/png": "[encoded data removed]",
            "text/plain": [
              "<Figure size 432x288 with 1 Axes>"
            ]
          },
          "metadata": {
            "tags": [],
            "needs_background": "light"
          }
        }
      ]
    },
    {
      "cell_type": "code",
      "metadata": {
        "id": "ABCa7yODPHiz",
        "outputId": "ce62d826-a5b5-470b-b0a7-c6f8d7fb92d5",
        "colab": {
          "base_uri": "https://localhost:8080/"
        }
      },
      "source": [
        "X=np.linspace(0,2*np.pi,75)\n",
        "X"
      ],
      "execution_count": 53,
      "outputs": [
        {
          "output_type": "execute_result",
          "data": {
            "text/plain": [
              "array([0.        , 0.08490791, 0.16981582, 0.25472373, 0.33963164,\n",
              "       0.42453955, 0.50944746, 0.59435537, 0.67926328, 0.76417119,\n",
              "       0.8490791 , 0.93398701, 1.01889491, 1.10380282, 1.18871073,\n",
              "       1.27361864, 1.35852655, 1.44343446, 1.52834237, 1.61325028,\n",
              "       1.69815819, 1.7830661 , 1.86797401, 1.95288192, 2.03778983,\n",
              "       2.12269774, 2.20760565, 2.29251356, 2.37742147, 2.46232938,\n",
              "       2.54723729, 2.6321452 , 2.71705311, 2.80196102, 2.88686892,\n",
              "       2.97177683, 3.05668474, 3.14159265, 3.22650056, 3.31140847,\n",
              "       3.39631638, 3.48122429, 3.5661322 , 3.65104011, 3.73594802,\n",
              "       3.82085593, 3.90576384, 3.99067175, 4.07557966, 4.16048757,\n",
              "       4.24539548, 4.33030339, 4.4152113 , 4.50011921, 4.58502712,\n",
              "       4.66993503, 4.75484294, 4.83975084, 4.92465875, 5.00956666,\n",
              "       5.09447457, 5.17938248, 5.26429039, 5.3491983 , 5.43410621,\n",
              "       5.51901412, 5.60392203, 5.68882994, 5.77373785, 5.85864576,\n",
              "       5.94355367, 6.02846158, 6.11336949, 6.1982774 , 6.28318531])"
            ]
          },
          "metadata": {
            "tags": []
          },
          "execution_count": 53
        }
      ]
    },
    {
      "cell_type": "code",
      "metadata": {
        "id": "fcSfdwCRPHlY",
        "outputId": "40ee9427-36e2-41de-d39a-ea4b5fc03785",
        "colab": {
          "base_uri": "https://localhost:8080/"
        }
      },
      "source": [
        "Q(X)"
      ],
      "execution_count": 54,
      "outputs": [
        {
          "output_type": "execute_result",
          "data": {
            "text/plain": [
              "array([ 0.        ,  0.00720929,  0.02883342,  0.06483866,  0.11509402,\n",
              "        0.17925962,  0.25663281,  0.34595674,  0.44520089,  0.55133002,\n",
              "        0.66008756,  0.76583042,  0.86146464,  0.93854165,  0.98758119,\n",
              "        0.99868403,  0.96248001,  0.87141995,  0.72135876,  0.51329191,\n",
              "        0.25500359, -0.03772311, -0.34076854, -0.62267379, -0.84736049,\n",
              "       -0.97874566, -0.98704603, -0.85604384, -0.58999486, -0.21834609,\n",
              "        0.20379477,  0.60120086,  0.89084069,  0.99999551,  0.88698081,\n",
              "        0.55911701,  0.08136629, -0.43030122, -0.83356384, -0.99954558,\n",
              "       -0.8580218 , -0.43266622,  0.15035591,  0.69161543,  0.98386887,\n",
              "        0.89526393,  0.43763983, -0.21578699, -0.78480802, -0.99952272,\n",
              "       -0.73534333, -0.09787157,  0.60082669,  0.98570643,  0.82413592,\n",
              "        0.18183814, -0.57890306, -0.99038873, -0.77104296, -0.03697464,\n",
              "        0.73177995,  0.99251049,  0.53252466, -0.33309921, -0.95060414,\n",
              "       -0.81712716, -0.01198412,  0.81158475,  0.93960365,  0.23166515,\n",
              "       -0.69492171, -0.97718214, -0.32009082,  0.65903189,  0.97834055])"
            ]
          },
          "metadata": {
            "tags": []
          },
          "execution_count": 54
        }
      ]
    },
    {
      "cell_type": "code",
      "metadata": {
        "id": "T-W0OepNPHoO",
        "outputId": "639b5a3d-74ea-46f8-f767-12156a217f10",
        "colab": {
          "base_uri": "https://localhost:8080/",
          "height": 37
        }
      },
      "source": [
        "trapz(Q(X),X)"
      ],
      "execution_count": 55,
      "outputs": [
        {
          "output_type": "execute_result",
          "data": {
            "image/png": "[encoded data removed]",
            "text/latex": "$\\displaystyle 0.640550761533071$",
            "text/plain": [
              "0.6405507615330712"
            ]
          },
          "metadata": {
            "tags": []
          },
          "execution_count": 55
        }
      ]
    },
    {
      "cell_type": "code",
      "metadata": {
        "id": "1-T513kFPH96",
        "outputId": "d7f34e01-8b04-4330-9926-feea4d916236",
        "colab": {
          "base_uri": "https://localhost:8080/",
          "height": 283
        }
      },
      "source": [
        "plt.plot(X,Q(X),'.',color='lime')\n",
        "plt.vlines(X,ymin=0,ymax=Q(X))\n",
        "plt.plot(X,Q(X))"
      ],
      "execution_count": 58,
      "outputs": [
        {
          "output_type": "execute_result",
          "data": {
            "text/plain": [
              "[<matplotlib.lines.Line2D at 0x7efedb0da190>]"
            ]
          },
          "metadata": {
            "tags": []
          },
          "execution_count": 58
        },
        {
          "output_type": "display_data",
          "data": {
            "image/png": "[encoded data removed]",
            "text/plain": [
              "<Figure size 432x288 with 1 Axes>"
            ]
          },
          "metadata": {
            "tags": [],
            "needs_background": "light"
          }
        }
      ]
    },
    {
      "cell_type": "markdown",
      "metadata": {
        "id": "8xBY9ujCMb5W"
      },
      "source": [
        "## Exercise 4\n",
        "\n",
        "Integrate the following function, over the interval $0\\leq r\\leq 1.5$, using the methods given below: \n",
        "\n",
        "$$\n",
        "    F(r) = \\exp(-r^2).\n",
        "$$\n",
        "\n",
        "1. Integrate using the function __Trpz()__ with $n=51$.\n",
        "\n",
        "\n",
        "2. Integrate using the function __Trpz()__ with $n=501$.\n",
        "\n",
        "\n",
        "3. Create a plot to illustrate the trapezoidal sum in the case __n=51__ (like Example 3 and Exercise 3)."
      ]
    },
    {
      "cell_type": "code",
      "metadata": {
        "id": "udKfRn1rMb5X"
      },
      "source": [
        "def F(r):\n",
        "  return exp(-r**2)"
      ],
      "execution_count": 59,
      "outputs": []
    },
    {
      "cell_type": "code",
      "metadata": {
        "id": "jL745-bTPFDF",
        "outputId": "6ba28930-5c12-426a-911d-b9798e369140",
        "colab": {
          "base_uri": "https://localhost:8080/"
        }
      },
      "source": [
        "X=np.linspace(0,1.5,51)\n",
        "X"
      ],
      "execution_count": 60,
      "outputs": [
        {
          "output_type": "execute_result",
          "data": {
            "text/plain": [
              "array([0.  , 0.03, 0.06, 0.09, 0.12, 0.15, 0.18, 0.21, 0.24, 0.27, 0.3 ,\n",
              "       0.33, 0.36, 0.39, 0.42, 0.45, 0.48, 0.51, 0.54, 0.57, 0.6 , 0.63,\n",
              "       0.66, 0.69, 0.72, 0.75, 0.78, 0.81, 0.84, 0.87, 0.9 , 0.93, 0.96,\n",
              "       0.99, 1.02, 1.05, 1.08, 1.11, 1.14, 1.17, 1.2 , 1.23, 1.26, 1.29,\n",
              "       1.32, 1.35, 1.38, 1.41, 1.44, 1.47, 1.5 ])"
            ]
          },
          "metadata": {
            "tags": []
          },
          "execution_count": 60
        }
      ]
    },
    {
      "cell_type": "code",
      "metadata": {
        "id": "llDXvo2cPFF-",
        "outputId": "4e581662-4d69-400b-bd81-72e82a8e54e7",
        "colab": {
          "base_uri": "https://localhost:8080/"
        }
      },
      "source": [
        "F(X)"
      ],
      "execution_count": 61,
      "outputs": [
        {
          "output_type": "execute_result",
          "data": {
            "text/plain": [
              "array([1.        , 0.9991004 , 0.99640647, 0.99193272, 0.98570318,\n",
              "       0.97775124, 0.96811926, 0.95685827, 0.94402748, 0.92969379,\n",
              "       0.91393119, 0.8968201 , 0.87844674, 0.85890239, 0.8382826 ,\n",
              "       0.81668648, 0.79421585, 0.77097448, 0.7470673 , 0.72259961,\n",
              "       0.69767633, 0.67240126, 0.64687642, 0.62120136, 0.59547254,\n",
              "       0.56978282, 0.54422093, 0.51887099, 0.4938122 , 0.46911844,\n",
              "       0.44485807, 0.42109366, 0.39788192, 0.37527357, 0.35331333,\n",
              "       0.33203995, 0.31148628, 0.29167941, 0.27264083, 0.25438663,\n",
              "       0.23692776, 0.22027027, 0.20441562, 0.18936101, 0.17509966,\n",
              "       0.16162119, 0.14891196, 0.13695539, 0.12573233, 0.11522138,\n",
              "       0.10539922])"
            ]
          },
          "metadata": {
            "tags": []
          },
          "execution_count": 61
        }
      ]
    },
    {
      "cell_type": "code",
      "metadata": {
        "id": "jBkKOPQ1PFIk",
        "outputId": "763664c2-4e1f-4f89-b8b9-9071647f7911",
        "colab": {
          "base_uri": "https://localhost:8080/",
          "height": 37
        }
      },
      "source": [
        "trapz(F(X),X)"
      ],
      "execution_count": 62,
      "outputs": [
        {
          "output_type": "execute_result",
          "data": {
            "image/png": "[encoded data removed]",
            "text/latex": "$\\displaystyle 0.856164679866839$",
            "text/plain": [
              "0.8561646798668391"
            ]
          },
          "metadata": {
            "tags": []
          },
          "execution_count": 62
        }
      ]
    },
    {
      "cell_type": "code",
      "metadata": {
        "id": "O4VwOc6tPFLP",
        "outputId": "17312416-7685-4935-d1bc-e20049255a2d",
        "colab": {
          "base_uri": "https://localhost:8080/",
          "height": 283
        }
      },
      "source": [
        "plt.plot(X,F(X),'.',color='lime')\n",
        "plt.vlines(X,ymin=0,ymax=F(X))\n",
        "plt.plot(X,F(X))"
      ],
      "execution_count": 63,
      "outputs": [
        {
          "output_type": "execute_result",
          "data": {
            "text/plain": [
              "[<matplotlib.lines.Line2D at 0x7efedb70fc50>]"
            ]
          },
          "metadata": {
            "tags": []
          },
          "execution_count": 63
        },
        {
          "output_type": "display_data",
          "data": {
            "image/png": "[encoded data removed]",
            "text/plain": [
              "<Figure size 432x288 with 1 Axes>"
            ]
          },
          "metadata": {
            "tags": [],
            "needs_background": "light"
          }
        }
      ]
    },
    {
      "cell_type": "code",
      "metadata": {
        "id": "1exy0QxPPFNz",
        "outputId": "226b92d5-f6cb-48c3-bd7f-6e70cd07160e",
        "colab": {
          "base_uri": "https://localhost:8080/"
        }
      },
      "source": [
        "X=np.linspace(0,1.5,501)\n",
        "X"
      ],
      "execution_count": 64,
      "outputs": [
        {
          "output_type": "execute_result",
          "data": {
            "text/plain": [
              "array([0.   , 0.003, 0.006, 0.009, 0.012, 0.015, 0.018, 0.021, 0.024,\n",
              "       0.027, 0.03 , 0.033, 0.036, 0.039, 0.042, 0.045, 0.048, 0.051,\n",
              "       0.054, 0.057, 0.06 , 0.063, 0.066, 0.069, 0.072, 0.075, 0.078,\n",
              "       0.081, 0.084, 0.087, 0.09 , 0.093, 0.096, 0.099, 0.102, 0.105,\n",
              "       0.108, 0.111, 0.114, 0.117, 0.12 , 0.123, 0.126, 0.129, 0.132,\n",
              "       0.135, 0.138, 0.141, 0.144, 0.147, 0.15 , 0.153, 0.156, 0.159,\n",
              "       0.162, 0.165, 0.168, 0.171, 0.174, 0.177, 0.18 , 0.183, 0.186,\n",
              "       0.189, 0.192, 0.195, 0.198, 0.201, 0.204, 0.207, 0.21 , 0.213,\n",
              "       0.216, 0.219, 0.222, 0.225, 0.228, 0.231, 0.234, 0.237, 0.24 ,\n",
              "       0.243, 0.246, 0.249, 0.252, 0.255, 0.258, 0.261, 0.264, 0.267,\n",
              "       0.27 , 0.273, 0.276, 0.279, 0.282, 0.285, 0.288, 0.291, 0.294,\n",
              "       0.297, 0.3  , 0.303, 0.306, 0.309, 0.312, 0.315, 0.318, 0.321,\n",
              "       0.324, 0.327, 0.33 , 0.333, 0.336, 0.339, 0.342, 0.345, 0.348,\n",
              "       0.351, 0.354, 0.357, 0.36 , 0.363, 0.366, 0.369, 0.372, 0.375,\n",
              "       0.378, 0.381, 0.384, 0.387, 0.39 , 0.393, 0.396, 0.399, 0.402,\n",
              "       0.405, 0.408, 0.411, 0.414, 0.417, 0.42 , 0.423, 0.426, 0.429,\n",
              "       0.432, 0.435, 0.438, 0.441, 0.444, 0.447, 0.45 , 0.453, 0.456,\n",
              "       0.459, 0.462, 0.465, 0.468, 0.471, 0.474, 0.477, 0.48 , 0.483,\n",
              "       0.486, 0.489, 0.492, 0.495, 0.498, 0.501, 0.504, 0.507, 0.51 ,\n",
              "       0.513, 0.516, 0.519, 0.522, 0.525, 0.528, 0.531, 0.534, 0.537,\n",
              "       0.54 , 0.543, 0.546, 0.549, 0.552, 0.555, 0.558, 0.561, 0.564,\n",
              "       0.567, 0.57 , 0.573, 0.576, 0.579, 0.582, 0.585, 0.588, 0.591,\n",
              "       0.594, 0.597, 0.6  , 0.603, 0.606, 0.609, 0.612, 0.615, 0.618,\n",
              "       0.621, 0.624, 0.627, 0.63 , 0.633, 0.636, 0.639, 0.642, 0.645,\n",
              "       0.648, 0.651, 0.654, 0.657, 0.66 , 0.663, 0.666, 0.669, 0.672,\n",
              "       0.675, 0.678, 0.681, 0.684, 0.687, 0.69 , 0.693, 0.696, 0.699,\n",
              "       0.702, 0.705, 0.708, 0.711, 0.714, 0.717, 0.72 , 0.723, 0.726,\n",
              "       0.729, 0.732, 0.735, 0.738, 0.741, 0.744, 0.747, 0.75 , 0.753,\n",
              "       0.756, 0.759, 0.762, 0.765, 0.768, 0.771, 0.774, 0.777, 0.78 ,\n",
              "       0.783, 0.786, 0.789, 0.792, 0.795, 0.798, 0.801, 0.804, 0.807,\n",
              "       0.81 , 0.813, 0.816, 0.819, 0.822, 0.825, 0.828, 0.831, 0.834,\n",
              "       0.837, 0.84 , 0.843, 0.846, 0.849, 0.852, 0.855, 0.858, 0.861,\n",
              "       0.864, 0.867, 0.87 , 0.873, 0.876, 0.879, 0.882, 0.885, 0.888,\n",
              "       0.891, 0.894, 0.897, 0.9  , 0.903, 0.906, 0.909, 0.912, 0.915,\n",
              "       0.918, 0.921, 0.924, 0.927, 0.93 , 0.933, 0.936, 0.939, 0.942,\n",
              "       0.945, 0.948, 0.951, 0.954, 0.957, 0.96 , 0.963, 0.966, 0.969,\n",
              "       0.972, 0.975, 0.978, 0.981, 0.984, 0.987, 0.99 , 0.993, 0.996,\n",
              "       0.999, 1.002, 1.005, 1.008, 1.011, 1.014, 1.017, 1.02 , 1.023,\n",
              "       1.026, 1.029, 1.032, 1.035, 1.038, 1.041, 1.044, 1.047, 1.05 ,\n",
              "       1.053, 1.056, 1.059, 1.062, 1.065, 1.068, 1.071, 1.074, 1.077,\n",
              "       1.08 , 1.083, 1.086, 1.089, 1.092, 1.095, 1.098, 1.101, 1.104,\n",
              "       1.107, 1.11 , 1.113, 1.116, 1.119, 1.122, 1.125, 1.128, 1.131,\n",
              "       1.134, 1.137, 1.14 , 1.143, 1.146, 1.149, 1.152, 1.155, 1.158,\n",
              "       1.161, 1.164, 1.167, 1.17 , 1.173, 1.176, 1.179, 1.182, 1.185,\n",
              "       1.188, 1.191, 1.194, 1.197, 1.2  , 1.203, 1.206, 1.209, 1.212,\n",
              "       1.215, 1.218, 1.221, 1.224, 1.227, 1.23 , 1.233, 1.236, 1.239,\n",
              "       1.242, 1.245, 1.248, 1.251, 1.254, 1.257, 1.26 , 1.263, 1.266,\n",
              "       1.269, 1.272, 1.275, 1.278, 1.281, 1.284, 1.287, 1.29 , 1.293,\n",
              "       1.296, 1.299, 1.302, 1.305, 1.308, 1.311, 1.314, 1.317, 1.32 ,\n",
              "       1.323, 1.326, 1.329, 1.332, 1.335, 1.338, 1.341, 1.344, 1.347,\n",
              "       1.35 , 1.353, 1.356, 1.359, 1.362, 1.365, 1.368, 1.371, 1.374,\n",
              "       1.377, 1.38 , 1.383, 1.386, 1.389, 1.392, 1.395, 1.398, 1.401,\n",
              "       1.404, 1.407, 1.41 , 1.413, 1.416, 1.419, 1.422, 1.425, 1.428,\n",
              "       1.431, 1.434, 1.437, 1.44 , 1.443, 1.446, 1.449, 1.452, 1.455,\n",
              "       1.458, 1.461, 1.464, 1.467, 1.47 , 1.473, 1.476, 1.479, 1.482,\n",
              "       1.485, 1.488, 1.491, 1.494, 1.497, 1.5  ])"
            ]
          },
          "metadata": {
            "tags": []
          },
          "execution_count": 64
        }
      ]
    },
    {
      "cell_type": "code",
      "metadata": {
        "id": "q8tiFNjeN1eK",
        "outputId": "688d5dd1-7df8-448a-a547-6e83e4c4077b",
        "colab": {
          "base_uri": "https://localhost:8080/"
        }
      },
      "source": [
        "F(X)"
      ],
      "execution_count": 65,
      "outputs": [
        {
          "output_type": "execute_result",
          "data": {
            "text/plain": [
              "array([1.        , 0.999991  , 0.999964  , 0.999919  , 0.99985601,\n",
              "       0.99977503, 0.99967605, 0.9995591 , 0.99942417, 0.99927127,\n",
              "       0.9991004 , 0.99891159, 0.99870484, 0.99848016, 0.99823755,\n",
              "       0.99797705, 0.99769865, 0.99740238, 0.99708825, 0.99675627,\n",
              "       0.99640647, 0.99603887, 0.99565347, 0.99525032, 0.99482941,\n",
              "       0.99439079, 0.99393447, 0.99346048, 0.99296884, 0.99245957,\n",
              "       0.99193272, 0.9913883 , 0.99082634, 0.99024687, 0.98964993,\n",
              "       0.98903555, 0.98840376, 0.98775459, 0.98708808, 0.98640427,\n",
              "       0.98570318, 0.98498487, 0.98424936, 0.9834967 , 0.98272692,\n",
              "       0.98194007, 0.98113619, 0.98031532, 0.97947751, 0.9786228 ,\n",
              "       0.97775124, 0.97686287, 0.97595773, 0.97503589, 0.97409738,\n",
              "       0.97314226, 0.97217058, 0.97118238, 0.97017773, 0.96915667,\n",
              "       0.96811926, 0.96706555, 0.9659956 , 0.96490947, 0.9638072 ,\n",
              "       0.96268887, 0.96155453, 0.96040424, 0.95923806, 0.95805605,\n",
              "       0.95685827, 0.95564478, 0.95441566, 0.95317096, 0.95191075,\n",
              "       0.95063509, 0.94934406, 0.94803771, 0.94671612, 0.94537935,\n",
              "       0.94402748, 0.94266058, 0.94127871, 0.93988195, 0.93847037,\n",
              "       0.93704404, 0.93560304, 0.93414743, 0.93267731, 0.93119274,\n",
              "       0.92969379, 0.92818056, 0.9266531 , 0.92511151, 0.92355585,\n",
              "       0.92198622, 0.92040269, 0.91880534, 0.91719425, 0.9155695 ,\n",
              "       0.91393119, 0.91227938, 0.91061417, 0.90893563, 0.90724386,\n",
              "       0.90553894, 0.90382095, 0.90208999, 0.90034613, 0.89858947,\n",
              "       0.8968201 , 0.89503809, 0.89324355, 0.89143656, 0.88961722,\n",
              "       0.88778561, 0.88594182, 0.88408594, 0.88221808, 0.88033831,\n",
              "       0.87844674, 0.87654345, 0.87462855, 0.87270212, 0.87076425,\n",
              "       0.86881506, 0.86685462, 0.86488304, 0.86290041, 0.86090682,\n",
              "       0.85890239, 0.85688719, 0.85486134, 0.85282492, 0.85077805,\n",
              "       0.8487208 , 0.8466533 , 0.84457562, 0.84248788, 0.84039018,\n",
              "       0.8382826 , 0.83616527, 0.83403826, 0.8319017 , 0.82975567,\n",
              "       0.82760028, 0.82543563, 0.82326182, 0.82107896, 0.81888715,\n",
              "       0.81668648, 0.81447707, 0.81225902, 0.81003243, 0.8077974 ,\n",
              "       0.80555403, 0.80330244, 0.80104272, 0.79877498, 0.79649932,\n",
              "       0.79421585, 0.79192467, 0.78962589, 0.78731961, 0.78500594,\n",
              "       0.78268497, 0.78035682, 0.77802159, 0.77567939, 0.77333032,\n",
              "       0.77097448, 0.76861199, 0.76624294, 0.76386745, 0.76148561,\n",
              "       0.75909754, 0.75670333, 0.7543031 , 0.75189695, 0.74948498,\n",
              "       0.7470673 , 0.74464402, 0.74221524, 0.73978106, 0.7373416 ,\n",
              "       0.73489695, 0.73244722, 0.72999251, 0.72753294, 0.72506861,\n",
              "       0.72259961, 0.72012606, 0.71764806, 0.71516571, 0.71267912,\n",
              "       0.71018839, 0.70769363, 0.70519494, 0.70269243, 0.70018619,\n",
              "       0.69767633, 0.69516295, 0.69264616, 0.69012606, 0.68760275,\n",
              "       0.68507634, 0.68254692, 0.68001461, 0.67747949, 0.67494167,\n",
              "       0.67240126, 0.66985835, 0.66731305, 0.66476545, 0.66221566,\n",
              "       0.65966378, 0.6571099 , 0.65455413, 0.65199656, 0.64943729,\n",
              "       0.64687642, 0.64431406, 0.64175029, 0.63918522, 0.63661895,\n",
              "       0.63405156, 0.63148316, 0.62891385, 0.62634371, 0.62377285,\n",
              "       0.62120136, 0.61862933, 0.61605687, 0.61348406, 0.610911  ,\n",
              "       0.60833778, 0.60576449, 0.60319123, 0.60061809, 0.59804517,\n",
              "       0.59547254, 0.59290031, 0.59032857, 0.5877574 , 0.5851869 ,\n",
              "       0.58261715, 0.58004824, 0.57748027, 0.57491332, 0.57234747,\n",
              "       0.56978282, 0.56721946, 0.56465746, 0.56209691, 0.55953791,\n",
              "       0.55698053, 0.55442485, 0.55187098, 0.54931897, 0.54676893,\n",
              "       0.54422093, 0.54167505, 0.53913137, 0.53658999, 0.53405097,\n",
              "       0.53151439, 0.52898035, 0.5264489 , 0.52392015, 0.52139415,\n",
              "       0.51887099, 0.51635075, 0.5138335 , 0.51131932, 0.50880828,\n",
              "       0.50630046, 0.50379593, 0.50129476, 0.49879704, 0.49630283,\n",
              "       0.4938122 , 0.49132522, 0.48884198, 0.48636252, 0.48388694,\n",
              "       0.48141529, 0.47894764, 0.47648406, 0.47402463, 0.4715694 ,\n",
              "       0.46911844, 0.46667182, 0.46422961, 0.46179186, 0.45935865,\n",
              "       0.45693003, 0.45450607, 0.45208684, 0.44967238, 0.44726277,\n",
              "       0.44485807, 0.44245832, 0.44006361, 0.43767397, 0.43528948,\n",
              "       0.43291018, 0.43053614, 0.42816742, 0.42580406, 0.42344612,\n",
              "       0.42109366, 0.41874673, 0.41640539, 0.41406968, 0.41173967,\n",
              "       0.4094154 , 0.40709692, 0.40478428, 0.40247753, 0.40017673,\n",
              "       0.39788192, 0.39559315, 0.39331046, 0.39103391, 0.38876353,\n",
              "       0.38649939, 0.38424151, 0.38198994, 0.37974474, 0.37750593,\n",
              "       0.37527357, 0.37304769, 0.37082835, 0.36861557, 0.3664094 ,\n",
              "       0.36420987, 0.36201704, 0.35983093, 0.35765158, 0.35547904,\n",
              "       0.35331333, 0.35115449, 0.34900257, 0.34685759, 0.34471958,\n",
              "       0.34258859, 0.34046464, 0.33834777, 0.33623801, 0.33413539,\n",
              "       0.33203995, 0.3299517 , 0.32787069, 0.32579693, 0.32373047,\n",
              "       0.32167132, 0.31961952, 0.31757509, 0.31553805, 0.31350844,\n",
              "       0.31148628, 0.30947159, 0.30746439, 0.30546472, 0.30347259,\n",
              "       0.30148802, 0.29951104, 0.29754167, 0.29557993, 0.29362583,\n",
              "       0.29167941, 0.28974067, 0.28780964, 0.28588633, 0.28397076,\n",
              "       0.28206295, 0.28016292, 0.27827067, 0.27638623, 0.27450961,\n",
              "       0.27264083, 0.27077989, 0.26892681, 0.26708161, 0.2652443 ,\n",
              "       0.26341488, 0.26159337, 0.25977978, 0.25797412, 0.2561764 ,\n",
              "       0.25438663, 0.25260482, 0.25083097, 0.24906509, 0.2473072 ,\n",
              "       0.24555729, 0.24381537, 0.24208146, 0.24035555, 0.23863765,\n",
              "       0.23692776, 0.23522589, 0.23353204, 0.23184621, 0.23016841,\n",
              "       0.22849864, 0.2268369 , 0.2251832 , 0.22353752, 0.22189988,\n",
              "       0.22027027, 0.21864869, 0.21703514, 0.21542962, 0.21383213,\n",
              "       0.21224267, 0.21066123, 0.2090878 , 0.2075224 , 0.20596501,\n",
              "       0.20441562, 0.20287424, 0.20134086, 0.19981547, 0.19829807,\n",
              "       0.19678864, 0.1952872 , 0.19379372, 0.1923082 , 0.19083063,\n",
              "       0.18936101, 0.18789932, 0.18644556, 0.18499971, 0.18356178,\n",
              "       0.18213174, 0.18070959, 0.17929532, 0.17788891, 0.17649036,\n",
              "       0.17509966, 0.17371678, 0.17234172, 0.17097448, 0.16961502,\n",
              "       0.16826334, 0.16691944, 0.16558328, 0.16425487, 0.16293417,\n",
              "       0.16162119, 0.16031591, 0.1590183 , 0.15772835, 0.15644606,\n",
              "       0.15517139, 0.15390435, 0.1526449 , 0.15139303, 0.15014872,\n",
              "       0.14891196, 0.14768273, 0.14646101, 0.14524679, 0.14404003,\n",
              "       0.14284074, 0.14164887, 0.14046443, 0.13928738, 0.13811771,\n",
              "       0.13695539, 0.13580042, 0.13465275, 0.13351239, 0.1323793 ,\n",
              "       0.13125346, 0.13013486, 0.12902346, 0.12791926, 0.12682222,\n",
              "       0.12573233, 0.12464956, 0.12357389, 0.1225053 , 0.12144376,\n",
              "       0.12038925, 0.11934176, 0.11830124, 0.11726769, 0.11624108,\n",
              "       0.11522138, 0.11420856, 0.11320262, 0.11220351, 0.11121122,\n",
              "       0.11022572, 0.10924699, 0.108275  , 0.10730972, 0.10635114,\n",
              "       0.10539922])"
            ]
          },
          "metadata": {
            "tags": []
          },
          "execution_count": 65
        }
      ]
    },
    {
      "cell_type": "code",
      "metadata": {
        "id": "KSyeN4iiN1lp",
        "outputId": "919b6126-9b89-420a-8ef8-0a267dd229c9",
        "colab": {
          "base_uri": "https://localhost:8080/",
          "height": 37
        }
      },
      "source": [
        "trapz(F(X),X)"
      ],
      "execution_count": 66,
      "outputs": [
        {
          "output_type": "execute_result",
          "data": {
            "image/png": "[encoded data removed]",
            "text/latex": "$\\displaystyle 0.856188156476753$",
            "text/plain": [
              "0.8561881564767526"
            ]
          },
          "metadata": {
            "tags": []
          },
          "execution_count": 66
        }
      ]
    },
    {
      "cell_type": "markdown",
      "metadata": {
        "id": "CuC_5c3LMb5X"
      },
      "source": [
        "## Exercise 5\n",
        "\n",
        "Integrate the following function, over the interval $0\\leq r\\leq 2\\pi$, using the methods given below: \n",
        "\n",
        "$$\n",
        "    G(r) = \\exp(0.25\\cos(r))\n",
        "$$\n",
        "\n",
        "1. Integrate using the function __Trpz()__ with $n=35$.\n",
        "\n",
        "\n",
        "2. Integrate using the function __Trpz()__ with $n=201$.\n",
        "\n",
        "\n",
        "3. Create a plot to illustrate the trapezoidal sum in the case $n=35$."
      ]
    },
    {
      "cell_type": "code",
      "metadata": {
        "id": "f_Dv6QwtMb5Y"
      },
      "source": [
        "def G(r):\n",
        "  return exp(0.25*cos(r))"
      ],
      "execution_count": 67,
      "outputs": []
    },
    {
      "cell_type": "code",
      "metadata": {
        "id": "cb_E_wxFPC4s",
        "outputId": "c8621583-64d3-4868-a9ea-8d9657ee895c",
        "colab": {
          "base_uri": "https://localhost:8080/"
        }
      },
      "source": [
        "X=np.linspace(0,2*np.pi,35)\n",
        "X"
      ],
      "execution_count": 68,
      "outputs": [
        {
          "output_type": "execute_result",
          "data": {
            "text/plain": [
              "array([0.        , 0.18479957, 0.36959914, 0.5543987 , 0.73919827,\n",
              "       0.92399784, 1.10879741, 1.29359698, 1.47839654, 1.66319611,\n",
              "       1.84799568, 2.03279525, 2.21759481, 2.40239438, 2.58719395,\n",
              "       2.77199352, 2.95679309, 3.14159265, 3.32639222, 3.51119179,\n",
              "       3.69599136, 3.88079093, 4.06559049, 4.25039006, 4.43518963,\n",
              "       4.6199892 , 4.80478876, 4.98958833, 5.1743879 , 5.35918747,\n",
              "       5.54398704, 5.7287866 , 5.91358617, 6.09838574, 6.28318531])"
            ]
          },
          "metadata": {
            "tags": []
          },
          "execution_count": 68
        }
      ]
    },
    {
      "cell_type": "code",
      "metadata": {
        "id": "xKQg_cAkPC7S",
        "outputId": "7b552124-1faf-4ad3-e164-f4bc96c8af4a",
        "colab": {
          "base_uri": "https://localhost:8080/"
        }
      },
      "source": [
        "G(X)"
      ],
      "execution_count": 69,
      "outputs": [
        {
          "output_type": "execute_result",
          "data": {
            "text/plain": [
              "array([1.28402542, 1.27857129, 1.26253052, 1.23683325, 1.20292035,\n",
              "       1.16259975, 1.11788062, 1.0708104 , 1.02333519, 0.97719692,\n",
              "       0.93387214, 0.8945499 , 0.86014125, 0.83131023, 0.80851643,\n",
              "       0.79206006, 0.78212299, 0.77880078, 0.78212299, 0.79206006,\n",
              "       0.80851643, 0.83131023, 0.86014125, 0.8945499 , 0.93387214,\n",
              "       0.97719692, 1.02333519, 1.0708104 , 1.11788062, 1.16259975,\n",
              "       1.20292035, 1.23683325, 1.26253052, 1.27857129, 1.28402542])"
            ]
          },
          "metadata": {
            "tags": []
          },
          "execution_count": 69
        }
      ]
    },
    {
      "cell_type": "code",
      "metadata": {
        "id": "QIgf0rG6PC-F",
        "outputId": "7ab9b9d8-68cc-40ec-a286-77f979867d0f",
        "colab": {
          "base_uri": "https://localhost:8080/",
          "height": 37
        }
      },
      "source": [
        "trapz(G(X),X)"
      ],
      "execution_count": 70,
      "outputs": [
        {
          "output_type": "execute_result",
          "data": {
            "image/png": "[encoded data removed]",
            "text/latex": "$\\displaystyle 6.3817442392421$",
            "text/plain": [
              "6.381744239242103"
            ]
          },
          "metadata": {
            "tags": []
          },
          "execution_count": 70
        }
      ]
    },
    {
      "cell_type": "code",
      "metadata": {
        "id": "oRXuj3dyPDAf",
        "outputId": "b14c34ce-8b11-4ce5-f728-a7c920fd92a0",
        "colab": {
          "base_uri": "https://localhost:8080/",
          "height": 283
        }
      },
      "source": [
        "plt.plot(X,G(X),'.',color='blue')\n",
        "plt.vlines(X,ymin=0,ymax=G(X))\n",
        "plt.plot(X,G(X))"
      ],
      "execution_count": 71,
      "outputs": [
        {
          "output_type": "execute_result",
          "data": {
            "text/plain": [
              "[<matplotlib.lines.Line2D at 0x7efeda8dcc10>]"
            ]
          },
          "metadata": {
            "tags": []
          },
          "execution_count": 71
        },
        {
          "output_type": "display_data",
          "data": {
            "image/png": "[encoded data removed]",
            "text/plain": [
              "<Figure size 432x288 with 1 Axes>"
            ]
          },
          "metadata": {
            "tags": [],
            "needs_background": "light"
          }
        }
      ]
    },
    {
      "cell_type": "code",
      "metadata": {
        "id": "VgYiDFFnPDDG",
        "outputId": "1c87964b-9636-492e-e256-9760af426c39",
        "colab": {
          "base_uri": "https://localhost:8080/"
        }
      },
      "source": [
        "X=np.linspace(0,2*np.pi,201)\n",
        "X"
      ],
      "execution_count": 72,
      "outputs": [
        {
          "output_type": "execute_result",
          "data": {
            "text/plain": [
              "array([0.        , 0.03141593, 0.06283185, 0.09424778, 0.12566371,\n",
              "       0.15707963, 0.18849556, 0.21991149, 0.25132741, 0.28274334,\n",
              "       0.31415927, 0.34557519, 0.37699112, 0.40840704, 0.43982297,\n",
              "       0.4712389 , 0.50265482, 0.53407075, 0.56548668, 0.5969026 ,\n",
              "       0.62831853, 0.65973446, 0.69115038, 0.72256631, 0.75398224,\n",
              "       0.78539816, 0.81681409, 0.84823002, 0.87964594, 0.91106187,\n",
              "       0.9424778 , 0.97389372, 1.00530965, 1.03672558, 1.0681415 ,\n",
              "       1.09955743, 1.13097336, 1.16238928, 1.19380521, 1.22522113,\n",
              "       1.25663706, 1.28805299, 1.31946891, 1.35088484, 1.38230077,\n",
              "       1.41371669, 1.44513262, 1.47654855, 1.50796447, 1.5393804 ,\n",
              "       1.57079633, 1.60221225, 1.63362818, 1.66504411, 1.69646003,\n",
              "       1.72787596, 1.75929189, 1.79070781, 1.82212374, 1.85353967,\n",
              "       1.88495559, 1.91637152, 1.94778745, 1.97920337, 2.0106193 ,\n",
              "       2.04203522, 2.07345115, 2.10486708, 2.136283  , 2.16769893,\n",
              "       2.19911486, 2.23053078, 2.26194671, 2.29336264, 2.32477856,\n",
              "       2.35619449, 2.38761042, 2.41902634, 2.45044227, 2.4818582 ,\n",
              "       2.51327412, 2.54469005, 2.57610598, 2.6075219 , 2.63893783,\n",
              "       2.67035376, 2.70176968, 2.73318561, 2.76460154, 2.79601746,\n",
              "       2.82743339, 2.85884931, 2.89026524, 2.92168117, 2.95309709,\n",
              "       2.98451302, 3.01592895, 3.04734487, 3.0787608 , 3.11017673,\n",
              "       3.14159265, 3.17300858, 3.20442451, 3.23584043, 3.26725636,\n",
              "       3.29867229, 3.33008821, 3.36150414, 3.39292007, 3.42433599,\n",
              "       3.45575192, 3.48716785, 3.51858377, 3.5499997 , 3.58141563,\n",
              "       3.61283155, 3.64424748, 3.6756634 , 3.70707933, 3.73849526,\n",
              "       3.76991118, 3.80132711, 3.83274304, 3.86415896, 3.89557489,\n",
              "       3.92699082, 3.95840674, 3.98982267, 4.0212386 , 4.05265452,\n",
              "       4.08407045, 4.11548638, 4.1469023 , 4.17831823, 4.20973416,\n",
              "       4.24115008, 4.27256601, 4.30398194, 4.33539786, 4.36681379,\n",
              "       4.39822972, 4.42964564, 4.46106157, 4.49247749, 4.52389342,\n",
              "       4.55530935, 4.58672527, 4.6181412 , 4.64955713, 4.68097305,\n",
              "       4.71238898, 4.74380491, 4.77522083, 4.80663676, 4.83805269,\n",
              "       4.86946861, 4.90088454, 4.93230047, 4.96371639, 4.99513232,\n",
              "       5.02654825, 5.05796417, 5.0893801 , 5.12079603, 5.15221195,\n",
              "       5.18362788, 5.2150438 , 5.24645973, 5.27787566, 5.30929158,\n",
              "       5.34070751, 5.37212344, 5.40353936, 5.43495529, 5.46637122,\n",
              "       5.49778714, 5.52920307, 5.560619  , 5.59203492, 5.62345085,\n",
              "       5.65486678, 5.6862827 , 5.71769863, 5.74911456, 5.78053048,\n",
              "       5.81194641, 5.84336234, 5.87477826, 5.90619419, 5.93761012,\n",
              "       5.96902604, 6.00044197, 6.03185789, 6.06327382, 6.09468975,\n",
              "       6.12610567, 6.1575216 , 6.18893753, 6.22035345, 6.25176938,\n",
              "       6.28318531])"
            ]
          },
          "metadata": {
            "tags": []
          },
          "execution_count": 72
        }
      ]
    },
    {
      "cell_type": "code",
      "metadata": {
        "id": "gwXyeBYUMb5Y",
        "outputId": "00af8f92-0fb0-4fbe-dee9-a43610c37f3d",
        "colab": {
          "base_uri": "https://localhost:8080/"
        }
      },
      "source": [
        "G(X)"
      ],
      "execution_count": 73,
      "outputs": [
        {
          "output_type": "execute_result",
          "data": {
            "text/plain": [
              "array([1.28402542, 1.28386703, 1.28339214, 1.28260157, 1.28149668,\n",
              "       1.28007937, 1.27835208, 1.27631777, 1.27397991, 1.27134249,\n",
              "       1.26840998, 1.26518732, 1.26167994, 1.2578937 , 1.25383489,\n",
              "       1.2495102 , 1.24492672, 1.24009192, 1.2350136 , 1.22969988,\n",
              "       1.22415921, 1.21840028, 1.21243206, 1.20626374, 1.19990472,\n",
              "       1.19336458, 1.18665304, 1.17977998, 1.17275537, 1.16558926,\n",
              "       1.15829178, 1.15087307, 1.14334331, 1.13571267, 1.12799128,\n",
              "       1.12018923, 1.11231655, 1.10438318, 1.09639896, 1.08837361,\n",
              "       1.08031671, 1.0722377 , 1.06414586, 1.05605029, 1.04795991,\n",
              "       1.03988343, 1.03182936, 1.02380602, 1.01582148, 1.0078836 ,\n",
              "       1.        , 0.99217806, 0.98442494, 0.97674753, 0.96915249,\n",
              "       0.96164625, 0.95423498, 0.9469246 , 0.9397208 , 0.93262902,\n",
              "       0.92565448, 0.91880214, 0.91207675, 0.90548282, 0.89902465,\n",
              "       0.89270632, 0.88653168, 0.8805044 , 0.87462794, 0.86890555,\n",
              "       0.86334033, 0.85793515, 0.85269275, 0.84761567, 0.8427063 ,\n",
              "       0.83796689, 0.8333995 , 0.8290061 , 0.82478848, 0.82074833,\n",
              "       0.81688721, 0.81320655, 0.80970768, 0.80639184, 0.80326013,\n",
              "       0.8003136 , 0.79755318, 0.79497973, 0.79259404, 0.79039679,\n",
              "       0.78838863, 0.78657011, 0.78494173, 0.78350394, 0.78225711,\n",
              "       0.78120156, 0.78033757, 0.77966535, 0.77918507, 0.77889686,\n",
              "       0.77880078, 0.77889686, 0.77918507, 0.77966535, 0.78033757,\n",
              "       0.78120156, 0.78225711, 0.78350394, 0.78494173, 0.78657011,\n",
              "       0.78838863, 0.79039679, 0.79259404, 0.79497973, 0.79755318,\n",
              "       0.8003136 , 0.80326013, 0.80639184, 0.80970768, 0.81320655,\n",
              "       0.81688721, 0.82074833, 0.82478848, 0.8290061 , 0.8333995 ,\n",
              "       0.83796689, 0.8427063 , 0.84761567, 0.85269275, 0.85793515,\n",
              "       0.86334033, 0.86890555, 0.87462794, 0.8805044 , 0.88653168,\n",
              "       0.89270632, 0.89902465, 0.90548282, 0.91207675, 0.91880214,\n",
              "       0.92565448, 0.93262902, 0.9397208 , 0.9469246 , 0.95423498,\n",
              "       0.96164625, 0.96915249, 0.97674753, 0.98442494, 0.99217806,\n",
              "       1.        , 1.0078836 , 1.01582148, 1.02380602, 1.03182936,\n",
              "       1.03988343, 1.04795991, 1.05605029, 1.06414586, 1.0722377 ,\n",
              "       1.08031671, 1.08837361, 1.09639896, 1.10438318, 1.11231655,\n",
              "       1.12018923, 1.12799128, 1.13571267, 1.14334331, 1.15087307,\n",
              "       1.15829178, 1.16558926, 1.17275537, 1.17977998, 1.18665304,\n",
              "       1.19336458, 1.19990472, 1.20626374, 1.21243206, 1.21840028,\n",
              "       1.22415921, 1.22969988, 1.2350136 , 1.24009192, 1.24492672,\n",
              "       1.2495102 , 1.25383489, 1.2578937 , 1.26167994, 1.26518732,\n",
              "       1.26840998, 1.27134249, 1.27397991, 1.27631777, 1.27835208,\n",
              "       1.28007937, 1.28149668, 1.28260157, 1.28339214, 1.28386703,\n",
              "       1.28402542])"
            ]
          },
          "metadata": {
            "tags": []
          },
          "execution_count": 73
        }
      ]
    },
    {
      "cell_type": "code",
      "metadata": {
        "id": "tRbklHIJisBv",
        "outputId": "275e8ae7-c2ff-47cc-ea04-0fd9ac873e60",
        "colab": {
          "base_uri": "https://localhost:8080/",
          "height": 37
        }
      },
      "source": [
        "trapz(G(X),X)"
      ],
      "execution_count": 74,
      "outputs": [
        {
          "output_type": "execute_result",
          "data": {
            "image/png": "[encoded data removed]",
            "text/latex": "$\\displaystyle 6.3817442392421$",
            "text/plain": [
              "6.381744239242103"
            ]
          },
          "metadata": {
            "tags": []
          },
          "execution_count": 74
        }
      ]
    },
    {
      "cell_type": "code",
      "metadata": {
        "id": "0rcazf33ir-B"
      },
      "source": [
        ""
      ],
      "execution_count": null,
      "outputs": []
    },
    {
      "cell_type": "code",
      "metadata": {
        "id": "CZcFBPx2ir6o"
      },
      "source": [
        ""
      ],
      "execution_count": null,
      "outputs": []
    }
  ]
}