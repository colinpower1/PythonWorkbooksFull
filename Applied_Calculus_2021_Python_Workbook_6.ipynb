{
  "nbformat": 4,
  "nbformat_minor": 0,
  "metadata": {
    "anaconda-cloud": {},
    "kernelspec": {
      "display_name": "Python 3",
      "language": "python",
      "name": "python3"
    },
    "language_info": {
      "codemirror_mode": {
        "name": "ipython",
        "version": 3
      },
      "file_extension": ".py",
      "mimetype": "text/x-python",
      "name": "python",
      "nbconvert_exporter": "python",
      "pygments_lexer": "ipython3",
      "version": "3.8.3"
    },
    "colab": {
      "name": "Applied Calculus 2021 - Python Workbook 6.ipynb",
      "provenance": []
    }
  },
  "cells": [
    {
      "cell_type": "markdown",
      "metadata": {
        "id": "oist7AXwFHF1"
      },
      "source": [
        "### Name: Colin Power\n",
        "### Student Number: 20088839"
      ]
    },
    {
      "cell_type": "markdown",
      "metadata": {
        "id": "SwLMy6hCFHF-"
      },
      "source": [
        "# Python Workbook 6 - Applications of Differentitation\n",
        "\n",
        "\n",
        "In this practical we will use Python to study various problems based on applications of differentiation, particularly in relation to __max/min problems__ and __optimisation__. \n",
        " \n",
        "### Turning points (or stationary points) of a function\n",
        "\n",
        " * A __smooth__ function $f(t)$ has a __stationary point__ (local max, local min, points of inflection) at a specific value $t=t_0$ if the following holds:   \n",
        "$$\n",
        "\\frac{df}{dt}(t_0)=0.\n",
        "$$\n",
        "\n",
        "\n",
        "* We can implement this symbolically in Python using the __diff()__ and __solve()__ functions from the library.\n",
        "\n",
        "\n",
        "\n",
        "* To begin, we import the __sympy__ library in the ususal way. We also use the __init_printing__ environment to produce mathematical output when we run Python cells."
      ]
    },
    {
      "cell_type": "code",
      "metadata": {
        "id": "NcdHslD0FHF_"
      },
      "source": [
        "from sympy import *\n",
        "from sympy import init_printing \n",
        "init_printing()"
      ],
      "execution_count": 3,
      "outputs": []
    },
    {
      "cell_type": "markdown",
      "metadata": {
        "id": "DsY9Sx1LFHGA"
      },
      "source": [
        "## Example 1: \n",
        "\n",
        "Given the function\n",
        "$$\n",
        "F(t)=3t^{3}+26t^{2}-61t-468\n",
        "$$\n",
        "answer the following:\n",
        "\n",
        "1. Plot the function F(t) over the interval $-10<t<5$,\n",
        "\n",
        "2. From this plot, estimate how many tunring points the function will have.\n",
        "\n",
        "3. Use the __solve()__ function to determine the values of $t$ where the function is stationary.\n",
        "\n",
        "4. Use the __subs()__ function to determine the correpsonding $y$-values of the turining points."
      ]
    },
    {
      "cell_type": "markdown",
      "metadata": {
        "id": "8G4PXJxgFHGB"
      },
      "source": [
        "### Part 1:\n",
        "First we must create a symbolic variable for $t$, and then define the function $F(t)$."
      ]
    },
    {
      "cell_type": "code",
      "metadata": {
        "colab": {
          "base_uri": "https://localhost:8080/",
          "height": 38
        },
        "id": "AZwRPW7rFHGC",
        "outputId": "d94909a9-9f49-4e77-aec6-c72ec6332b8f"
      },
      "source": [
        "t=symbols('t')\n",
        "F=3*t**3+26*t**2-61*t-468\n",
        "F"
      ],
      "execution_count": 4,
      "outputs": [
        {
          "output_type": "execute_result",
          "data": {
            "image/png": "[encoded data removed]",
            "text/latex": "$\\displaystyle 3 t^{3} + 26 t^{2} - 61 t - 468$",
            "text/plain": [
              "   3       2             \n",
              "3⋅t  + 26⋅t  - 61⋅t - 468"
            ]
          },
          "metadata": {
            "tags": []
          },
          "execution_count": 4
        }
      ]
    },
    {
      "cell_type": "markdown",
      "metadata": {
        "id": "i-8AVIBfFHGF"
      },
      "source": [
        "Now we can plot the function $F(t)$."
      ]
    },
    {
      "cell_type": "code",
      "metadata": {
        "colab": {
          "base_uri": "https://localhost:8080/",
          "height": 297
        },
        "id": "ZfZnjXbfFHGF",
        "outputId": "3a83f29e-9f5d-4c85-d6dc-cef7e970b109"
      },
      "source": [
        "plot(F,(t,-9,4));"
      ],
      "execution_count": 5,
      "outputs": [
        {
          "output_type": "display_data",
          "data": {
            "image/png": "[encoded data removed]",
            "text/plain": [
              "<Figure size 432x288 with 1 Axes>"
            ]
          },
          "metadata": {
            "tags": [],
            "needs_background": "light"
          }
        }
      ]
    },
    {
      "cell_type": "markdown",
      "metadata": {
        "id": "Ba4vfZ8MFHGG"
      },
      "source": [
        "### Part 2:\n",
        "From the graph it appear the function has __two__ stationary points."
      ]
    },
    {
      "cell_type": "markdown",
      "metadata": {
        "id": "cUvJam7wFHGH"
      },
      "source": [
        "### Part 3:\n",
        "\n",
        "* To find the values of $t$ which are turning points, we must find all values of $t$ such that\n",
        "\\\\[\n",
        "\\frac{dF}{dt}=0.\n",
        "\\\\]\n",
        "\n",
        "* First we find the derivative of $F(t)$ using __diff()__"
      ]
    },
    {
      "cell_type": "code",
      "metadata": {
        "colab": {
          "base_uri": "https://localhost:8080/",
          "height": 38
        },
        "id": "V7fgT0lsFHGH",
        "outputId": "3f636f2f-5f1e-4e75-bb17-815fcd178ddb"
      },
      "source": [
        "dF=diff(F,t)\n",
        "dF"
      ],
      "execution_count": 6,
      "outputs": [
        {
          "output_type": "execute_result",
          "data": {
            "image/png": "[encoded data removed]",
            "text/latex": "$\\displaystyle 9 t^{2} + 52 t - 61$",
            "text/plain": [
              "   2            \n",
              "9⋅t  + 52⋅t - 61"
            ]
          },
          "metadata": {
            "tags": []
          },
          "execution_count": 6
        }
      ]
    },
    {
      "cell_type": "markdown",
      "metadata": {
        "id": "gU61UDpTFHGJ"
      },
      "source": [
        "* Now we use __solve()__ to find all values of $t$ such that $\\frac{dF}{dt}=0$."
      ]
    },
    {
      "cell_type": "code",
      "metadata": {
        "colab": {
          "base_uri": "https://localhost:8080/",
          "height": 58
        },
        "id": "IABG0JCIFHGJ",
        "outputId": "de115f26-055c-4063-987e-efd14c295afa"
      },
      "source": [
        "Sp_F=solve(dF,t)\n",
        "Sp_F"
      ],
      "execution_count": 7,
      "outputs": [
        {
          "output_type": "execute_result",
          "data": {
            "image/png": "[encoded data removed]",
            "text/latex": "$\\displaystyle \\left[ - \\frac{61}{9}, \\  1\\right]$",
            "text/plain": [
              "[-61/9, 1]"
            ]
          },
          "metadata": {
            "tags": []
          },
          "execution_count": 7
        }
      ]
    },
    {
      "cell_type": "markdown",
      "metadata": {
        "id": "rucj2EISFHGK"
      },
      "source": [
        "* We see there are two values of $t$ at which the derivative vanishes. We call these values __Sp_F__ for _Stationary-points of F_."
      ]
    },
    {
      "cell_type": "markdown",
      "metadata": {
        "id": "AYVOFMUlFHGK"
      },
      "source": [
        "### Part 4:\n",
        "\n",
        "* We note that __Sp_F__ is an array of values. \n",
        "\n",
        "* We can select a specific value from this array using the index identifiers __Sp_F[0]__ and __Sp_F[1]__.\n",
        "\n",
        "* ___Note:___ The index starts at __zero!!__"
      ]
    },
    {
      "cell_type": "code",
      "metadata": {
        "colab": {
          "base_uri": "https://localhost:8080/",
          "height": 51
        },
        "id": "uvmiDO5HFHGL",
        "outputId": "c1164620-f59e-4964-87c5-9a83cc4b58c4"
      },
      "source": [
        "Sp_F[0]"
      ],
      "execution_count": 8,
      "outputs": [
        {
          "output_type": "execute_result",
          "data": {
            "image/png": "[encoded data removed]",
            "text/latex": "$\\displaystyle - \\frac{61}{9}$",
            "text/plain": [
              "-61/9"
            ]
          },
          "metadata": {
            "tags": []
          },
          "execution_count": 8
        }
      ]
    },
    {
      "cell_type": "code",
      "metadata": {
        "colab": {
          "base_uri": "https://localhost:8080/",
          "height": 37
        },
        "id": "wVQYSm26FHGL",
        "outputId": "ead17a7f-6704-4f2e-b146-65d6be831712"
      },
      "source": [
        "Sp_F[1]"
      ],
      "execution_count": 9,
      "outputs": [
        {
          "output_type": "execute_result",
          "data": {
            "image/png": "[encoded data removed]",
            "text/latex": "$\\displaystyle 1$",
            "text/plain": [
              "1"
            ]
          },
          "metadata": {
            "tags": []
          },
          "execution_count": 9
        }
      ]
    },
    {
      "cell_type": "markdown",
      "metadata": {
        "id": "X5nMEfDzFHGM"
      },
      "source": [
        "* The $y$-coordinates corresponding to these stationary values are easily found using __subs().__\n",
        "\n",
        "* The first turing point has $(x,y)$-cordinates:"
      ]
    },
    {
      "cell_type": "code",
      "metadata": {
        "colab": {
          "base_uri": "https://localhost:8080/",
          "height": 58
        },
        "id": "J7V-UflJFHGM",
        "outputId": "346a7a06-dc49-41da-f25f-3a306d524734"
      },
      "source": [
        "Sp_F[0],F.subs(t,Sp_F[0])"
      ],
      "execution_count": 10,
      "outputs": [
        {
          "output_type": "execute_result",
          "data": {
            "image/png": "[encoded data removed]",
            "text/latex": "$\\displaystyle \\left( - \\frac{61}{9}, \\  \\frac{50000}{243}\\right)$",
            "text/plain": [
              "⎛       50000⎞\n",
              "⎜-61/9, ─────⎟\n",
              "⎝        243 ⎠"
            ]
          },
          "metadata": {
            "tags": []
          },
          "execution_count": 10
        }
      ]
    },
    {
      "cell_type": "markdown",
      "metadata": {
        "id": "jfJ2WdONFvlR"
      },
      "source": [
        "* These numbers can also be written in decimal form using the function __N()__"
      ]
    },
    {
      "cell_type": "code",
      "metadata": {
        "colab": {
          "base_uri": "https://localhost:8080/",
          "height": 37
        },
        "id": "2WiiXEcDF4Qi",
        "outputId": "aa01a968-2b67-4e15-c8a5-fa3787b4dfb8"
      },
      "source": [
        "N(Sp_F[0]),N(F.subs(t,Sp_F[0]))"
      ],
      "execution_count": 11,
      "outputs": [
        {
          "output_type": "execute_result",
          "data": {
            "image/png": "[encoded data removed]",
            "text/latex": "$\\displaystyle \\left( -6.77777777777778, \\  205.761316872428\\right)$",
            "text/plain": [
              "(-6.77777777777778, 205.761316872428)"
            ]
          },
          "metadata": {
            "tags": []
          },
          "execution_count": 11
        }
      ]
    },
    {
      "cell_type": "markdown",
      "metadata": {
        "id": "dA7vppsSFHGN"
      },
      "source": [
        "* The second turing point has $(x,y)$-coordinates given by"
      ]
    },
    {
      "cell_type": "code",
      "metadata": {
        "id": "Efhe43jhFHGN",
        "outputId": "a0aa834f-abb8-4516-bd94-cedbe15af836",
        "colab": {
          "base_uri": "https://localhost:8080/",
          "height": 37
        }
      },
      "source": [
        "Sp_F[1],F.subs(t,Sp_F[1])"
      ],
      "execution_count": 12,
      "outputs": [
        {
          "output_type": "execute_result",
          "data": {
            "image/png": "[encoded data removed]",
            "text/latex": "$\\displaystyle \\left( 1, \\  -500\\right)$",
            "text/plain": [
              "(1, -500)"
            ]
          },
          "metadata": {
            "tags": []
          },
          "execution_count": 12
        }
      ]
    },
    {
      "cell_type": "markdown",
      "metadata": {
        "id": "IUI03ICBFHGN"
      },
      "source": [
        "### The tangents at the turning points.\n",
        "\n",
        "* The tangent at the turning point $\\left(-\\frac{61}{9},\\frac{50000}{243}\\right)$ is simply the __horizontal line__ at height $\\frac{50000}{243}$.\n",
        "\n",
        "\n",
        "\n",
        "* In other words, the equation of the tangent is:\n",
        "\n",
        "$$y=\\frac{50000}{243}.$$\n",
        "\n",
        "\n",
        "* Similary, the equation of the tangent at the turning point $(1,-500)$ is simply the __horizontal line:__\n",
        "\n",
        "$$y=-500.$$\n",
        "\n",
        "\n",
        "* We can easily plot these on the original graph as follows:"
      ]
    },
    {
      "cell_type": "code",
      "metadata": {
        "colab": {
          "base_uri": "https://localhost:8080/",
          "height": 297
        },
        "id": "JsDdmFKMFHGO",
        "outputId": "02b20589-1cde-414e-f8eb-f3f75965c016"
      },
      "source": [
        "plot(F,F.subs(t,Sp_F[0]),F.subs(t,Sp_F[1]), (t,-9,4));\n"
      ],
      "execution_count": 13,
      "outputs": [
        {
          "output_type": "display_data",
          "data": {
            "image/png": "[encoded data removed]",
            "text/plain": [
              "<Figure size 432x288 with 1 Axes>"
            ]
          },
          "metadata": {
            "tags": [],
            "needs_background": "light"
          }
        }
      ]
    },
    {
      "cell_type": "code",
      "metadata": {
        "id": "E-CHKacQFHGO"
      },
      "source": [
        ""
      ],
      "execution_count": 13,
      "outputs": []
    },
    {
      "cell_type": "code",
      "metadata": {
        "id": "Ts_sL8iVFHGO"
      },
      "source": [
        ""
      ],
      "execution_count": 13,
      "outputs": []
    },
    {
      "cell_type": "markdown",
      "metadata": {
        "id": "YXaAjmaUFHGP"
      },
      "source": [
        "## Exercise 1: \n",
        "\n",
        "Given the function\n",
        "$$\n",
        "G(t)=8t^{3}-66t^{2}-81t+243\n",
        "$$\n",
        "answer the following:\n",
        "\n",
        "1. Plot the function G(t) over the interval $-4<t<10$,\n",
        "\n",
        "2. From this plot, estimate how many tunring points the function will have.\n",
        "\n",
        "3. Use the __solve()__ function to determine the values of $t$ where the function is stationary.\n",
        "\n",
        "4. Use the __subs()__ function to determine the correpsonding $y$-values of the turining points.\n",
        "\n",
        "5. Plot the function and the tangents at the turning point(s)."
      ]
    },
    {
      "cell_type": "code",
      "metadata": {
        "id": "3rmyvx30FHGP",
        "outputId": "fb147191-0589-4c44-fa4e-5f6a7a959397",
        "colab": {
          "base_uri": "https://localhost:8080/",
          "height": 38
        }
      },
      "source": [
        "\n",
        "G=8*t**3-66*t**2-81*t+243\n",
        "G"
      ],
      "execution_count": 14,
      "outputs": [
        {
          "output_type": "execute_result",
          "data": {
            "image/png": "[encoded data removed]",
            "text/latex": "$\\displaystyle 8 t^{3} - 66 t^{2} - 81 t + 243$",
            "text/plain": [
              "   3       2             \n",
              "8⋅t  - 66⋅t  - 81⋅t + 243"
            ]
          },
          "metadata": {
            "tags": []
          },
          "execution_count": 14
        }
      ]
    },
    {
      "cell_type": "code",
      "metadata": {
        "id": "rVbVl-mqFHGQ",
        "outputId": "ff9bdd81-dd5b-41d8-a506-0a1d0d8bcf37",
        "colab": {
          "base_uri": "https://localhost:8080/",
          "height": 297
        }
      },
      "source": [
        "plot(G,(t,-3,9));"
      ],
      "execution_count": 15,
      "outputs": [
        {
          "output_type": "display_data",
          "data": {
            "image/png": "[encoded data removed]",
            "text/plain": [
              "<Figure size 432x288 with 1 Axes>"
            ]
          },
          "metadata": {
            "tags": [],
            "needs_background": "light"
          }
        }
      ]
    },
    {
      "cell_type": "code",
      "metadata": {
        "id": "cbO3DQTtFHGQ"
      },
      "source": [
        "#From the graph it has 2 turning points."
      ],
      "execution_count": null,
      "outputs": []
    },
    {
      "cell_type": "code",
      "metadata": {
        "id": "z9YeJmQVFHGQ",
        "outputId": "c175caa3-5199-47fa-996c-a66e1cc5c218",
        "colab": {
          "base_uri": "https://localhost:8080/",
          "height": 38
        }
      },
      "source": [
        "dG=diff(G,t)\n",
        "dG"
      ],
      "execution_count": 16,
      "outputs": [
        {
          "output_type": "execute_result",
          "data": {
            "image/png": "[encoded data removed]",
            "text/latex": "$\\displaystyle 24 t^{2} - 132 t - 81$",
            "text/plain": [
              "    2             \n",
              "24⋅t  - 132⋅t - 81"
            ]
          },
          "metadata": {
            "tags": []
          },
          "execution_count": 16
        }
      ]
    },
    {
      "cell_type": "code",
      "metadata": {
        "id": "thlzibMe3yS3",
        "outputId": "1c563601-f824-40f8-e690-a725758e4a44",
        "colab": {
          "base_uri": "https://localhost:8080/",
          "height": 68
        }
      },
      "source": [
        "Sp_G=solve(dG,t)\n",
        "Sp_G"
      ],
      "execution_count": 17,
      "outputs": [
        {
          "output_type": "execute_result",
          "data": {
            "image/png": "[encoded data removed]",
            "text/latex": "$\\displaystyle \\left[ \\frac{11}{4} - \\frac{5 \\sqrt{7}}{4}, \\  \\frac{11}{4} + \\frac{5 \\sqrt{7}}{4}\\right]$",
            "text/plain": [
              "⎡11   5⋅√7  11   5⋅√7⎤\n",
              "⎢── - ────, ── + ────⎥\n",
              "⎣4     4    4     4  ⎦"
            ]
          },
          "metadata": {
            "tags": []
          },
          "execution_count": 17
        }
      ]
    },
    {
      "cell_type": "code",
      "metadata": {
        "id": "SFCrX7TX3yJB",
        "outputId": "a2cf80b2-4a0f-4ee3-c85a-91d32e49daac",
        "colab": {
          "base_uri": "https://localhost:8080/",
          "height": 37
        }
      },
      "source": [
        "N(Sp_G[0]),N(G.subs(t,Sp_G[0]))"
      ],
      "execution_count": 20,
      "outputs": [
        {
          "output_type": "execute_result",
          "data": {
            "image/png": "[encoded data removed]",
            "text/latex": "$\\displaystyle \\left( -0.557189138830738, \\  266.258099295379\\right)$",
            "text/plain": [
              "(-0.557189138830738, 266.258099295379)"
            ]
          },
          "metadata": {
            "tags": []
          },
          "execution_count": 20
        }
      ]
    },
    {
      "cell_type": "code",
      "metadata": {
        "id": "fNKepJKD5SPI",
        "outputId": "e8317d75-7bff-4e7c-8064-0b75702fabc8",
        "colab": {
          "base_uri": "https://localhost:8080/",
          "height": 297
        }
      },
      "source": [
        "plot(G,G.subs(t,Sp_G[0]),G.subs(t,Sp_G[1]), (t,-3,9));"
      ],
      "execution_count": 21,
      "outputs": [
        {
          "output_type": "display_data",
          "data": {
            "image/png": "[encoded data removed]",
            "text/plain": [
              "<Figure size 432x288 with 1 Axes>"
            ]
          },
          "metadata": {
            "tags": [],
            "needs_background": "light"
          }
        }
      ]
    },
    {
      "cell_type": "code",
      "metadata": {
        "id": "N4b9wVPg5SGX"
      },
      "source": [
        ""
      ],
      "execution_count": 21,
      "outputs": []
    },
    {
      "cell_type": "markdown",
      "metadata": {
        "id": "gy7HoOOBFHGQ"
      },
      "source": [
        "## Classifying stationary points\n",
        "\n",
        "* Given a function $f(t)$, with turning point $(t_0,f(t_0))$, then the turninig point is classified as follows:\n",
        "\n",
        "    1. $(t_0,f(t_0))$ is a __max (maximum)__ if\n",
        "    $$\n",
        "        \\frac{d^2f}{dt^2}(t_0)<0\n",
        "    $$\n",
        "    \n",
        "    2. $(t_0,f(t_0))$ is a __min (minimum)__ if\n",
        "    $$\n",
        "        \\frac{d^2f}{dt^2}(t_0)>0\n",
        "    $$\n",
        "    \n",
        "    3. $(t_0,f(t_0))$ is a __point of inflection__ if\n",
        "    $$\n",
        "        \\frac{d^2f}{dt^2}(t_0)=0.\n",
        "    $$"
      ]
    },
    {
      "cell_type": "markdown",
      "metadata": {
        "id": "Cr8vIhtaFHGR"
      },
      "source": [
        "## Example 2 - Oil refinery profit\n",
        "\n",
        "The daily profit of an oil refinery is given by the function\n",
        "$$\n",
        "    p(b) = 8b − 0.02b^2,\n",
        "$$\n",
        "\n",
        "where $b$ is the number of barrels (bbl.) of oil refined. \n",
        "\n",
        "1. Plot the profit, and interpret the graph.\n",
        "\n",
        "2. Use __diff()__ and __solve__ to find all possible turning points of $p(b)$.\n",
        "\n",
        "3. Classify these turing points as __max__ or __min__ points.\n",
        "\n",
        "4. Hence find the __maximum daily profit__ of the oil refinery."
      ]
    },
    {
      "cell_type": "markdown",
      "metadata": {
        "id": "tXZ7QVUYFHGR"
      },
      "source": [
        "### Part 1:\n",
        "We create a symbol for $b$, and then define the function $p(b)$."
      ]
    },
    {
      "cell_type": "code",
      "metadata": {
        "id": "KL-5P_DQFHGR",
        "outputId": "56cee750-1665-4b79-a1e0-c9ab948dd4f5",
        "colab": {
          "base_uri": "https://localhost:8080/",
          "height": 38
        }
      },
      "source": [
        "b=Symbol('b')\n",
        "p=8*b - 0.02*b**2\n",
        "p"
      ],
      "execution_count": 22,
      "outputs": [
        {
          "output_type": "execute_result",
          "data": {
            "image/png": "[encoded data removed]",
            "text/latex": "$\\displaystyle - 0.02 b^{2} + 8 b$",
            "text/plain": [
              "        2      \n",
              "- 0.02⋅b  + 8⋅b"
            ]
          },
          "metadata": {
            "tags": []
          },
          "execution_count": 22
        }
      ]
    },
    {
      "cell_type": "markdown",
      "metadata": {
        "id": "XU1or7MUFHGS"
      },
      "source": [
        "* We can now plot the profit as a function of $b$.\n",
        "\n",
        "\n",
        "* Since $b$ is the number of barrels refined, it does not make much sense to let $b$ be negative, so we plot the function over the interval $0< b< 500$."
      ]
    },
    {
      "cell_type": "code",
      "metadata": {
        "id": "eZ7boItCFHGS",
        "outputId": "5c5986b6-62ae-4495-a350-7f4186e0e974",
        "colab": {
          "base_uri": "https://localhost:8080/",
          "height": 297
        }
      },
      "source": [
        "plot(p,(b,0,500));"
      ],
      "execution_count": 23,
      "outputs": [
        {
          "output_type": "display_data",
          "data": {
            "image/png": "[encoded data removed]",
            "text/plain": [
              "<Figure size 432x288 with 1 Axes>"
            ]
          },
          "metadata": {
            "tags": [],
            "needs_background": "light"
          }
        }
      ]
    },
    {
      "cell_type": "markdown",
      "metadata": {
        "id": "k3PB_7BrFHGT"
      },
      "source": [
        "* From the graph we see that the __maximim daily profit__ is achieved at about $200$ bbl. per day. If the refinery refines more than 400 bbl. per day the refinery starts to loose money (i.e. negative profits)."
      ]
    },
    {
      "cell_type": "markdown",
      "metadata": {
        "id": "3amLdJ-bFHGT"
      },
      "source": [
        "### Part 2:\n",
        "\n",
        "* Differentiating using __diff()__, we have"
      ]
    },
    {
      "cell_type": "code",
      "metadata": {
        "id": "WUcMnh6MFHGT",
        "outputId": "caf4e342-20b6-4df0-e491-f924ccc700ef",
        "colab": {
          "base_uri": "https://localhost:8080/",
          "height": 38
        }
      },
      "source": [
        "dp=diff(p,b)\n",
        "dp"
      ],
      "execution_count": 24,
      "outputs": [
        {
          "output_type": "execute_result",
          "data": {
            "image/png": "[encoded data removed]",
            "text/latex": "$\\displaystyle 8 - 0.04 b$",
            "text/plain": [
              "8 - 0.04⋅b"
            ]
          },
          "metadata": {
            "tags": []
          },
          "execution_count": 24
        }
      ]
    },
    {
      "cell_type": "markdown",
      "metadata": {
        "id": "sZQRs_7cFHGU"
      },
      "source": [
        "* Solving for $\\frac{dp}{db}=0$ we have"
      ]
    },
    {
      "cell_type": "code",
      "metadata": {
        "id": "b3dI6uoMFHGU",
        "outputId": "19c07bf7-7b1e-46ba-e2eb-2319d06c8c69",
        "colab": {
          "base_uri": "https://localhost:8080/",
          "height": 37
        }
      },
      "source": [
        "Sp_p=solve(dp,b)\n",
        "Sp_p"
      ],
      "execution_count": 25,
      "outputs": [
        {
          "output_type": "execute_result",
          "data": {
            "image/png": "[encoded data removed]",
            "text/latex": "$\\displaystyle \\left[ 200.0\\right]$",
            "text/plain": [
              "[200.0]"
            ]
          },
          "metadata": {
            "tags": []
          },
          "execution_count": 25
        }
      ]
    },
    {
      "cell_type": "markdown",
      "metadata": {
        "id": "tIncKsdZFHGU"
      },
      "source": [
        "* There is only one turning point at $b=200$."
      ]
    },
    {
      "cell_type": "markdown",
      "metadata": {
        "id": "gXk57PNwFHGU"
      },
      "source": [
        "### Part 3\n",
        "\n",
        "* We find the __second derivative__ by differentiating $\\frac{dp}{db}$:"
      ]
    },
    {
      "cell_type": "code",
      "metadata": {
        "id": "tA1JWYFBFHGV",
        "outputId": "55288fd3-4d1a-4fe3-ef04-bb9044618a92",
        "colab": {
          "base_uri": "https://localhost:8080/",
          "height": 37
        }
      },
      "source": [
        "ddp=diff(dp,b)\n",
        "ddp"
      ],
      "execution_count": 26,
      "outputs": [
        {
          "output_type": "execute_result",
          "data": {
            "image/png": "[encoded data removed]",
            "text/latex": "$\\displaystyle -0.04$",
            "text/plain": [
              "-0.0400000000000000"
            ]
          },
          "metadata": {
            "tags": []
          },
          "execution_count": 26
        }
      ]
    },
    {
      "cell_type": "markdown",
      "metadata": {
        "id": "9n4F9_dPFHGW"
      },
      "source": [
        "* We evaluate the second derivative __ddp__ at the stationary points __Sp_p__, to see whether it is a max or a min"
      ]
    },
    {
      "cell_type": "code",
      "metadata": {
        "id": "65La051xFHGW",
        "outputId": "d97a4f42-7c2b-443a-bde1-efecc131a386",
        "colab": {
          "base_uri": "https://localhost:8080/",
          "height": 37
        }
      },
      "source": [
        "ddp.subs(b,Sp_p[0])"
      ],
      "execution_count": 27,
      "outputs": [
        {
          "output_type": "execute_result",
          "data": {
            "image/png": "[encoded data removed]",
            "text/latex": "$\\displaystyle -0.04$",
            "text/plain": [
              "-0.0400000000000000"
            ]
          },
          "metadata": {
            "tags": []
          },
          "execution_count": 27
        }
      ]
    },
    {
      "cell_type": "markdown",
      "metadata": {
        "id": "hUtur6LuFHGW"
      },
      "source": [
        "* Mathematically, this means\n",
        "\n",
        "\n",
        "$$\n",
        "\\frac{d^2p}{db^2}(200.00)=-0.04<0.\n",
        "$$\n",
        "\n",
        "\n",
        "* Hence the turning point $b=200.00$ is a __maximum__."
      ]
    },
    {
      "cell_type": "markdown",
      "metadata": {
        "id": "hSvTmNmMFHGW"
      },
      "source": [
        "### Part 4\n",
        "\n",
        "* The __maximum profits__ are found by substiuting this turing point into the __original function__:"
      ]
    },
    {
      "cell_type": "code",
      "metadata": {
        "id": "yTp5f6AjFHGX",
        "outputId": "e42fb288-679e-4665-89f9-d1a30cd13252",
        "colab": {
          "base_uri": "https://localhost:8080/",
          "height": 37
        }
      },
      "source": [
        "p_max=p.subs(b,Sp_p[0])\n",
        "p_max"
      ],
      "execution_count": 28,
      "outputs": [
        {
          "output_type": "execute_result",
          "data": {
            "image/png": "[encoded data removed]",
            "text/latex": "$\\displaystyle 800.0$",
            "text/plain": [
              "800.000000000000"
            ]
          },
          "metadata": {
            "tags": []
          },
          "execution_count": 28
        }
      ]
    },
    {
      "cell_type": "markdown",
      "metadata": {
        "id": "2S3k7sclFHGX"
      },
      "source": [
        "## Exercise 2\n",
        "\n",
        "Consider the function \n",
        "$$\n",
        "    f(x) = x(4-x)\n",
        "$$\n",
        "\n",
        "1. Plot the function $f(x)$ and from the graph estimate how many turning points the function will have.\n",
        "\n",
        "2. Use __diff()__ and __solve__ to find all possible turning points of $f(x)$.\n",
        "\n",
        "3. Classify these turing points as __max__ or __min__ points.\n",
        "\n",
        "4. Hence find the __maximum__ and __minimum__ values of the function."
      ]
    },
    {
      "cell_type": "code",
      "metadata": {
        "id": "1-kRS1NtFHGY",
        "outputId": "769a2678-f38d-41ec-a497-190769b090dd",
        "colab": {
          "base_uri": "https://localhost:8080/",
          "height": 38
        }
      },
      "source": [
        "f=4*x-x**2\n",
        "f"
      ],
      "execution_count": 31,
      "outputs": [
        {
          "output_type": "execute_result",
          "data": {
            "image/png": "[encoded data removed]",
            "text/latex": "$\\displaystyle - x^{2} + 4 x$",
            "text/plain": [
              "   2      \n",
              "- x  + 4⋅x"
            ]
          },
          "metadata": {
            "tags": []
          },
          "execution_count": 31
        }
      ]
    },
    {
      "cell_type": "code",
      "metadata": {
        "id": "aqkzY8K065bB",
        "outputId": "ee090246-5716-4b2d-aca8-3a1e6558d15f",
        "colab": {
          "base_uri": "https://localhost:8080/",
          "height": 297
        }
      },
      "source": [
        "plot(f,(x,-10,10)); #From the graph there is only one turning point."
      ],
      "execution_count": 51,
      "outputs": [
        {
          "output_type": "display_data",
          "data": {
            "image/png": "[encoded data removed]",
            "text/plain": [
              "<Figure size 432x288 with 1 Axes>"
            ]
          },
          "metadata": {
            "tags": [],
            "needs_background": "light"
          }
        }
      ]
    },
    {
      "cell_type": "code",
      "metadata": {
        "id": "Tzdehf2p65S4",
        "outputId": "e3eda14e-598d-44a5-be05-c59645f4f62d",
        "colab": {
          "base_uri": "https://localhost:8080/",
          "height": 38
        }
      },
      "source": [
        "df=diff(f,x)\n",
        "df"
      ],
      "execution_count": 37,
      "outputs": [
        {
          "output_type": "execute_result",
          "data": {
            "image/png": "[encoded data removed]",
            "text/latex": "$\\displaystyle 4 - 2 x$",
            "text/plain": [
              "4 - 2⋅x"
            ]
          },
          "metadata": {
            "tags": []
          },
          "execution_count": 37
        }
      ]
    },
    {
      "cell_type": "code",
      "metadata": {
        "id": "oOVm73RHFHGY",
        "outputId": "8aafcdcf-3622-49cd-b169-8eea97f6f346",
        "colab": {
          "base_uri": "https://localhost:8080/",
          "height": 37
        }
      },
      "source": [
        "Sp_f=solve(df,x)\n",
        "Sp_f"
      ],
      "execution_count": 38,
      "outputs": [
        {
          "output_type": "execute_result",
          "data": {
            "image/png": "[encoded data removed]",
            "text/latex": "$\\displaystyle \\left[ 2\\right]$",
            "text/plain": [
              "[2]"
            ]
          },
          "metadata": {
            "tags": []
          },
          "execution_count": 38
        }
      ]
    },
    {
      "cell_type": "code",
      "metadata": {
        "id": "5tgPOc6KFHGY",
        "outputId": "84a5195e-f4c3-4820-cd59-113f53b3d522",
        "colab": {
          "base_uri": "https://localhost:8080/",
          "height": 37
        }
      },
      "source": [
        "ddf=diff(df,x)\n",
        "ddf"
      ],
      "execution_count": 39,
      "outputs": [
        {
          "output_type": "execute_result",
          "data": {
            "image/png": "[encoded data removed]",
            "text/latex": "$\\displaystyle -2$",
            "text/plain": [
              "-2"
            ]
          },
          "metadata": {
            "tags": []
          },
          "execution_count": 39
        }
      ]
    },
    {
      "cell_type": "code",
      "metadata": {
        "id": "1oq5Hecy9GGq",
        "outputId": "64dee75a-3aa3-4a42-8e20-48591c4162d1",
        "colab": {
          "base_uri": "https://localhost:8080/",
          "height": 37
        }
      },
      "source": [
        "ddf.subs(x,Sp_f)"
      ],
      "execution_count": 60,
      "outputs": [
        {
          "output_type": "execute_result",
          "data": {
            "image/png": "[encoded data removed]",
            "text/latex": "$\\displaystyle -2$",
            "text/plain": [
              "-2"
            ]
          },
          "metadata": {
            "tags": []
          },
          "execution_count": 60
        }
      ]
    },
    {
      "cell_type": "code",
      "metadata": {
        "id": "fM6Isp3q9F_f",
        "outputId": "c00ae07c-acf6-4553-a474-880651bec4b1",
        "colab": {
          "base_uri": "https://localhost:8080/",
          "height": 37
        }
      },
      "source": [
        "f_max=f.subs(x,Sp_f[0])\n",
        "f_max"
      ],
      "execution_count": 41,
      "outputs": [
        {
          "output_type": "execute_result",
          "data": {
            "image/png": "[encoded data removed]",
            "text/latex": "$\\displaystyle 4$",
            "text/plain": [
              "4"
            ]
          },
          "metadata": {
            "tags": []
          },
          "execution_count": 41
        }
      ]
    },
    {
      "cell_type": "markdown",
      "metadata": {
        "id": "fxvaV-YHFHGZ"
      },
      "source": [
        "## Exercise 3\n",
        "\n",
        "Consider the function \n",
        "$$\n",
        "    g(t) = t^2(8-t^2)\n",
        "$$\n",
        "\n",
        "1. Plot the function $g(t)$ and from the graph estimate how many turning points the funciton will have.\n",
        "\n",
        "2. Use __diff()__ and __solve__ to find all possible turning points of $f(x)$.\n",
        "\n",
        "3. Classify these turing points a __max__ or __min__ points.\n",
        "\n",
        "4. Hence find the __maximum__ and __minimum__ values of the function."
      ]
    },
    {
      "cell_type": "code",
      "metadata": {
        "id": "0wn3e5nJFHGZ",
        "outputId": "ba4d82b2-a57f-4e7f-b6d6-78df25cb8185",
        "colab": {
          "base_uri": "https://localhost:8080/",
          "height": 38
        }
      },
      "source": [
        "g=8*t**2-t**4\n",
        "g"
      ],
      "execution_count": 42,
      "outputs": [
        {
          "output_type": "execute_result",
          "data": {
            "image/png": "[encoded data removed]",
            "text/latex": "$\\displaystyle - t^{4} + 8 t^{2}$",
            "text/plain": [
              "   4      2\n",
              "- t  + 8⋅t "
            ]
          },
          "metadata": {
            "tags": []
          },
          "execution_count": 42
        }
      ]
    },
    {
      "cell_type": "code",
      "metadata": {
        "id": "C-R4IaThFHGZ",
        "outputId": "ba17b50f-8bd3-4076-c90c-2f69e2af51ae",
        "colab": {
          "base_uri": "https://localhost:8080/",
          "height": 297
        }
      },
      "source": [
        "plot(g,(t,-5,5)); #From the graph there are three turning points."
      ],
      "execution_count": 47,
      "outputs": [
        {
          "output_type": "display_data",
          "data": {
            "image/png": "[encoded data removed]",
            "text/plain": [
              "<Figure size 432x288 with 1 Axes>"
            ]
          },
          "metadata": {
            "tags": [],
            "needs_background": "light"
          }
        }
      ]
    },
    {
      "cell_type": "code",
      "metadata": {
        "id": "j_t3ODOyFHGa",
        "outputId": "a22943c8-7fd2-44f7-a120-e82c8004ce97",
        "colab": {
          "base_uri": "https://localhost:8080/",
          "height": 38
        }
      },
      "source": [
        "dg=diff(g,t)\n",
        "dg"
      ],
      "execution_count": 44,
      "outputs": [
        {
          "output_type": "execute_result",
          "data": {
            "image/png": "[encoded data removed]",
            "text/latex": "$\\displaystyle - 4 t^{3} + 16 t$",
            "text/plain": [
              "     3       \n",
              "- 4⋅t  + 16⋅t"
            ]
          },
          "metadata": {
            "tags": []
          },
          "execution_count": 44
        }
      ]
    },
    {
      "cell_type": "code",
      "metadata": {
        "id": "AKHVSWnH-zZf",
        "outputId": "ef813cec-1ee6-475a-e9fa-42cb0ad7f1e3",
        "colab": {
          "base_uri": "https://localhost:8080/",
          "height": 37
        }
      },
      "source": [
        "Sp_g=solve(dg,t)\n",
        "Sp_g"
      ],
      "execution_count": 45,
      "outputs": [
        {
          "output_type": "execute_result",
          "data": {
            "image/png": "[encoded data removed]",
            "text/latex": "$\\displaystyle \\left[ -2, \\  0, \\  2\\right]$",
            "text/plain": [
              "[-2, 0, 2]"
            ]
          },
          "metadata": {
            "tags": []
          },
          "execution_count": 45
        }
      ]
    },
    {
      "cell_type": "code",
      "metadata": {
        "id": "6Fjx6zsz-zV3",
        "outputId": "533f685b-58ca-440f-b0ee-54e6a33aa9ee",
        "colab": {
          "base_uri": "https://localhost:8080/",
          "height": 38
        }
      },
      "source": [
        "ddg=diff(dg,t)\n",
        "ddg"
      ],
      "execution_count": 48,
      "outputs": [
        {
          "output_type": "execute_result",
          "data": {
            "image/png": "[encoded data removed]",
            "text/latex": "$\\displaystyle 16 - 12 t^{2}$",
            "text/plain": [
              "         2\n",
              "16 - 12⋅t "
            ]
          },
          "metadata": {
            "tags": []
          },
          "execution_count": 48
        }
      ]
    },
    {
      "cell_type": "code",
      "metadata": {
        "id": "pnTiBH-r-zRf",
        "outputId": "0aca8e1d-f793-4f3f-cc61-9c36c18b97ce",
        "colab": {
          "base_uri": "https://localhost:8080/",
          "height": 37
        }
      },
      "source": [
        "ddg.subs(t,Sp_g[-2]) # 16>0 This means that this point is a minimum turning point."
      ],
      "execution_count": 61,
      "outputs": [
        {
          "output_type": "execute_result",
          "data": {
            "image/png": "[encoded data removed]",
            "text/latex": "$\\displaystyle 16$",
            "text/plain": [
              "16"
            ]
          },
          "metadata": {
            "tags": []
          },
          "execution_count": 61
        }
      ]
    },
    {
      "cell_type": "code",
      "metadata": {
        "id": "whZ-e5LYCpNn",
        "outputId": "945c9ab8-e00d-43e4-e710-5ffc3c0d7d29",
        "colab": {
          "base_uri": "https://localhost:8080/",
          "height": 37
        }
      },
      "source": [
        "ddg.subs(t,Sp_g[0]) # -32<0 This means this point is a maximum turning point."
      ],
      "execution_count": 62,
      "outputs": [
        {
          "output_type": "execute_result",
          "data": {
            "image/png": "[encoded data removed]",
            "text/latex": "$\\displaystyle -32$",
            "text/plain": [
              "-32"
            ]
          },
          "metadata": {
            "tags": []
          },
          "execution_count": 62
        }
      ]
    },
    {
      "cell_type": "code",
      "metadata": {
        "id": "0nFFCJSrCpF_",
        "outputId": "2c27b363-aa10-4e13-c60f-e65da85166c0",
        "colab": {
          "base_uri": "https://localhost:8080/",
          "height": 37
        }
      },
      "source": [
        "ddg.subs(t,Sp_g[2]) # -32<0 This means this point is a maximum turning point."
      ],
      "execution_count": 63,
      "outputs": [
        {
          "output_type": "execute_result",
          "data": {
            "image/png": "[encoded data removed]",
            "text/latex": "$\\displaystyle -32$",
            "text/plain": [
              "-32"
            ]
          },
          "metadata": {
            "tags": []
          },
          "execution_count": 63
        }
      ]
    },
    {
      "cell_type": "code",
      "metadata": {
        "id": "NDrUX_5LDIXH",
        "outputId": "562dd1ca-d32c-48db-930a-33a1afa010cc",
        "colab": {
          "base_uri": "https://localhost:8080/",
          "height": 37
        }
      },
      "source": [
        "g_min=g.subs(t,Sp_g[-2])\n",
        "g_min"
      ],
      "execution_count": 64,
      "outputs": [
        {
          "output_type": "execute_result",
          "data": {
            "image/png": "[encoded data removed]",
            "text/latex": "$\\displaystyle 0$",
            "text/plain": [
              "0"
            ]
          },
          "metadata": {
            "tags": []
          },
          "execution_count": 64
        }
      ]
    },
    {
      "cell_type": "code",
      "metadata": {
        "id": "o20ZYreR-zLv",
        "outputId": "0bc42b94-fe65-4a21-d0df-1bae8d66de7e",
        "colab": {
          "base_uri": "https://localhost:8080/",
          "height": 37
        }
      },
      "source": [
        "g_max=g.subs(t,Sp_g[0])\n",
        "g_max"
      ],
      "execution_count": 50,
      "outputs": [
        {
          "output_type": "execute_result",
          "data": {
            "image/png": "[encoded data removed]",
            "text/latex": "$\\displaystyle 16$",
            "text/plain": [
              "16"
            ]
          },
          "metadata": {
            "tags": []
          },
          "execution_count": 50
        }
      ]
    },
    {
      "cell_type": "code",
      "metadata": {
        "id": "9spdy9vKDF_w",
        "outputId": "5d3c8ae7-61a4-4ab3-c19a-293b3070ea00",
        "colab": {
          "base_uri": "https://localhost:8080/",
          "height": 37
        }
      },
      "source": [
        "g_max=g.subs(t,Sp_g[2])\n",
        "g_max"
      ],
      "execution_count": 65,
      "outputs": [
        {
          "output_type": "execute_result",
          "data": {
            "image/png": "[encoded data removed]",
            "text/latex": "$\\displaystyle 16$",
            "text/plain": [
              "16"
            ]
          },
          "metadata": {
            "tags": []
          },
          "execution_count": 65
        }
      ]
    },
    {
      "cell_type": "markdown",
      "metadata": {
        "id": "sxFohS8bFHGa"
      },
      "source": [
        "## Exercise 4\n",
        "\n",
        "The acceleration of a machine is given by\n",
        "$$\n",
        "    a(r) = \\frac{10r+1}{5r^2+3150}\n",
        "$$\n",
        "\n",
        "where $r$ is the gear ratio. \n",
        "\n",
        "1. Plot the function $a(r)$ and interpret the graph.\n",
        "\n",
        "2. Use __diff()__ and __solve__ to find all possible turning points of $a(r)$.\n",
        "\n",
        "3. Classify these turing points as __max__ or __min__ points.\n",
        "\n",
        "4. Hence find the __maximum__ and __minimum__ accelerations of the machine."
      ]
    },
    {
      "cell_type": "code",
      "metadata": {
        "id": "rTWpMemFFHGb",
        "outputId": "fa7c5b8a-cbac-4d09-ebeb-7457e840142b",
        "colab": {
          "base_uri": "https://localhost:8080/",
          "height": 52
        }
      },
      "source": [
        "r=Symbol('r')\n",
        "a=(10*r+1)/(5*r**2+3150)\n",
        "a"
      ],
      "execution_count": 53,
      "outputs": [
        {
          "output_type": "execute_result",
          "data": {
            "image/png": "[encoded data removed]",
            "text/latex": "$\\displaystyle \\frac{10 r + 1}{5 r^{2} + 3150}$",
            "text/plain": [
              "  10⋅r + 1 \n",
              "───────────\n",
              "   2       \n",
              "5⋅r  + 3150"
            ]
          },
          "metadata": {
            "tags": []
          },
          "execution_count": 53
        }
      ]
    },
    {
      "cell_type": "code",
      "metadata": {
        "id": "z4eWefmpFHGb",
        "outputId": "82c1fb40-8973-4d0c-f381-cebb152e71eb",
        "colab": {
          "base_uri": "https://localhost:8080/",
          "height": 297
        }
      },
      "source": [
        "plot(a,(r,-75,75)); #From the graph there are two turning points."
      ],
      "execution_count": 55,
      "outputs": [
        {
          "output_type": "display_data",
          "data": {
            "image/png": "[encoded data removed]",
            "text/plain": [
              "<Figure size 432x288 with 1 Axes>"
            ]
          },
          "metadata": {
            "tags": [],
            "needs_background": "light"
          }
        }
      ]
    },
    {
      "cell_type": "code",
      "metadata": {
        "id": "gfbwbkwcFHGb",
        "outputId": "2d6d6485-8cc6-4943-ea74-c02343cc8027",
        "colab": {
          "base_uri": "https://localhost:8080/",
          "height": 60
        }
      },
      "source": [
        "da=diff(a,r)\n",
        "da"
      ],
      "execution_count": 56,
      "outputs": [
        {
          "output_type": "execute_result",
          "data": {
            "image/png": "[encoded data removed]",
            "text/latex": "$\\displaystyle - \\frac{10 r \\left(10 r + 1\\right)}{\\left(5 r^{2} + 3150\\right)^{2}} + \\frac{10}{5 r^{2} + 3150}$",
            "text/plain": [
              "  10⋅r⋅(10⋅r + 1)        10    \n",
              "- ─────────────── + ───────────\n",
              "                2      2       \n",
              "   ⎛   2       ⎞    5⋅r  + 3150\n",
              "   ⎝5⋅r  + 3150⎠               "
            ]
          },
          "metadata": {
            "tags": []
          },
          "execution_count": 56
        }
      ]
    },
    {
      "cell_type": "code",
      "metadata": {
        "id": "t41J8Kd2FHGb",
        "outputId": "e0bd9191-40d0-4cca-ab04-04ebb0e59727",
        "colab": {
          "base_uri": "https://localhost:8080/",
          "height": 58
        }
      },
      "source": [
        "Sp_a=solve(da,r)\n",
        "Sp_a"
      ],
      "execution_count": 57,
      "outputs": [
        {
          "output_type": "execute_result",
          "data": {
            "image/png": "[encoded data removed]",
            "text/latex": "$\\displaystyle \\left[ - \\frac{126}{5}, \\  25\\right]$",
            "text/plain": [
              "[-126/5, 25]"
            ]
          },
          "metadata": {
            "tags": []
          },
          "execution_count": 57
        }
      ]
    },
    {
      "cell_type": "code",
      "metadata": {
        "id": "_3Gu1kOHBwWP",
        "outputId": "fe8eaa89-21e3-4a97-f719-97abb35bc7f9",
        "colab": {
          "base_uri": "https://localhost:8080/",
          "height": 61
        }
      },
      "source": [
        "dda=diff(da,r)\n",
        "dda"
      ],
      "execution_count": 66,
      "outputs": [
        {
          "output_type": "execute_result",
          "data": {
            "image/png": "[encoded data removed]",
            "text/latex": "$\\displaystyle \\frac{200 r^{2} \\left(10 r + 1\\right)}{\\left(5 r^{2} + 3150\\right)^{3}} - \\frac{200 r}{\\left(5 r^{2} + 3150\\right)^{2}} - \\frac{10 \\left(10 r + 1\\right)}{\\left(5 r^{2} + 3150\\right)^{2}}$",
            "text/plain": [
              "     2                                             \n",
              "200⋅r ⋅(10⋅r + 1)       200⋅r        10⋅(10⋅r + 1) \n",
              "───────────────── - ────────────── - ──────────────\n",
              "               3                 2                2\n",
              "  ⎛   2       ⎞     ⎛   2       ⎞    ⎛   2       ⎞ \n",
              "  ⎝5⋅r  + 3150⎠     ⎝5⋅r  + 3150⎠    ⎝5⋅r  + 3150⎠ "
            ]
          },
          "metadata": {
            "tags": []
          },
          "execution_count": 66
        }
      ]
    },
    {
      "cell_type": "code",
      "metadata": {
        "id": "7S61IwRwEpdy",
        "outputId": "08c11e52-fed1-4b45-e5a5-cd75d546469d",
        "colab": {
          "base_uri": "https://localhost:8080/",
          "height": 37
        }
      },
      "source": [
        "dda.subs(r,-126/5) #This is a minimum turning point."
      ],
      "execution_count": 74,
      "outputs": [
        {
          "output_type": "execute_result",
          "data": {
            "image/png": "[encoded data removed]",
            "text/latex": "$\\displaystyle 6.27372093886987 \\cdot 10^{-5}$",
            "text/plain": [
              "6.27372093886987e-5"
            ]
          },
          "metadata": {
            "tags": []
          },
          "execution_count": 74
        }
      ]
    },
    {
      "cell_type": "code",
      "metadata": {
        "id": "-8S4jEkGBwQK",
        "outputId": "d534cc4d-7fef-447b-c313-6b8332dd63cd",
        "colab": {
          "base_uri": "https://localhost:8080/",
          "height": 51
        }
      },
      "source": [
        "dda.subs(r,25) #This is a maximum turning point."
      ],
      "execution_count": 75,
      "outputs": [
        {
          "output_type": "execute_result",
          "data": {
            "image/png": "[encoded data removed]",
            "text/latex": "$\\displaystyle - \\frac{2}{31375}$",
            "text/plain": [
              "-2/31375"
            ]
          },
          "metadata": {
            "tags": []
          },
          "execution_count": 75
        }
      ]
    },
    {
      "cell_type": "code",
      "metadata": {
        "id": "VtusySZqBwM5",
        "outputId": "fcc84fe5-79db-4ee6-a1b0-4f749f4049a4",
        "colab": {
          "base_uri": "https://localhost:8080/",
          "height": 37
        }
      },
      "source": [
        "a_min=a.subs(r,-126/5)\n",
        "a_min"
      ],
      "execution_count": 76,
      "outputs": [
        {
          "output_type": "execute_result",
          "data": {
            "image/png": "[encoded data removed]",
            "text/latex": "$\\displaystyle -0.0396825396825397$",
            "text/plain": [
              "-0.0396825396825397"
            ]
          },
          "metadata": {
            "tags": []
          },
          "execution_count": 76
        }
      ]
    },
    {
      "cell_type": "code",
      "metadata": {
        "id": "4R8wZyveEKbg",
        "outputId": "e0865d82-152a-4e6c-e61c-582670746df1",
        "colab": {
          "base_uri": "https://localhost:8080/",
          "height": 51
        }
      },
      "source": [
        "a_max=a.subs(r,25)\n",
        "a_max"
      ],
      "execution_count": 77,
      "outputs": [
        {
          "output_type": "execute_result",
          "data": {
            "image/png": "[encoded data removed]",
            "text/latex": "$\\displaystyle \\frac{1}{25}$",
            "text/plain": [
              "1/25"
            ]
          },
          "metadata": {
            "tags": []
          },
          "execution_count": 77
        }
      ]
    },
    {
      "cell_type": "markdown",
      "metadata": {
        "id": "YY55At8qFHGc"
      },
      "source": [
        "## Exercise 5\n",
        "The displacement (position) of a moving object at time $t$ is given by\n",
        "$$\n",
        "    D(t) = (1-t^2)e^{-t}\n",
        "$$\n",
        "\n",
        "\n",
        "1. Plot the function $D(t)$ and interpret the graph.\n",
        "\n",
        "2. Use __diff()__ and __solve__ to find all possible turning points of $D(t)$.\n",
        "\n",
        "3. Classify these turing points as __max__ or __min__ points.\n",
        "\n",
        "4. Hence find the __maximum__ and __minimum__ displacement of the particle.\n",
        "\n",
        "\n",
        "__NOTE:__ We may write the function $e^{-t}$ in python as __exp(-t)__"
      ]
    },
    {
      "cell_type": "code",
      "metadata": {
        "id": "eiHhyEP-FHGc"
      },
      "source": [
        ""
      ],
      "execution_count": null,
      "outputs": []
    },
    {
      "cell_type": "code",
      "metadata": {
        "id": "lCiygmUmFHGc"
      },
      "source": [
        ""
      ],
      "execution_count": null,
      "outputs": []
    },
    {
      "cell_type": "code",
      "metadata": {
        "id": "JEhlrRyBFHGc"
      },
      "source": [
        ""
      ],
      "execution_count": null,
      "outputs": []
    },
    {
      "cell_type": "code",
      "metadata": {
        "id": "Iqk2OvXPFHGc"
      },
      "source": [
        ""
      ],
      "execution_count": null,
      "outputs": []
    }
  ]
}