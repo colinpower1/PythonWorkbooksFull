{
  "nbformat": 4,
  "nbformat_minor": 0,
  "metadata": {
    "anaconda-cloud": {},
    "kernelspec": {
      "display_name": "Python 3",
      "language": "python",
      "name": "python3"
    },
    "language_info": {
      "codemirror_mode": {
        "name": "ipython",
        "version": 3
      },
      "file_extension": ".py",
      "mimetype": "text/x-python",
      "name": "python",
      "nbconvert_exporter": "python",
      "pygments_lexer": "ipython3",
      "version": "3.8.3"
    },
    "colab": {
      "name": "Applied Calculus 2021 - Python Workbook 5.ipynb",
      "provenance": []
    }
  },
  "cells": [
    {
      "cell_type": "markdown",
      "metadata": {
        "id": "Sv91QygY_MOK"
      },
      "source": [
        "### Name: Colin Power\n",
        "### Student Number: 20088839"
      ]
    },
    {
      "cell_type": "markdown",
      "metadata": {
        "id": "hyWijEES_MOT"
      },
      "source": [
        "# Python Workbook 5 - Applications of differentiation\n",
        "\n",
        "## Testing for smoothness\n",
        "\n",
        "\n",
        "* In the first part of this Python workbook we will use the __sympy__ library to test  __piecewise functions__ for __continuity__ and __smoothness.__ \n",
        "\n",
        "\n",
        "* As a first step we import the __sympy__ library in the ususal way. \n",
        "\n",
        "\n",
        "* We will also import the __init_printing__ option from __sympy__ to render the output of each cell in mathematical notation."
      ]
    },
    {
      "cell_type": "code",
      "metadata": {
        "id": "ihcFIdxs_MOV"
      },
      "source": [
        "from sympy import *\n",
        "from sympy import init_printing\n",
        "init_printing()"
      ],
      "execution_count": 1,
      "outputs": []
    },
    {
      "cell_type": "markdown",
      "metadata": {
        "id": "fZ3YyeEA_MOW"
      },
      "source": [
        "## Defining piecewise functions\n",
        "\n",
        "* We can use the __sympy__ function __Piecewise()__ to define a piecewise function.\n",
        "\n",
        "## Example 1: \n",
        "\n",
        "Use the function __Piecewise()__ to define the function\n",
        "$$\n",
        "f(t)=\\begin{cases}\n",
        "        t^2-1, t<3\\\\\n",
        "        2t+5, t\\geq3\n",
        "     \\end{cases}   \n",
        "$$"
      ]
    },
    {
      "cell_type": "markdown",
      "metadata": {
        "id": "Ho8612Ni_MOX"
      },
      "source": [
        "__Solution:__ Before we define the function, we must first define a symbol to represent $t$, in the usual way:"
      ]
    },
    {
      "cell_type": "code",
      "metadata": {
        "colab": {
          "base_uri": "https://localhost:8080/",
          "height": 38
        },
        "id": "a50sENZI_MOY",
        "outputId": "da53f9e0-b5e2-4201-f89c-d86cae72e586"
      },
      "source": [
        "t=symbols('t',real=True)\n",
        "t"
      ],
      "execution_count": 2,
      "outputs": [
        {
          "output_type": "execute_result",
          "data": {
            "image/png": "[encoded data removed]",
            "text/latex": "$\\displaystyle t$",
            "text/plain": [
              "t"
            ]
          },
          "metadata": {
            "tags": []
          },
          "execution_count": 2
        }
      ]
    },
    {
      "cell_type": "markdown",
      "metadata": {
        "id": "LSUNVm8h_MOa"
      },
      "source": [
        "* Now we define the function $f(t)$ using __Piecewise()__"
      ]
    },
    {
      "cell_type": "code",
      "metadata": {
        "colab": {
          "base_uri": "https://localhost:8080/",
          "height": 68
        },
        "id": "p1wg-j8h_MOb",
        "outputId": "28898041-5e10-43b4-cb71-aaa932684c00"
      },
      "source": [
        "f=Piecewise((t**2-1,t<3), (2*t+5,t>=3))\n",
        "f"
      ],
      "execution_count": 3,
      "outputs": [
        {
          "output_type": "execute_result",
          "data": {
            "text/latex": "$\\displaystyle \\begin{cases} t^{2} - 1 & \\text{for}\\: t < 3 \\\\2 t + 5 & \\text{otherwise} \\end{cases}$",
            "text/plain": [
              "⎧ 2                \n",
              "⎪t  - 1   for t < 3\n",
              "⎨                  \n",
              "⎪2⋅t + 5  otherwise\n",
              "⎩                  "
            ]
          },
          "metadata": {
            "tags": []
          },
          "execution_count": 3
        }
      ]
    },
    {
      "cell_type": "markdown",
      "metadata": {
        "id": "btU9BNTB_MOc"
      },
      "source": [
        "* Note that each part of the piecewise function and its domain are contained within their own set of brackets within the __Piecewise()__ function. "
      ]
    },
    {
      "cell_type": "markdown",
      "metadata": {
        "id": "ToFebcxi_MOd"
      },
      "source": [
        "### Exercise 1:\n",
        "\n",
        "* Use __Piecewise()__ to define the following piecewise function\n",
        "$$\n",
        "g(x)=\\begin{cases}\n",
        "        4x+3, x<-2\\\\\n",
        "        x^2-3,x\\geq -2.\n",
        "     \\end{cases}   \n",
        "$$\n",
        "\n",
        "__Note:__ You must define the symbol $x$ first!!"
      ]
    },
    {
      "cell_type": "code",
      "metadata": {
        "id": "gIY18ody_MOe",
        "outputId": "d14365d5-2ce2-44c8-d99d-bb19ce51ef08",
        "colab": {
          "base_uri": "https://localhost:8080/",
          "height": 38
        }
      },
      "source": [
        "x=symbols('x',real=True)\n",
        "x"
      ],
      "execution_count": 4,
      "outputs": [
        {
          "output_type": "execute_result",
          "data": {
            "image/png": "[encoded data removed]",
            "text/latex": "$\\displaystyle x$",
            "text/plain": [
              "x"
            ]
          },
          "metadata": {
            "tags": []
          },
          "execution_count": 4
        }
      ]
    },
    {
      "cell_type": "code",
      "metadata": {
        "id": "WFgz0mUo_MOf",
        "outputId": "56a0e0c2-9d14-4333-a232-a0afb080d7ff",
        "colab": {
          "base_uri": "https://localhost:8080/",
          "height": 68
        }
      },
      "source": [
        "g=Piecewise((4*x+3,x<-2), (x**2-3,x>=-2))\n",
        "g"
      ],
      "execution_count": 5,
      "outputs": [
        {
          "output_type": "execute_result",
          "data": {
            "text/latex": "$\\displaystyle \\begin{cases} 4 x + 3 & \\text{for}\\: x < -2 \\\\x^{2} - 3 & \\text{otherwise} \\end{cases}$",
            "text/plain": [
              "⎧4⋅x + 3  for x < -2\n",
              "⎪                   \n",
              "⎨ 2                 \n",
              "⎪x  - 3   otherwise \n",
              "⎩                   "
            ]
          },
          "metadata": {
            "tags": []
          },
          "execution_count": 5
        }
      ]
    },
    {
      "cell_type": "code",
      "metadata": {
        "id": "Y4z3kA48_MOf"
      },
      "source": [
        ""
      ],
      "execution_count": 5,
      "outputs": []
    },
    {
      "cell_type": "markdown",
      "metadata": {
        "id": "HkqDOd0B_MOg"
      },
      "source": [
        "## Testing for continuity\n",
        "\n",
        "A function $f(t)$ is defined to be continuous at $t=t_0$ if\n",
        "\n",
        "1. The left-hand and right-hand limits at $t_0$ are equal to some value $L$, i.e.\n",
        "$$\n",
        " \\lim_{t\\to t_0^{-}}f(t)=\\lim_{t\\to t_{0}^{+}}f(t)= L\\\\\n",
        "$$\n",
        "2. If the value of the function at $t_0$ is equal to this limit $L$, i.e.\n",
        "$$\n",
        "f(t_0)=L\n",
        "$$"
      ]
    },
    {
      "cell_type": "markdown",
      "metadata": {
        "id": "J2H3kW7J_MOg"
      },
      "source": [
        "### Example 2: \n",
        "\n",
        "Test the function $f(t)$ defined in __Example 1__ to see if it is continuous (__cns.__) at $t=3$"
      ]
    },
    {
      "cell_type": "markdown",
      "metadata": {
        "id": "pwwYdvN3_MOh"
      },
      "source": [
        "__Solution:__ We can use the __limit()__ function from __sympy__ to evaluate these left and right-hand limits at $t=3$.\n",
        "\n",
        "* We evaluate the __left-hand limit__\n",
        "$$\n",
        "\\lim_{t\\to3^{-}}f(t)\n",
        "$$\n",
        "using __limit()__ as follows:"
      ]
    },
    {
      "cell_type": "code",
      "metadata": {
        "colab": {
          "base_uri": "https://localhost:8080/",
          "height": 37
        },
        "id": "-g0Djpcp_MOh",
        "outputId": "b2153658-5dd7-4ab9-ccb7-685f55d8ae83"
      },
      "source": [
        "limit(f,t,3,'-')"
      ],
      "execution_count": 6,
      "outputs": [
        {
          "output_type": "execute_result",
          "data": {
            "image/png": "[encoded data removed]",
            "text/latex": "$\\displaystyle 8$",
            "text/plain": [
              "8"
            ]
          },
          "metadata": {
            "tags": []
          },
          "execution_count": 6
        }
      ]
    },
    {
      "cell_type": "markdown",
      "metadata": {
        "id": "yE3piQEo_MOi"
      },
      "source": [
        "* Hence the __left-hand limit__ is 8.\n",
        "\n",
        "\n",
        "\n",
        "* Similarly, the __right-hand limit__\n",
        "$$\n",
        "\\lim_{t\\to3^+}f(t)\n",
        "$$\n",
        "is evaluated using "
      ]
    },
    {
      "cell_type": "code",
      "metadata": {
        "colab": {
          "base_uri": "https://localhost:8080/",
          "height": 37
        },
        "id": "C9BtGypc_MOi",
        "outputId": "e6396a83-40d3-4b70-e808-1bed9f37ff05"
      },
      "source": [
        "limit(f,t,3,'+')"
      ],
      "execution_count": 7,
      "outputs": [
        {
          "output_type": "execute_result",
          "data": {
            "image/png": "[encoded data removed]",
            "text/latex": "$\\displaystyle 11$",
            "text/plain": [
              "11"
            ]
          },
          "metadata": {
            "tags": []
          },
          "execution_count": 7
        }
      ]
    },
    {
      "cell_type": "markdown",
      "metadata": {
        "id": "Bk4CnY_Z_MOi"
      },
      "source": [
        "* Hence the __right-hand limit__ is 11.\n",
        "\n",
        "\n",
        "* Since the left-hand and right-hand limits of $f(t)$ __are not equal__ at $t=3$, the function is not continuous at $t=3$\n",
        "\n",
        "\n",
        "* We already know the function is not continuous at $t=3$, but for the sake of it, the value of the function at $t=3$ is eavluated using __f.subs()__ as follows:"
      ]
    },
    {
      "cell_type": "code",
      "metadata": {
        "colab": {
          "base_uri": "https://localhost:8080/",
          "height": 37
        },
        "id": "QVX_za-__MOk",
        "outputId": "e1c151f4-dbc1-4840-a964-2287c1826d01"
      },
      "source": [
        "f.subs(t,3)"
      ],
      "execution_count": 9,
      "outputs": [
        {
          "output_type": "execute_result",
          "data": {
            "image/png": "[encoded data removed]",
            "text/latex": "$\\displaystyle 11$",
            "text/plain": [
              "11"
            ]
          },
          "metadata": {
            "tags": []
          },
          "execution_count": 9
        }
      ]
    },
    {
      "cell_type": "markdown",
      "metadata": {
        "id": "a1ivE2nG_MOk"
      },
      "source": [
        "## Exercise 2:\n",
        "\n",
        "Test the function $g(x)$ given in __Exercise 1__ for continuity at $x=-2$."
      ]
    },
    {
      "cell_type": "code",
      "metadata": {
        "id": "nHHjRJrG_MOk",
        "outputId": "89eae4de-cc3c-4af1-f11a-60490f0c64b7",
        "colab": {
          "base_uri": "https://localhost:8080/",
          "height": 37
        }
      },
      "source": [
        "limit(g,x,-2,'-')"
      ],
      "execution_count": 10,
      "outputs": [
        {
          "output_type": "execute_result",
          "data": {
            "image/png": "[encoded data removed]",
            "text/latex": "$\\displaystyle -5$",
            "text/plain": [
              "-5"
            ]
          },
          "metadata": {
            "tags": []
          },
          "execution_count": 10
        }
      ]
    },
    {
      "cell_type": "code",
      "metadata": {
        "id": "igG_YWF-_MOk",
        "outputId": "d08ae821-95db-453e-8358-d4a9b9d2ad82",
        "colab": {
          "base_uri": "https://localhost:8080/",
          "height": 37
        }
      },
      "source": [
        "limit(g,x,-2,'+')"
      ],
      "execution_count": 11,
      "outputs": [
        {
          "output_type": "execute_result",
          "data": {
            "image/png": "[encoded data removed]",
            "text/latex": "$\\displaystyle 1$",
            "text/plain": [
              "1"
            ]
          },
          "metadata": {
            "tags": []
          },
          "execution_count": 11
        }
      ]
    },
    {
      "cell_type": "code",
      "metadata": {
        "id": "5UjQgiwV_MOl",
        "outputId": "34e93b25-3f79-4243-b1d7-ceb0cccdff20",
        "colab": {
          "base_uri": "https://localhost:8080/",
          "height": 37
        }
      },
      "source": [
        "g.subs(x,-2)"
      ],
      "execution_count": 12,
      "outputs": [
        {
          "output_type": "execute_result",
          "data": {
            "image/png": "[encoded data removed]",
            "text/latex": "$\\displaystyle 1$",
            "text/plain": [
              "1"
            ]
          },
          "metadata": {
            "tags": []
          },
          "execution_count": 12
        }
      ]
    },
    {
      "cell_type": "code",
      "metadata": {
        "id": "8ci6sb6r_MOl"
      },
      "source": [
        ""
      ],
      "execution_count": 12,
      "outputs": []
    },
    {
      "cell_type": "markdown",
      "metadata": {
        "id": "zeK6ERrc_MOm"
      },
      "source": [
        "## Testing for smoothness\n",
        "A function $f(t)$ is smooth at $t=t_0$ if the following conditions are met:\n",
        "\n",
        "__(1)__ The function is cns. at $t=t_0$.\n",
        "\n",
        "\n",
        "\n",
        "__(2)__ If the left-hand and right-hand limits of the derivative at $t=t_0$ match, i.e.\n",
        "\n",
        "$$\n",
        "\\lim_{t\\to t_{0}^{-}}\\frac{df}{dt}(t)=\\lim_{t\\to t_{0}^{+}}\\frac{df}{dt}(t)\n",
        "$$"
      ]
    },
    {
      "cell_type": "markdown",
      "metadata": {
        "id": "EvqYyORc_MOm"
      },
      "source": [
        "## Example 3:\n",
        "\n",
        "Given the piecewise function\n",
        "\n",
        "$$\n",
        "p(t)=\\begin{cases}\n",
        "      6t-7, t<3\\\\\n",
        "      t^2+2,t\\geq 3\n",
        "     \\end{cases}   \n",
        "$$\n",
        "answer the following:\n",
        "\n",
        "__(1)__ Plot the graph of $p(t)$.\n",
        "\n",
        "\n",
        "__(2)__ Test $p(t)$ for continuity at $t=3$.\n",
        "\n",
        "\n",
        "__(3)__ Test $p(t)$ for smoothness at $t=3$.\n",
        "\n",
        "\n",
        "__(4)__ Does this agree with your graph from Part 1?"
      ]
    },
    {
      "cell_type": "markdown",
      "metadata": {
        "id": "a1HnJp3P_MOm"
      },
      "source": [
        "__Part 1__ First we define the function $p(t)$ and then plot it:"
      ]
    },
    {
      "cell_type": "code",
      "metadata": {
        "colab": {
          "base_uri": "https://localhost:8080/",
          "height": 68
        },
        "id": "8qHBGQwP_MOm",
        "outputId": "34e8ff83-71cd-4edf-9c80-a74c00524bf2"
      },
      "source": [
        "p=Piecewise((6*t-7,t<3),(t**2+2,t>=3))\n",
        "p"
      ],
      "execution_count": 13,
      "outputs": [
        {
          "output_type": "execute_result",
          "data": {
            "text/latex": "$\\displaystyle \\begin{cases} 6 t - 7 & \\text{for}\\: t < 3 \\\\t^{2} + 2 & \\text{otherwise} \\end{cases}$",
            "text/plain": [
              "⎧6⋅t - 7  for t < 3\n",
              "⎪                  \n",
              "⎨ 2                \n",
              "⎪t  + 2   otherwise\n",
              "⎩                  "
            ]
          },
          "metadata": {
            "tags": []
          },
          "execution_count": 13
        }
      ]
    },
    {
      "cell_type": "markdown",
      "metadata": {
        "id": "dpWSbwJP_MOm"
      },
      "source": [
        "* We will plot the function over the interval $0\\leq t\\leq 6$, so that the point $t=3$ is in the centre of our plot.\n",
        "\n"
      ]
    },
    {
      "cell_type": "code",
      "metadata": {
        "colab": {
          "base_uri": "https://localhost:8080/",
          "height": 315
        },
        "id": "4l-L93xI_MOm",
        "outputId": "3ea947ec-a1d3-46b6-f180-c1981198bd96"
      },
      "source": [
        "plot(p, (t,0,6))"
      ],
      "execution_count": 14,
      "outputs": [
        {
          "output_type": "display_data",
          "data": {
            "image/png": "[encoded data removed]",
            "text/plain": [
              "<Figure size 432x288 with 1 Axes>"
            ]
          },
          "metadata": {
            "tags": [],
            "needs_background": "light"
          }
        },
        {
          "output_type": "execute_result",
          "data": {
            "text/plain": [
              "<sympy.plotting.plot.Plot at 0x7f75f01566d0>"
            ]
          },
          "metadata": {
            "tags": []
          },
          "execution_count": 14
        }
      ]
    },
    {
      "cell_type": "markdown",
      "metadata": {
        "id": "NzmFrVh__MOo"
      },
      "source": [
        "__Part 2__ From the graph, it appears the function is cns. at $t=3$, but we will confirm this like we did in __Example 2:__"
      ]
    },
    {
      "cell_type": "code",
      "metadata": {
        "id": "laxOh1Tp_MOp",
        "outputId": "fb20ade9-7063-47e2-902d-e8a1729d03ad",
        "colab": {
          "base_uri": "https://localhost:8080/",
          "height": 37
        }
      },
      "source": [
        "limit(p,t,3,'-'),limit(p,t,3,'+'),p.subs(t,3)"
      ],
      "execution_count": 15,
      "outputs": [
        {
          "output_type": "execute_result",
          "data": {
            "image/png": "[encoded data removed]",
            "text/latex": "$\\displaystyle \\left( 11, \\  11, \\  11\\right)$",
            "text/plain": [
              "(11, 11, 11)"
            ]
          },
          "metadata": {
            "tags": []
          },
          "execution_count": 15
        }
      ]
    },
    {
      "cell_type": "markdown",
      "metadata": {
        "id": "BNcLaFVA_MOp"
      },
      "source": [
        "* The left hand limit of $p(t)$ at $t=3$ is 11.\n",
        "\n",
        "\n",
        "* The right hand limit of $p(t)$ at $t=3$ is 11.\n",
        "\n",
        "\n",
        "* The value of $p(t)$ at $t=3$ is 11.\n",
        "\n",
        "\n",
        "* Hence the function is continuous at $t=3$, which agrees with the graph above."
      ]
    },
    {
      "cell_type": "markdown",
      "metadata": {
        "id": "d1sR24dO_MOq"
      },
      "source": [
        "__Part 3__  The derivative of $p(t)$ is obtained using the function __diff()__ in the usual way"
      ]
    },
    {
      "cell_type": "code",
      "metadata": {
        "id": "1PjGna3N_MOq",
        "outputId": "929e43ca-cf64-4faf-ddfe-189da97a7ca1",
        "colab": {
          "base_uri": "https://localhost:8080/",
          "height": 68
        }
      },
      "source": [
        "dp=diff(p,t)\n",
        "dp"
      ],
      "execution_count": 16,
      "outputs": [
        {
          "output_type": "execute_result",
          "data": {
            "text/latex": "$\\displaystyle \\begin{cases} 6 & \\text{for}\\: t < 3 \\\\2 t & \\text{otherwise} \\end{cases}$",
            "text/plain": [
              "⎧ 6   for t < 3\n",
              "⎨              \n",
              "⎩2⋅t  otherwise"
            ]
          },
          "metadata": {
            "tags": []
          },
          "execution_count": 16
        }
      ]
    },
    {
      "cell_type": "markdown",
      "metadata": {
        "id": "ND_-YR1E_MOq"
      },
      "source": [
        "The left-hand and right-hand limits of this derivative at $t=3$ are now given by"
      ]
    },
    {
      "cell_type": "code",
      "metadata": {
        "id": "efPp6sid_MO0",
        "outputId": "49a5449b-cce5-4e5a-febb-8f3953f38c08",
        "colab": {
          "base_uri": "https://localhost:8080/",
          "height": 37
        }
      },
      "source": [
        "limit(dp,t,3,'-'), limit(dp,t,3,'+'), dp.subs(t,3)"
      ],
      "execution_count": 17,
      "outputs": [
        {
          "output_type": "execute_result",
          "data": {
            "image/png": "[encoded data removed]",
            "text/latex": "$\\displaystyle \\left( 6, \\  6, \\  6\\right)$",
            "text/plain": [
              "(6, 6, 6)"
            ]
          },
          "metadata": {
            "tags": []
          },
          "execution_count": 17
        }
      ]
    },
    {
      "cell_type": "markdown",
      "metadata": {
        "id": "7XnAPL7I_MO1"
      },
      "source": [
        "* The left-hand limit of $\\frac{dp}{dt}$ at $t=3$ is 6.\n",
        "\n",
        "\n",
        "* The right-hand limit of $\\frac{dp}{dt}$ at $t=3$ is also $6$.\n",
        "\n",
        "\n",
        "* The value of $\\frac{dp}{dt}$ at $t=3$ is also $6$.\n",
        "\n",
        "\n",
        "* Hence the derivative $\\frac{dp}{dt}$ is continuos at $t=3$."
      ]
    },
    {
      "cell_type": "markdown",
      "metadata": {
        "id": "siNw-XsO_MO2"
      },
      "source": [
        "__Part 4__ \n",
        "\n",
        "* Since the graph of $p(t)$ does not suddenly jump in value at $t=3$, it is continuous there. \n",
        "\n",
        "\n",
        "* Secondly, since there are no sharp corners in the graph of $p(t)$ at $t=3$, we also expect the function to be smooth at that point.\n",
        "\n",
        "\n",
        "* This is exactly what we found in __Part 2__ and __Part 3__ respectively. "
      ]
    },
    {
      "cell_type": "markdown",
      "metadata": {
        "id": "DV20nFCR_MO2"
      },
      "source": [
        "## Exercise 3:\n",
        "\n",
        "Given the piecewise function\n",
        "\n",
        "$$\n",
        "Q(x)=\\begin{cases}\n",
        "      5x+1, x<0\\\\\n",
        "      x^2+2,x\\geq 0\n",
        "     \\end{cases}   \n",
        "$$\n",
        "answer the following:\n",
        "\n",
        "\n",
        "__(1)__ Test $Q(x)$ for continuity at $x=0$.\n",
        "\n",
        "\n",
        "__(2)__ Test $Q(x)$ for smoothness at $x=0$.\n",
        "\n",
        "\n",
        "__(3)__ Plot the function $Q(x)$ for $-5\\leq x\\leq 5$.\n",
        " "
      ]
    },
    {
      "cell_type": "code",
      "metadata": {
        "id": "wEqNWLx8_MO2",
        "outputId": "7299ea38-61a5-49f0-f963-f3e2d6369e15",
        "colab": {
          "base_uri": "https://localhost:8080/",
          "height": 68
        }
      },
      "source": [
        "Q=Piecewise((5*x+1,x<0),(x**2+2,x>=0))\n",
        "Q"
      ],
      "execution_count": 18,
      "outputs": [
        {
          "output_type": "execute_result",
          "data": {
            "text/latex": "$\\displaystyle \\begin{cases} 5 x + 1 & \\text{for}\\: x < 0 \\\\x^{2} + 2 & \\text{otherwise} \\end{cases}$",
            "text/plain": [
              "⎧5⋅x + 1  for x < 0\n",
              "⎪                  \n",
              "⎨ 2                \n",
              "⎪x  + 2   otherwise\n",
              "⎩                  "
            ]
          },
          "metadata": {
            "tags": []
          },
          "execution_count": 18
        }
      ]
    },
    {
      "cell_type": "code",
      "metadata": {
        "id": "y-liGPgV_MO2",
        "outputId": "6a63988e-5c0b-4b05-92ef-a906ca5e943b",
        "colab": {
          "base_uri": "https://localhost:8080/",
          "height": 37
        }
      },
      "source": [
        "limit(Q,x,0,'-'),limit(Q,x,0,'+'),Q.subs(x,0)"
      ],
      "execution_count": 19,
      "outputs": [
        {
          "output_type": "execute_result",
          "data": {
            "image/png": "[encoded data removed]",
            "text/latex": "$\\displaystyle \\left( 1, \\  2, \\  2\\right)$",
            "text/plain": [
              "(1, 2, 2)"
            ]
          },
          "metadata": {
            "tags": []
          },
          "execution_count": 19
        }
      ]
    },
    {
      "cell_type": "code",
      "metadata": {
        "id": "4nr91rcCcx6Q",
        "outputId": "f28480ac-36dd-4807-e713-4729b4f24145",
        "colab": {
          "base_uri": "https://localhost:8080/",
          "height": 68
        }
      },
      "source": [
        "dQ=diff(Q,x)\n",
        "dQ"
      ],
      "execution_count": 20,
      "outputs": [
        {
          "output_type": "execute_result",
          "data": {
            "text/latex": "$\\displaystyle \\begin{cases} 5 & \\text{for}\\: x < 0 \\\\2 x & \\text{otherwise} \\end{cases}$",
            "text/plain": [
              "⎧ 5   for x < 0\n",
              "⎨              \n",
              "⎩2⋅x  otherwise"
            ]
          },
          "metadata": {
            "tags": []
          },
          "execution_count": 20
        }
      ]
    },
    {
      "cell_type": "code",
      "metadata": {
        "id": "qaFuCllE_MO3",
        "outputId": "447714cd-1562-45f7-ded0-ebfb43cf45c3",
        "colab": {
          "base_uri": "https://localhost:8080/",
          "height": 37
        }
      },
      "source": [
        "limit(dQ,x,0,'-'), limit(dQ,x,0,'+'), dQ.subs(x,0)"
      ],
      "execution_count": 21,
      "outputs": [
        {
          "output_type": "execute_result",
          "data": {
            "image/png": "[encoded data removed]",
            "text/latex": "$\\displaystyle \\left( 5, \\  0, \\  0\\right)$",
            "text/plain": [
              "(5, 0, 0)"
            ]
          },
          "metadata": {
            "tags": []
          },
          "execution_count": 21
        }
      ]
    },
    {
      "cell_type": "code",
      "metadata": {
        "id": "r95tzX62_MO3",
        "outputId": "4b2e1ed6-e2c4-4616-901c-484c7d41c1a9",
        "colab": {
          "base_uri": "https://localhost:8080/",
          "height": 315
        }
      },
      "source": [
        "plot(Q, (x,-3,6))"
      ],
      "execution_count": 22,
      "outputs": [
        {
          "output_type": "display_data",
          "data": {
            "image/png": "[encoded data removed]",
            "text/plain": [
              "<Figure size 432x288 with 1 Axes>"
            ]
          },
          "metadata": {
            "tags": [],
            "needs_background": "light"
          }
        },
        {
          "output_type": "execute_result",
          "data": {
            "text/plain": [
              "<sympy.plotting.plot.Plot at 0x7f75f015c710>"
            ]
          },
          "metadata": {
            "tags": []
          },
          "execution_count": 22
        }
      ]
    },
    {
      "cell_type": "markdown",
      "metadata": {
        "id": "T7zP0pXB_MO3"
      },
      "source": [
        "## Position, velocity and acceleration\n",
        "\n",
        "* When describing the motion of a particle or object, we often write the position of the particle as a function __parameterised__ by time, in other words as a function of $t$, e.g. $s(t)$.\n",
        "\n",
        "\n",
        "* Once we have this function, we can tell several things about the particle's motion, using derivatives.\n",
        "\n",
        "\n",
        "* The __velocity__ of the particle is the __first-derivative__ of the position, i.e.\n",
        "$$\n",
        "v(t)=\\frac{ds}{dt}.\n",
        "$$\n",
        "\n",
        "* The __acceleration__ of the particle is the __second-derivative__ of the position, i.e.\n",
        "$$\n",
        "a(t)=\\frac{d^2s}{dt^2}.\n",
        "$$\n",
        "\n",
        "* Alternatively, the accleration can be written as the first derivative of the velocity, both give the same result."
      ]
    },
    {
      "cell_type": "markdown",
      "metadata": {
        "id": "OFMMxzlB_MO3"
      },
      "source": [
        "## Example 4:\n",
        "\n",
        "The position of a particle is given by the function\n",
        "$$\n",
        "s(t)=t^3-8t+9.\n",
        "$$\n",
        "Using this, answer the following:\n",
        "\n",
        "__(1)__ Determine the position of the particle at time $t=0$ and $t=3$.\n",
        "\n",
        "\n",
        "__(2)__ Find an expression for the velocity of the particle. Hence evaluate the velocity at $t=1$ and $t=5$.\n",
        "\n",
        "\n",
        "__(3)__ Find an expression for the acceleration of the particle. Hence evaluate the acceleration at $t=3$ and $t=8$.\n",
        "\n",
        "\n",
        "\n",
        "__(4)__ Use the __sympy__ function __solve()__ to determine when the velocity is $0$.\n",
        "\n",
        "\n",
        "\n",
        "__(5)__ Use __solve()__ to determine the time when the acceleration is $4$.\n",
        "\n",
        "\n",
        "\n",
        "__(6)__ Plot the graph of the position, velocity and accleration. \n",
        "\n",
        "A list of Python colours is available at __https://matplotlib.org/examples/color/named_colors.html__"
      ]
    },
    {
      "cell_type": "markdown",
      "metadata": {
        "id": "tLz-aZ-B_MO4"
      },
      "source": [
        "__Part 1__ The postion is given by the function"
      ]
    },
    {
      "cell_type": "code",
      "metadata": {
        "colab": {
          "base_uri": "https://localhost:8080/",
          "height": 38
        },
        "id": "jfkA5amH_MO5",
        "outputId": "9c2a6da6-b995-474e-b1fa-5d23cafd4807"
      },
      "source": [
        "s=t**3-8*t+9\n",
        "s"
      ],
      "execution_count": 23,
      "outputs": [
        {
          "output_type": "execute_result",
          "data": {
            "image/png": "[encoded data removed]",
            "text/latex": "$\\displaystyle t^{3} - 8 t + 9$",
            "text/plain": [
              " 3          \n",
              "t  - 8⋅t + 9"
            ]
          },
          "metadata": {
            "tags": []
          },
          "execution_count": 23
        }
      ]
    },
    {
      "cell_type": "markdown",
      "metadata": {
        "id": "PghXkpsz_MO5"
      },
      "source": [
        "The postion of the perticle at $t=0$ and $t=3$ is "
      ]
    },
    {
      "cell_type": "code",
      "metadata": {
        "colab": {
          "base_uri": "https://localhost:8080/",
          "height": 37
        },
        "id": "U6-5VSWr_MO6",
        "outputId": "60e2fffe-87f6-40ed-9735-930ddc9893f6"
      },
      "source": [
        "s.subs(t,0), s.subs(t,3)"
      ],
      "execution_count": 24,
      "outputs": [
        {
          "output_type": "execute_result",
          "data": {
            "image/png": "[encoded data removed]",
            "text/latex": "$\\displaystyle \\left( 9, \\  12\\right)$",
            "text/plain": [
              "(9, 12)"
            ]
          },
          "metadata": {
            "tags": []
          },
          "execution_count": 24
        }
      ]
    },
    {
      "cell_type": "markdown",
      "metadata": {
        "id": "7wCTSp2R_MO7"
      },
      "source": [
        "__Part 2__ The velocity is given by the derivative of the position:"
      ]
    },
    {
      "cell_type": "code",
      "metadata": {
        "colab": {
          "base_uri": "https://localhost:8080/",
          "height": 38
        },
        "id": "6sBUwj-B_MO7",
        "outputId": "e44435fa-e46a-4457-f439-3e9c4362267f"
      },
      "source": [
        "v=diff(s,t)\n",
        "v"
      ],
      "execution_count": 25,
      "outputs": [
        {
          "output_type": "execute_result",
          "data": {
            "image/png": "[encoded data removed]",
            "text/latex": "$\\displaystyle 3 t^{2} - 8$",
            "text/plain": [
              "   2    \n",
              "3⋅t  - 8"
            ]
          },
          "metadata": {
            "tags": []
          },
          "execution_count": 25
        }
      ]
    },
    {
      "cell_type": "markdown",
      "metadata": {
        "id": "YdOEhlQw_MO7"
      },
      "source": [
        "The velocity at $t=1$ and $t=5$ is given by"
      ]
    },
    {
      "cell_type": "code",
      "metadata": {
        "colab": {
          "base_uri": "https://localhost:8080/",
          "height": 37
        },
        "id": "RWIIvmY0_MO7",
        "outputId": "6799dfcd-891c-4a06-afe6-4ff0c682b8ad"
      },
      "source": [
        "v.subs(t,1), v.subs(t,5)"
      ],
      "execution_count": 26,
      "outputs": [
        {
          "output_type": "execute_result",
          "data": {
            "image/png": "[encoded data removed]",
            "text/latex": "$\\displaystyle \\left( -5, \\  67\\right)$",
            "text/plain": [
              "(-5, 67)"
            ]
          },
          "metadata": {
            "tags": []
          },
          "execution_count": 26
        }
      ]
    },
    {
      "cell_type": "markdown",
      "metadata": {
        "id": "U7NPrBgL_MO7"
      },
      "source": [
        "__Part 3__ The accleration is given by the second derivative of $s$, i.e."
      ]
    },
    {
      "cell_type": "code",
      "metadata": {
        "colab": {
          "base_uri": "https://localhost:8080/",
          "height": 38
        },
        "id": "P-N0Insa_MO9",
        "outputId": "312ff2d9-09c5-4b8d-ea07-3e913e54889f"
      },
      "source": [
        "a=diff(s,t,2)\n",
        "a"
      ],
      "execution_count": 27,
      "outputs": [
        {
          "output_type": "execute_result",
          "data": {
            "image/png": "[encoded data removed]",
            "text/latex": "$\\displaystyle 6 t$",
            "text/plain": [
              "6⋅t"
            ]
          },
          "metadata": {
            "tags": []
          },
          "execution_count": 27
        }
      ]
    },
    {
      "cell_type": "markdown",
      "metadata": {
        "id": "Yt9RZoPL_MO9"
      },
      "source": [
        "The accleration at $t=3$ and $t=8$ is "
      ]
    },
    {
      "cell_type": "code",
      "metadata": {
        "colab": {
          "base_uri": "https://localhost:8080/",
          "height": 37
        },
        "id": "KRB6rcli_MO-",
        "outputId": "245f8bab-d9e5-4d36-b986-584e3d1d7035"
      },
      "source": [
        "a.subs(t,3), a.subs(t,8)"
      ],
      "execution_count": 28,
      "outputs": [
        {
          "output_type": "execute_result",
          "data": {
            "image/png": "[encoded data removed]",
            "text/latex": "$\\displaystyle \\left( 18, \\  48\\right)$",
            "text/plain": [
              "(18, 48)"
            ]
          },
          "metadata": {
            "tags": []
          },
          "execution_count": 28
        }
      ]
    },
    {
      "cell_type": "markdown",
      "metadata": {
        "id": "GyLc2U8J_MO-"
      },
      "source": [
        "__Part 4__\n",
        "\n",
        "* The sympy function __solve(f(x),x)__ will find all possible values of $x$ such that $f(x)=0$.\n",
        "\n",
        "\n",
        "* If we want to find all values of $x$ where $f(x)=K$, then use __solve(f(x)-K,x)__, i.e. we solve for $f(x)-K=0$!"
      ]
    },
    {
      "cell_type": "code",
      "metadata": {
        "colab": {
          "base_uri": "https://localhost:8080/",
          "height": 68
        },
        "id": "h4nnyDDb_MO_",
        "outputId": "b7a70f62-149f-413f-cc51-1e8393824a8f"
      },
      "source": [
        "solve(v,t)"
      ],
      "execution_count": 29,
      "outputs": [
        {
          "output_type": "execute_result",
          "data": {
            "image/png": "[encoded data removed]",
            "text/latex": "$\\displaystyle \\left[ - \\frac{2 \\sqrt{6}}{3}, \\  \\frac{2 \\sqrt{6}}{3}\\right]$",
            "text/plain": [
              "⎡-2⋅√6   2⋅√6⎤\n",
              "⎢──────, ────⎥\n",
              "⎣  3      3  ⎦"
            ]
          },
          "metadata": {
            "tags": []
          },
          "execution_count": 29
        }
      ]
    },
    {
      "cell_type": "markdown",
      "metadata": {
        "collapsed": true,
        "id": "-mvCgwNY_MO_"
      },
      "source": [
        "These are the two values of $t$ where the velocity of the particle is __zero__"
      ]
    },
    {
      "cell_type": "markdown",
      "metadata": {
        "id": "yfb5GdL6_MO_"
      },
      "source": [
        "__Part 5__\n",
        "\n",
        "The accleration is $4$ when "
      ]
    },
    {
      "cell_type": "code",
      "metadata": {
        "colab": {
          "base_uri": "https://localhost:8080/",
          "height": 58
        },
        "id": "W5O5wwwy_MO_",
        "outputId": "c023abd0-cb1a-46c1-db80-9366a446799e"
      },
      "source": [
        "solve(a-4,t)"
      ],
      "execution_count": 30,
      "outputs": [
        {
          "output_type": "execute_result",
          "data": {
            "image/png": "[encoded data removed]",
            "text/latex": "$\\displaystyle \\left[ \\frac{2}{3}\\right]$",
            "text/plain": [
              "[2/3]"
            ]
          },
          "metadata": {
            "tags": []
          },
          "execution_count": 30
        }
      ]
    },
    {
      "cell_type": "markdown",
      "metadata": {
        "id": "T9HpvSLD_MO_"
      },
      "source": [
        "__Part 6__ The plots of the position, velocity and accleration are given by"
      ]
    },
    {
      "cell_type": "code",
      "metadata": {
        "colab": {
          "base_uri": "https://localhost:8080/",
          "height": 297
        },
        "id": "AYxZ4m7K_MO_",
        "outputId": "75bbe9d9-e147-4243-c9fb-2bf81de39634"
      },
      "source": [
        "P2=plot(s,v,a,(t,-4,3), show=False)\n",
        "P2[0].line_color = 'cornflowerblue'\n",
        "P2[1].line_color = 'darkslategray'\n",
        "P2[2].line_color = 'sienna'\n",
        "P2.show()"
      ],
      "execution_count": 31,
      "outputs": [
        {
          "output_type": "display_data",
          "data": {
            "image/png": "[encoded data removed]",
            "text/plain": [
              "<Figure size 432x288 with 1 Axes>"
            ]
          },
          "metadata": {
            "tags": [],
            "needs_background": "light"
          }
        }
      ]
    },
    {
      "cell_type": "markdown",
      "metadata": {
        "id": "rKWRfcU8_MO_"
      },
      "source": [
        "### Exercise 4\n",
        "The displacement (position) of a particle at time $t$ is given by\n",
        "$$\n",
        "    D(t) = 4t^3-16t^2+25.\n",
        "$$\n",
        "Using this, answer the following:\n",
        "\n",
        "__(1)__  Determine the position of the particle at time $t=-3$ and $t=3$.\n",
        "\n",
        "\n",
        "__(2)__ Find an expression for the velocity of the particle. Hence evaluate the velocity at $t=-1$ and $t=6$.\n",
        "\n",
        "\n",
        "__(3)__ Find an expression for the acceleration of the particle. Hence evaluate the acceleration at $t=-2$ and $t=4$.\n",
        "\n",
        "\n",
        "__(4)__ Use the __sympy__ function __solve()__ to determine when the velocity is $8$.\n",
        "\n",
        "\n",
        "__(5)__ Use __solve()__ to determine the time when the acceleration is $6$.\n",
        "\n",
        "\n",
        "__(6)__ Plot the graph of the position, velocity and accleration."
      ]
    },
    {
      "cell_type": "code",
      "metadata": {
        "id": "vPVaPLJY_MPA",
        "outputId": "a727ba1c-da5e-4345-8252-5abb8b8fa575",
        "colab": {
          "base_uri": "https://localhost:8080/",
          "height": 38
        }
      },
      "source": [
        "D=4*t**3-16*t**2+25\n",
        "D"
      ],
      "execution_count": 32,
      "outputs": [
        {
          "output_type": "execute_result",
          "data": {
            "image/png": "[encoded data removed]",
            "text/latex": "$\\displaystyle 4 t^{3} - 16 t^{2} + 25$",
            "text/plain": [
              "   3       2     \n",
              "4⋅t  - 16⋅t  + 25"
            ]
          },
          "metadata": {
            "tags": []
          },
          "execution_count": 32
        }
      ]
    },
    {
      "cell_type": "code",
      "metadata": {
        "id": "TjGFbwKG_MPA",
        "outputId": "b8092420-fe5e-4880-bfe1-b35f91db3961",
        "colab": {
          "base_uri": "https://localhost:8080/",
          "height": 37
        }
      },
      "source": [
        "D.subs(t,-3), D.subs(t,3)"
      ],
      "execution_count": 33,
      "outputs": [
        {
          "output_type": "execute_result",
          "data": {
            "image/png": "[encoded data removed]",
            "text/latex": "$\\displaystyle \\left( -227, \\  -11\\right)$",
            "text/plain": [
              "(-227, -11)"
            ]
          },
          "metadata": {
            "tags": []
          },
          "execution_count": 33
        }
      ]
    },
    {
      "cell_type": "code",
      "metadata": {
        "id": "MDu4RAZN_MPB",
        "outputId": "d4d02fc7-d54b-4cab-911d-8becee37966d",
        "colab": {
          "base_uri": "https://localhost:8080/",
          "height": 38
        }
      },
      "source": [
        "v=diff(D,t)\n",
        "v"
      ],
      "execution_count": 34,
      "outputs": [
        {
          "output_type": "execute_result",
          "data": {
            "image/png": "[encoded data removed]",
            "text/latex": "$\\displaystyle 12 t^{2} - 32 t$",
            "text/plain": [
              "    2       \n",
              "12⋅t  - 32⋅t"
            ]
          },
          "metadata": {
            "tags": []
          },
          "execution_count": 34
        }
      ]
    },
    {
      "cell_type": "code",
      "metadata": {
        "id": "t6PRCCOl_MPB",
        "outputId": "b4060a1b-260d-4dd5-f2d2-8b342b70ce47",
        "colab": {
          "base_uri": "https://localhost:8080/",
          "height": 37
        }
      },
      "source": [
        "v.subs(t,-1), v.subs(t,6)"
      ],
      "execution_count": 35,
      "outputs": [
        {
          "output_type": "execute_result",
          "data": {
            "image/png": "[encoded data removed]",
            "text/latex": "$\\displaystyle \\left( 44, \\  240\\right)$",
            "text/plain": [
              "(44, 240)"
            ]
          },
          "metadata": {
            "tags": []
          },
          "execution_count": 35
        }
      ]
    },
    {
      "cell_type": "code",
      "metadata": {
        "id": "9DaGZAzt_MPB",
        "outputId": "4c41e279-f774-4a16-aa47-44e200fdcb83",
        "colab": {
          "base_uri": "https://localhost:8080/",
          "height": 38
        }
      },
      "source": [
        "a=diff(D,t,2)\n",
        "a"
      ],
      "execution_count": 36,
      "outputs": [
        {
          "output_type": "execute_result",
          "data": {
            "image/png": "[encoded data removed]",
            "text/latex": "$\\displaystyle 8 \\left(3 t - 4\\right)$",
            "text/plain": [
              "8⋅(3⋅t - 4)"
            ]
          },
          "metadata": {
            "tags": []
          },
          "execution_count": 36
        }
      ]
    },
    {
      "cell_type": "code",
      "metadata": {
        "id": "gVJFfPD__MPC",
        "outputId": "0bcd83ee-9ff7-4a8a-abd3-206bcbb6498c",
        "colab": {
          "base_uri": "https://localhost:8080/",
          "height": 37
        }
      },
      "source": [
        "a.subs(t,-2), a.subs(t,4)"
      ],
      "execution_count": 37,
      "outputs": [
        {
          "output_type": "execute_result",
          "data": {
            "image/png": "[encoded data removed]",
            "text/latex": "$\\displaystyle \\left( -80, \\  64\\right)$",
            "text/plain": [
              "(-80, 64)"
            ]
          },
          "metadata": {
            "tags": []
          },
          "execution_count": 37
        }
      ]
    },
    {
      "cell_type": "code",
      "metadata": {
        "id": "oXY4s3XUeg8v",
        "outputId": "3a61318d-2612-4d4d-f370-8dc76193c552",
        "colab": {
          "base_uri": "https://localhost:8080/",
          "height": 58
        }
      },
      "source": [
        "solve(v,t)"
      ],
      "execution_count": 38,
      "outputs": [
        {
          "output_type": "execute_result",
          "data": {
            "image/png": "[encoded data removed]",
            "text/latex": "$\\displaystyle \\left[ 0, \\  \\frac{8}{3}\\right]$",
            "text/plain": [
              "[0, 8/3]"
            ]
          },
          "metadata": {
            "tags": []
          },
          "execution_count": 38
        }
      ]
    },
    {
      "cell_type": "code",
      "metadata": {
        "id": "78H3HGl8egzQ",
        "outputId": "4941dcee-9bf6-4899-e8c6-088b1841772d",
        "colab": {
          "base_uri": "https://localhost:8080/",
          "height": 58
        }
      },
      "source": [
        "solve(a-6,t)"
      ],
      "execution_count": 39,
      "outputs": [
        {
          "output_type": "execute_result",
          "data": {
            "image/png": "[encoded data removed]",
            "text/latex": "$\\displaystyle \\left[ \\frac{19}{12}\\right]$",
            "text/plain": [
              "⎡19⎤\n",
              "⎢──⎥\n",
              "⎣12⎦"
            ]
          },
          "metadata": {
            "tags": []
          },
          "execution_count": 39
        }
      ]
    },
    {
      "cell_type": "code",
      "metadata": {
        "id": "bH9kQvtxegfx",
        "outputId": "d10dcc55-fa71-4f7e-815e-b88e7488ca65",
        "colab": {
          "base_uri": "https://localhost:8080/",
          "height": 297
        }
      },
      "source": [
        "P2=plot(D,v,a,(t,-3,3), show=False)\n",
        "P2[0].line_color = 'aqua'\n",
        "P2[1].line_color = 'firebrick'\n",
        "P2[2].line_color = 'springgreen'\n",
        "P2.show()"
      ],
      "execution_count": 42,
      "outputs": [
        {
          "output_type": "display_data",
          "data": {
            "image/png": "[encoded data removed]",
            "text/plain": [
              "<Figure size 432x288 with 1 Axes>"
            ]
          },
          "metadata": {
            "tags": [],
            "needs_background": "light"
          }
        }
      ]
    },
    {
      "cell_type": "code",
      "metadata": {
        "id": "w7LFO8EbegUY"
      },
      "source": [
        ""
      ],
      "execution_count": null,
      "outputs": []
    }
  ]
}